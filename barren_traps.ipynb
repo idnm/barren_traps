{
 "cells": [
  {
   "cell_type": "code",
   "execution_count": 4,
   "id": "initial_id",
   "metadata": {
    "collapsed": true,
    "ExecuteTime": {
     "end_time": "2024-03-27T09:02:20.879178Z",
     "start_time": "2024-03-27T09:02:15.090630Z"
    }
   },
   "outputs": [],
   "source": [
    "import jaxopt\n",
    "import matplotlib.pyplot as plt\n",
    "import numpy as np\n",
    "import optax\n",
    "\n",
    "from experiments import find_nonzero_pauli, find_fixed_angles\n",
    "from pauli import all_local_two_body_pauli, all_two_body_pauli\n",
    "from traps import LocalVQA\n",
    "\n",
    "import jax\n",
    "\n",
    "jax.config.update(\"jax_enable_x64\", True)"
   ]
  },
  {
   "cell_type": "code",
   "outputs": [
    {
     "name": "stdout",
     "output_type": "stream",
     "text": [
      "0: ──RX(0.00)─┤  \n",
      "1: ──RX(0.00)─┤  \n"
     ]
    },
    {
     "ename": "TypeError",
     "evalue": "Argument type <class 'numpy.ndarray'> is not a valid JAX type.",
     "output_type": "error",
     "traceback": [
      "\u001B[0;31m---------------------------------------------------------------------------\u001B[0m",
      "\u001B[0;31mTypeError\u001B[0m                                 Traceback (most recent call last)",
      "Cell \u001B[0;32mIn[19], line 135\u001B[0m\n\u001B[1;32m    133\u001B[0m vqa \u001B[38;5;241m=\u001B[39m LocalVQA(\u001B[38;5;241m2\u001B[39m, \u001B[38;5;241m3\u001B[39m)\n\u001B[1;32m    134\u001B[0m \u001B[38;5;28mprint\u001B[39m(qml\u001B[38;5;241m.\u001B[39mdraw(vqa\u001B[38;5;241m.\u001B[39mpenny_circuit)(()))\n\u001B[0;32m--> 135\u001B[0m ev \u001B[38;5;241m=\u001B[39m \u001B[43mvqa\u001B[49m\u001B[38;5;241;43m.\u001B[39;49m\u001B[43mexpval\u001B[49m\u001B[43m(\u001B[49m\u001B[43m[\u001B[49m\u001B[38;5;124;43m'\u001B[39;49m\u001B[38;5;124;43mXX\u001B[39;49m\u001B[38;5;124;43m'\u001B[39;49m\u001B[43m]\u001B[49m\u001B[43m)\u001B[49m\n\u001B[1;32m    137\u001B[0m \u001B[38;5;66;03m# ev(x)\u001B[39;00m\n",
      "Cell \u001B[0;32mIn[19], line 123\u001B[0m, in \u001B[0;36mLocalVQA.expval\u001B[0;34m(self, pauli_strings)\u001B[0m\n\u001B[1;32m    120\u001B[0m     \u001B[38;5;28;01mreturn\u001B[39;00m qml\u001B[38;5;241m.\u001B[39mstate()\n\u001B[1;32m    122\u001B[0m observables \u001B[38;5;241m=\u001B[39m [qml\u001B[38;5;241m.\u001B[39mpauli\u001B[38;5;241m.\u001B[39mstring_to_pauli_word(pauli) \u001B[38;5;28;01mfor\u001B[39;00m pauli \u001B[38;5;129;01min\u001B[39;00m pauli_strings]\n\u001B[0;32m--> 123\u001B[0m \u001B[43m\u001B[49m\u001B[38;5;129;43m@qml\u001B[39;49m\u001B[38;5;241;43m.\u001B[39;49m\u001B[43mqjit\u001B[49m\n\u001B[1;32m    124\u001B[0m \u001B[43m\u001B[49m\u001B[38;5;28;43;01mdef\u001B[39;49;00m\u001B[43m \u001B[49m\u001B[38;5;21;43mexpectation\u001B[39;49m\u001B[43m(\u001B[49m\u001B[43mx\u001B[49m\u001B[43m:\u001B[49m\u001B[43m \u001B[49m\u001B[43mnp\u001B[49m\u001B[38;5;241;43m.\u001B[39;49m\u001B[43mndarray\u001B[49m\u001B[43m)\u001B[49m\u001B[43m \u001B[49m\u001B[38;5;241;43m-\u001B[39;49m\u001B[38;5;241;43m>\u001B[39;49m\u001B[43m \u001B[49m\u001B[43mnp\u001B[49m\u001B[38;5;241;43m.\u001B[39;49m\u001B[43mndarray\u001B[49m\u001B[43m:\u001B[49m\n\u001B[1;32m    125\u001B[0m \u001B[43m    \u001B[49m\u001B[43mstate\u001B[49m\u001B[43m \u001B[49m\u001B[38;5;241;43m=\u001B[39;49m\u001B[43m \u001B[49m\u001B[43mcirc\u001B[49m\u001B[43m(\u001B[49m\u001B[43mx\u001B[49m\u001B[43m)\u001B[49m\u001B[43m \u001B[49m\u001B[38;5;66;43;03m# .reshape([2] * self.num_qubits)\u001B[39;49;00m\n\u001B[1;32m    126\u001B[0m \u001B[43m    \u001B[49m\u001B[38;5;28;43;01mreturn\u001B[39;49;00m\u001B[43m \u001B[49m\u001B[43mstate\u001B[49m\n",
      "File \u001B[0;32m~/coding/barren_traps/.venv/lib/python3.12/site-packages/pennylane/compiler/qjit_api.py:301\u001B[0m, in \u001B[0;36mqjit\u001B[0;34m(fn, compiler, *args, **kwargs)\u001B[0m\n\u001B[1;32m    299\u001B[0m compilers \u001B[38;5;241m=\u001B[39m AvailableCompilers\u001B[38;5;241m.\u001B[39mnames_entrypoints\n\u001B[1;32m    300\u001B[0m qjit_loader \u001B[38;5;241m=\u001B[39m compilers[compiler][\u001B[38;5;124m\"\u001B[39m\u001B[38;5;124mqjit\u001B[39m\u001B[38;5;124m\"\u001B[39m]\u001B[38;5;241m.\u001B[39mload()\n\u001B[0;32m--> 301\u001B[0m \u001B[38;5;28;01mreturn\u001B[39;00m \u001B[43mqjit_loader\u001B[49m\u001B[43m(\u001B[49m\u001B[43mfn\u001B[49m\u001B[38;5;241;43m=\u001B[39;49m\u001B[43mfn\u001B[49m\u001B[43m,\u001B[49m\u001B[43m \u001B[49m\u001B[38;5;241;43m*\u001B[39;49m\u001B[43margs\u001B[49m\u001B[43m,\u001B[49m\u001B[43m \u001B[49m\u001B[38;5;241;43m*\u001B[39;49m\u001B[38;5;241;43m*\u001B[39;49m\u001B[43mkwargs\u001B[49m\u001B[43m)\u001B[49m\n",
      "File \u001B[0;32m~/coding/barren_traps/.venv/lib/python3.12/site-packages/catalyst/jit.py:727\u001B[0m, in \u001B[0;36mqjit\u001B[0;34m(fn, autograph, async_qnodes, target, keep_intermediate, verbose, logfile, pipelines, static_argnums, abstracted_axes)\u001B[0m\n\u001B[1;32m    725\u001B[0m axes \u001B[38;5;241m=\u001B[39m abstracted_axes\n\u001B[1;32m    726\u001B[0m \u001B[38;5;28;01mif\u001B[39;00m fn \u001B[38;5;129;01mis\u001B[39;00m \u001B[38;5;129;01mnot\u001B[39;00m \u001B[38;5;28;01mNone\u001B[39;00m:\n\u001B[0;32m--> 727\u001B[0m     \u001B[38;5;28;01mreturn\u001B[39;00m \u001B[43mQJIT\u001B[49m\u001B[43m(\u001B[49m\n\u001B[1;32m    728\u001B[0m \u001B[43m        \u001B[49m\u001B[43mfn\u001B[49m\u001B[43m,\u001B[49m\n\u001B[1;32m    729\u001B[0m \u001B[43m        \u001B[49m\u001B[43mCompileOptions\u001B[49m\u001B[43m(\u001B[49m\n\u001B[1;32m    730\u001B[0m \u001B[43m            \u001B[49m\u001B[43mverbose\u001B[49m\u001B[43m,\u001B[49m\n\u001B[1;32m    731\u001B[0m \u001B[43m            \u001B[49m\u001B[43mlogfile\u001B[49m\u001B[43m,\u001B[49m\n\u001B[1;32m    732\u001B[0m \u001B[43m            \u001B[49m\u001B[43mtarget\u001B[49m\u001B[43m,\u001B[49m\n\u001B[1;32m    733\u001B[0m \u001B[43m            \u001B[49m\u001B[43mkeep_intermediate\u001B[49m\u001B[43m,\u001B[49m\n\u001B[1;32m    734\u001B[0m \u001B[43m            \u001B[49m\u001B[43mpipelines\u001B[49m\u001B[43m,\u001B[49m\n\u001B[1;32m    735\u001B[0m \u001B[43m            \u001B[49m\u001B[43mautograph\u001B[49m\u001B[43m,\u001B[49m\n\u001B[1;32m    736\u001B[0m \u001B[43m            \u001B[49m\u001B[43masync_qnodes\u001B[49m\u001B[43m,\u001B[49m\n\u001B[1;32m    737\u001B[0m \u001B[43m            \u001B[49m\u001B[43mstatic_argnums\u001B[49m\u001B[38;5;241;43m=\u001B[39;49m\u001B[43margnums\u001B[49m\u001B[43m,\u001B[49m\n\u001B[1;32m    738\u001B[0m \u001B[43m            \u001B[49m\u001B[43mabstracted_axes\u001B[49m\u001B[38;5;241;43m=\u001B[39;49m\u001B[43maxes\u001B[49m\u001B[43m,\u001B[49m\n\u001B[1;32m    739\u001B[0m \u001B[43m        \u001B[49m\u001B[43m)\u001B[49m\u001B[43m,\u001B[49m\n\u001B[1;32m    740\u001B[0m \u001B[43m    \u001B[49m\u001B[43m)\u001B[49m\n\u001B[1;32m    742\u001B[0m \u001B[38;5;28;01mdef\u001B[39;00m \u001B[38;5;21mwrap_fn\u001B[39m(fn):\n\u001B[1;32m    743\u001B[0m     \u001B[38;5;28;01mreturn\u001B[39;00m QJIT(\n\u001B[1;32m    744\u001B[0m         fn,\n\u001B[1;32m    745\u001B[0m         CompileOptions(\n\u001B[0;32m   (...)\u001B[0m\n\u001B[1;32m    755\u001B[0m         ),\n\u001B[1;32m    756\u001B[0m     )\n",
      "File \u001B[0;32m~/coding/barren_traps/.venv/lib/python3.12/site-packages/catalyst/jit.py:101\u001B[0m, in \u001B[0;36mQJIT.__init__\u001B[0;34m(self, fn, compile_options)\u001B[0m\n\u001B[1;32m     99\u001B[0m \u001B[38;5;66;03m# Static arguments require values, so we cannot AOT compile.\u001B[39;00m\n\u001B[1;32m    100\u001B[0m \u001B[38;5;28;01mif\u001B[39;00m \u001B[38;5;28mself\u001B[39m\u001B[38;5;241m.\u001B[39muser_sig \u001B[38;5;129;01mis\u001B[39;00m \u001B[38;5;129;01mnot\u001B[39;00m \u001B[38;5;28;01mNone\u001B[39;00m \u001B[38;5;129;01mand\u001B[39;00m \u001B[38;5;129;01mnot\u001B[39;00m \u001B[38;5;28mself\u001B[39m\u001B[38;5;241m.\u001B[39mcompile_options\u001B[38;5;241m.\u001B[39mstatic_argnums:\n\u001B[0;32m--> 101\u001B[0m     \u001B[38;5;28;43mself\u001B[39;49m\u001B[38;5;241;43m.\u001B[39;49m\u001B[43maot_compile\u001B[49m\u001B[43m(\u001B[49m\u001B[43m)\u001B[49m\n",
      "File \u001B[0;32m~/coding/barren_traps/.venv/lib/python3.12/site-packages/catalyst/jit.py:129\u001B[0m, in \u001B[0;36mQJIT.aot_compile\u001B[0;34m(self)\u001B[0m\n\u001B[1;32m    127\u001B[0m \u001B[38;5;66;03m# TODO: awkward, refactor or redesign the target feature\u001B[39;00m\n\u001B[1;32m    128\u001B[0m \u001B[38;5;28;01mif\u001B[39;00m \u001B[38;5;28mself\u001B[39m\u001B[38;5;241m.\u001B[39mcompile_options\u001B[38;5;241m.\u001B[39mtarget \u001B[38;5;129;01min\u001B[39;00m (\u001B[38;5;124m\"\u001B[39m\u001B[38;5;124mjaxpr\u001B[39m\u001B[38;5;124m\"\u001B[39m, \u001B[38;5;124m\"\u001B[39m\u001B[38;5;124mmlir\u001B[39m\u001B[38;5;124m\"\u001B[39m, \u001B[38;5;124m\"\u001B[39m\u001B[38;5;124mbinary\u001B[39m\u001B[38;5;124m\"\u001B[39m):\n\u001B[0;32m--> 129\u001B[0m     \u001B[38;5;28mself\u001B[39m\u001B[38;5;241m.\u001B[39mjaxpr, \u001B[38;5;28mself\u001B[39m\u001B[38;5;241m.\u001B[39mout_treedef, \u001B[38;5;28mself\u001B[39m\u001B[38;5;241m.\u001B[39mc_sig \u001B[38;5;241m=\u001B[39m \u001B[38;5;28;43mself\u001B[39;49m\u001B[38;5;241;43m.\u001B[39;49m\u001B[43mcapture\u001B[49m\u001B[43m(\u001B[49m\u001B[38;5;28;43mself\u001B[39;49m\u001B[38;5;241;43m.\u001B[39;49m\u001B[43muser_sig\u001B[49m\u001B[43m \u001B[49m\u001B[38;5;129;43;01mor\u001B[39;49;00m\u001B[43m \u001B[49m\u001B[43m(\u001B[49m\u001B[43m)\u001B[49m\u001B[43m)\u001B[49m\n\u001B[1;32m    131\u001B[0m \u001B[38;5;28;01mif\u001B[39;00m \u001B[38;5;28mself\u001B[39m\u001B[38;5;241m.\u001B[39mcompile_options\u001B[38;5;241m.\u001B[39mtarget \u001B[38;5;129;01min\u001B[39;00m (\u001B[38;5;124m\"\u001B[39m\u001B[38;5;124mmlir\u001B[39m\u001B[38;5;124m\"\u001B[39m, \u001B[38;5;124m\"\u001B[39m\u001B[38;5;124mbinary\u001B[39m\u001B[38;5;124m\"\u001B[39m):\n\u001B[1;32m    132\u001B[0m     \u001B[38;5;28mself\u001B[39m\u001B[38;5;241m.\u001B[39mmlir_module, \u001B[38;5;28mself\u001B[39m\u001B[38;5;241m.\u001B[39mmlir \u001B[38;5;241m=\u001B[39m \u001B[38;5;28mself\u001B[39m\u001B[38;5;241m.\u001B[39mgenerate_ir()\n",
      "File \u001B[0;32m~/coding/barren_traps/.venv/lib/python3.12/site-packages/catalyst/jit.py:213\u001B[0m, in \u001B[0;36mQJIT.capture\u001B[0;34m(self, args)\u001B[0m\n\u001B[1;32m    210\u001B[0m abstracted_axes \u001B[38;5;241m=\u001B[39m \u001B[38;5;28mself\u001B[39m\u001B[38;5;241m.\u001B[39mcompile_options\u001B[38;5;241m.\u001B[39mabstracted_axes\n\u001B[1;32m    212\u001B[0m dynamic_args \u001B[38;5;241m=\u001B[39m filter_static_args(args, static_argnums)\n\u001B[0;32m--> 213\u001B[0m dynamic_sig \u001B[38;5;241m=\u001B[39m \u001B[43mget_abstract_signature\u001B[49m\u001B[43m(\u001B[49m\u001B[43mdynamic_args\u001B[49m\u001B[43m)\u001B[49m\n\u001B[1;32m    214\u001B[0m full_sig \u001B[38;5;241m=\u001B[39m merge_static_args(dynamic_sig, args, static_argnums)\n\u001B[1;32m    216\u001B[0m \u001B[38;5;28;01mwith\u001B[39;00m Patcher(\n\u001B[1;32m    217\u001B[0m     (qml\u001B[38;5;241m.\u001B[39mQNode, \u001B[38;5;124m\"\u001B[39m\u001B[38;5;124m__call__\u001B[39m\u001B[38;5;124m\"\u001B[39m, catalyst\u001B[38;5;241m.\u001B[39mpennylane_extensions\u001B[38;5;241m.\u001B[39mQFunc\u001B[38;5;241m.\u001B[39m\u001B[38;5;21m__call__\u001B[39m),\n\u001B[1;32m    218\u001B[0m ):\n\u001B[1;32m    219\u001B[0m     \u001B[38;5;66;03m# TODO: improve PyTree handling\u001B[39;00m\n",
      "File \u001B[0;32m~/coding/barren_traps/.venv/lib/python3.12/site-packages/catalyst/tracing/type_signatures.py:62\u001B[0m, in \u001B[0;36mget_abstract_signature\u001B[0;34m(args)\u001B[0m\n\u001B[1;32m     52\u001B[0m \u001B[38;5;250m\u001B[39m\u001B[38;5;124;03m\"\"\"Get abstract values from real arguments, preserving PyTrees.\u001B[39;00m\n\u001B[1;32m     53\u001B[0m \n\u001B[1;32m     54\u001B[0m \u001B[38;5;124;03mArgs:\u001B[39;00m\n\u001B[0;32m   (...)\u001B[0m\n\u001B[1;32m     58\u001B[0m \u001B[38;5;124;03m    Iterable: ShapedArrays for the provided values\u001B[39;00m\n\u001B[1;32m     59\u001B[0m \u001B[38;5;124;03m\"\"\"\u001B[39;00m\n\u001B[1;32m     60\u001B[0m flat_args, treedef \u001B[38;5;241m=\u001B[39m tree_flatten(args)\n\u001B[0;32m---> 62\u001B[0m abstract_args \u001B[38;5;241m=\u001B[39m [\u001B[43mshaped_abstractify\u001B[49m\u001B[43m(\u001B[49m\u001B[43marg\u001B[49m\u001B[43m)\u001B[49m \u001B[38;5;28;01mfor\u001B[39;00m arg \u001B[38;5;129;01min\u001B[39;00m flat_args]\n\u001B[1;32m     64\u001B[0m \u001B[38;5;28;01mreturn\u001B[39;00m tree_unflatten(treedef, abstract_args)\n",
      "File \u001B[0;32m~/coding/barren_traps/.venv/lib/python3.12/site-packages/jax/_src/api_util.py:584\u001B[0m, in \u001B[0;36mshaped_abstractify\u001B[0;34m(x)\u001B[0m\n\u001B[1;32m    582\u001B[0m \u001B[38;5;28;01mdef\u001B[39;00m \u001B[38;5;21mshaped_abstractify\u001B[39m(x):\n\u001B[1;32m    583\u001B[0m   \u001B[38;5;28;01mtry\u001B[39;00m:\n\u001B[0;32m--> 584\u001B[0m     \u001B[38;5;28;01mreturn\u001B[39;00m \u001B[43m_shaped_abstractify_handlers\u001B[49m\u001B[43m[\u001B[49m\u001B[38;5;28;43mtype\u001B[39;49m\u001B[43m(\u001B[49m\u001B[43mx\u001B[49m\u001B[43m)\u001B[49m\u001B[43m]\u001B[49m\u001B[43m(\u001B[49m\u001B[43mx\u001B[49m\u001B[43m)\u001B[49m\n\u001B[1;32m    585\u001B[0m   \u001B[38;5;28;01mexcept\u001B[39;00m \u001B[38;5;167;01mKeyError\u001B[39;00m:\n\u001B[1;32m    586\u001B[0m     \u001B[38;5;28;01mreturn\u001B[39;00m _shaped_abstractify_slow(x)\n",
      "File \u001B[0;32m~/coding/barren_traps/.venv/lib/python3.12/site-packages/catalyst/jax_primitives.py:1686\u001B[0m, in \u001B[0;36m_scalar_abstractify\u001B[0;34m(t)\u001B[0m\n\u001B[1;32m   1684\u001B[0m \u001B[38;5;28;01mif\u001B[39;00m t \u001B[38;5;129;01min\u001B[39;00m {\u001B[38;5;28mint\u001B[39m, \u001B[38;5;28mfloat\u001B[39m, \u001B[38;5;28mcomplex\u001B[39m, \u001B[38;5;28mbool\u001B[39m} \u001B[38;5;129;01mor\u001B[39;00m \u001B[38;5;28misinstance\u001B[39m(t, jax\u001B[38;5;241m.\u001B[39m_src\u001B[38;5;241m.\u001B[39mnumpy\u001B[38;5;241m.\u001B[39mlax_numpy\u001B[38;5;241m.\u001B[39m_ScalarMeta):\n\u001B[1;32m   1685\u001B[0m     \u001B[38;5;28;01mreturn\u001B[39;00m core\u001B[38;5;241m.\u001B[39mShapedArray([], dtype\u001B[38;5;241m=\u001B[39mt, weak_type\u001B[38;5;241m=\u001B[39m\u001B[38;5;28;01mTrue\u001B[39;00m)\n\u001B[0;32m-> 1686\u001B[0m \u001B[38;5;28;01mraise\u001B[39;00m \u001B[38;5;167;01mTypeError\u001B[39;00m(\u001B[38;5;124mf\u001B[39m\u001B[38;5;124m\"\u001B[39m\u001B[38;5;124mArgument type \u001B[39m\u001B[38;5;132;01m{\u001B[39;00mt\u001B[38;5;132;01m}\u001B[39;00m\u001B[38;5;124m is not a valid JAX type.\u001B[39m\u001B[38;5;124m\"\u001B[39m)\n",
      "\u001B[0;31mTypeError\u001B[0m: Argument type <class 'numpy.ndarray'> is not a valid JAX type."
     ]
    }
   ],
   "source": [
    "from typing import List, Sequence, Callable, Union\n",
    "from qiskit import QuantumCircuit\n",
    "from qiskit.circuit import Parameter\n",
    "import numpy as np\n",
    "import pennylane as qml\n",
    "import jax.numpy as jnp\n",
    "\n",
    "\n",
    "class LocalVQA:\n",
    "    def __init__(self, num_qubits: int, num_layers: int):\n",
    "\n",
    "        assert num_qubits % 2 == 0\n",
    "        self.num_qubits = num_qubits\n",
    "        self.num_layers = num_layers\n",
    "\n",
    "        # Parameters for qiskit circuit\n",
    "        self._x0 = [Parameter(f'x{n}') for n in range(self.num_qubits)]\n",
    "        self._z0 = [Parameter(f'z{n}') for n in range(self.num_qubits)]\n",
    "        self._x = [[Parameter(f'x{n}{l}') for n in range(self.num_qubits)] for l in range(self.num_layers)]\n",
    "        self._z = [[Parameter(f'z{n}{l}') for n in range(self.num_qubits)] for l in range(self.num_layers)]\n",
    "\n",
    "    @property\n",
    "    def num_initial_parameters(self) -> int:\n",
    "        return 2 * self.num_qubits\n",
    "\n",
    "    @property\n",
    "    def num_entangling_parameters(self) -> int:\n",
    "        return 2 * self.num_qubits * self.num_layers\n",
    "\n",
    "    @property\n",
    "    def num_parameters(self) -> int:\n",
    "        return self.num_initial_parameters + self.num_entangling_parameters\n",
    "\n",
    "    @property\n",
    "    def _flat_params(self) -> List[Parameter]:\n",
    "        return self._x0 + self._z0 + [xnl for xn in self._x for xnl in xn] + [znl for zn in self._z for znl in zn]\n",
    "\n",
    "    def _params_dict(self, params: np.ndarray) -> dict:\n",
    "        return dict(zip(self._flat_params, params))\n",
    "\n",
    "    @property\n",
    "    def initial_circuit(self):\n",
    "        qc = QuantumCircuit(self.num_qubits)\n",
    "        for n in range(self.num_qubits):\n",
    "            qc.rx(self._x0[n], n)\n",
    "            qc.rz(self._z0[n], n)\n",
    "\n",
    "        return qc\n",
    "\n",
    "    def entangling_layer(self, x, z, start=0):\n",
    "        qc = QuantumCircuit(self.num_qubits)\n",
    "        for n in range(start, self.num_qubits + start, 2):\n",
    "            i = n % self.num_qubits\n",
    "            j = (n + 1) % self.num_qubits\n",
    "            qc.cz(i, j)\n",
    "\n",
    "        for n in range(self.num_qubits):\n",
    "            qc.rx(x[n], n)\n",
    "            qc.rz(z[n], n)\n",
    "\n",
    "        return qc\n",
    "\n",
    "    @property\n",
    "    def all_entangling_layers(self):\n",
    "        qc = QuantumCircuit(self.num_qubits)\n",
    "\n",
    "        s = 0\n",
    "        for xi, zi in zip(self._x, self._z):\n",
    "            qc.compose(self.entangling_layer(xi, zi, start=s), inplace=True)\n",
    "            s = 1 - s\n",
    "\n",
    "        return qc\n",
    "\n",
    "    def split_params(self, params: np.ndarray) -> Sequence[np.ndarray]:\n",
    "        n = self.num_qubits\n",
    "        x0 = params[:n]\n",
    "        z0 = params[n: 2 * n]\n",
    "\n",
    "        num_x = len(params[2 * n:]) // 2\n",
    "        x = params[2 * n: 2 * n + num_x]\n",
    "        z = params[2 * n + num_x:]\n",
    "\n",
    "        return x0, z0, x.reshape(self.num_layers, self.num_qubits), z.reshape(self.num_layers, self.num_qubits)\n",
    "\n",
    "    @property\n",
    "    def qiskit_circuit(self) -> QuantumCircuit:\n",
    "        qc = QuantumCircuit(self.num_qubits)\n",
    "        qc.compose(self.initial_circuit, inplace=True)\n",
    "        qc.compose(self.all_entangling_layers, inplace=True)\n",
    "        return qc\n",
    "\n",
    "    @property\n",
    "    def penny_circuit_from_qiskit(self):\n",
    "        return qml.from_qiskit(self.qiskit_circuit)\n",
    "\n",
    "    def penny_circuit(self, params):\n",
    "\n",
    "        for n in range(self.num_qubits):\n",
    "            qml.RX(0, wires=n)\n",
    "\n",
    "\n",
    "    def expval(self, pauli_strings: Sequence[str]) -> Callable[[np.ndarray], np.ndarray]:\n",
    "\n",
    "        dev = qml.device('lightning.qubit', wires=self.num_qubits)\n",
    "        @qml.qnode(dev)\n",
    "        def circ(x: np.ndarray):\n",
    "            self.penny_circuit(x)\n",
    "            return qml.state()\n",
    "\n",
    "        observables = [qml.pauli.string_to_pauli_word(pauli) for pauli in pauli_strings]\n",
    "        @qml.qjit\n",
    "        def expectation(x: np.ndarray) -> np.ndarray:\n",
    "            state = circ(x) # .reshape([2] * self.num_qubits)\n",
    "            return state\n",
    "\n",
    "        return expectation\n",
    "    \n",
    "vqa = LocalVQA(2, 3)\n",
    "print(qml.draw(vqa.penny_circuit)(()))\n",
    "ev = vqa.expval(['XX'])\n",
    "\n",
    "# ev(x)\n"
   ],
   "metadata": {
    "collapsed": false,
    "ExecuteTime": {
     "end_time": "2024-03-27T20:10:30.049490Z",
     "start_time": "2024-03-27T20:10:29.569522Z"
    }
   },
   "id": "f2fdfa10c2e702c3",
   "execution_count": 19
  },
  {
   "cell_type": "code",
   "outputs": [
    {
     "data": {
      "text/plain": "array([1.+0.j, 0.+0.j, 0.+0.j, 0.+0.j])"
     },
     "execution_count": 57,
     "metadata": {},
     "output_type": "execute_result"
    }
   ],
   "source": [
    "from typing import Sequence\n",
    "from typing import Callable\n",
    "import pennylane as qml\n",
    "from catalyst import qjit\n",
    "import jax.numpy as jnp\n",
    "\n",
    "class myvqa:\n",
    "    def __init__(self, num_qubits):\n",
    "        self.num_qubits = num_qubits\n",
    "    \n",
    "    def penny_circuit(self, params):\n",
    "        # x0, z0, x, z = self.split_params(params)\n",
    "        x0 = jnp.zeros(self.num_qubits)\n",
    "        z0 = jnp.zeros(self.num_qubits)\n",
    "        for n in range(self.num_qubits):\n",
    "            qml.RX(x0[n], wires=n)\n",
    "            qml.RZ(z0[n], wires=n)\n",
    "    \n",
    "    def expval(self, pauli_strings):\n",
    "\n",
    "        dev = qml.device('lightning.qubit', wires=self.num_qubits)\n",
    "        @qml.qnode(dev)\n",
    "        def circ(x):\n",
    "            self.penny_circuit(x)\n",
    "            return qml.state()\n",
    "\n",
    "        observables = [qml.pauli.string_to_pauli_word(pauli) for pauli in pauli_strings]\n",
    "        @qml.qjit\n",
    "        def expectation(x):\n",
    "            state = circ(x) # .reshape([2] * self.num_qubits)\n",
    "            return state\n",
    "            # return qml.devices.qubit.measure(qml.expval(observables[0]), state)\n",
    "            # res = [qml.devices.qubit.measure(qml.expval(obs), state) for obs in observables]\n",
    "            # return jnp.asarray(res)\n",
    "\n",
    "        return expectation            \n",
    "\n",
    "    def expval0(self, observables):\n",
    "        \n",
    "        dev = qml.device('lightning.qubit', wires=self.num_qubits)\n",
    "        @qml.qnode(dev)\n",
    "        def circ(x):\n",
    "            self.penny_circuit(x)\n",
    "            return qml.state()\n",
    "        \n",
    "        @qml.qjit\n",
    "        def ev(x):\n",
    "            print('compling')\n",
    "            state = circ(x).reshape([2] * self.num_qubits)\n",
    "            return jnp.asarray([qml.devices.qubit.measure(qml.expval(qml.pauli.string_to_pauli_word(obs)), state) for obs in observables])\n",
    "        \n",
    "        return ev\n",
    "    \n",
    "num_qubits = 2\n",
    "vqa = myvqa(num_qubits)\n",
    "ev = vqa.expval(('X', 'Y', 'Z'))\n",
    "\n",
    "x = jnp.linspace(0, 1, num_qubits)\n",
    "ev(x)"
   ],
   "metadata": {
    "collapsed": false,
    "ExecuteTime": {
     "end_time": "2024-03-27T19:57:08.396850Z",
     "start_time": "2024-03-27T19:57:07.658546Z"
    }
   },
   "id": "68c7e90c82538080",
   "execution_count": 57
  },
  {
   "cell_type": "code",
   "outputs": [
    {
     "name": "stdout",
     "output_type": "stream",
     "text": [
      "compling\n"
     ]
    },
    {
     "ename": "AttributeError",
     "evalue": "'myvqa' object has no attribute 'num_layers'",
     "output_type": "error",
     "traceback": [
      "\u001B[0;31m---------------------------------------------------------------------------\u001B[0m",
      "\u001B[0;31mAttributeError\u001B[0m                            Traceback (most recent call last)",
      "Cell \u001B[0;32mIn[52], line 6\u001B[0m\n\u001B[1;32m      3\u001B[0m ev \u001B[38;5;241m=\u001B[39m vqa\u001B[38;5;241m.\u001B[39mexpval((\u001B[38;5;124m'\u001B[39m\u001B[38;5;124mX\u001B[39m\u001B[38;5;124m'\u001B[39m, \u001B[38;5;124m'\u001B[39m\u001B[38;5;124mY\u001B[39m\u001B[38;5;124m'\u001B[39m, \u001B[38;5;124m'\u001B[39m\u001B[38;5;124mZ\u001B[39m\u001B[38;5;124m'\u001B[39m))\n\u001B[1;32m      5\u001B[0m x \u001B[38;5;241m=\u001B[39m jnp\u001B[38;5;241m.\u001B[39mlinspace(\u001B[38;5;241m0\u001B[39m, \u001B[38;5;241m1\u001B[39m, num_qubits)\n\u001B[0;32m----> 6\u001B[0m \u001B[43mev\u001B[49m\u001B[43m(\u001B[49m\u001B[43mx\u001B[49m\u001B[43m)\u001B[49m\n",
      "File \u001B[0;32m~/coding/barren_traps/.venv/lib/python3.12/site-packages/catalyst/jit.py:108\u001B[0m, in \u001B[0;36mQJIT.__call__\u001B[0;34m(self, *args, **kwargs)\u001B[0m\n\u001B[1;32m    105\u001B[0m \u001B[38;5;28;01mif\u001B[39;00m EvaluationContext\u001B[38;5;241m.\u001B[39mis_tracing():\n\u001B[1;32m    106\u001B[0m     \u001B[38;5;28;01mreturn\u001B[39;00m \u001B[38;5;28mself\u001B[39m\u001B[38;5;241m.\u001B[39muser_function(\u001B[38;5;241m*\u001B[39margs, \u001B[38;5;241m*\u001B[39m\u001B[38;5;241m*\u001B[39mkwargs)\n\u001B[0;32m--> 108\u001B[0m requires_promotion \u001B[38;5;241m=\u001B[39m \u001B[38;5;28;43mself\u001B[39;49m\u001B[38;5;241;43m.\u001B[39;49m\u001B[43mjit_compile\u001B[49m\u001B[43m(\u001B[49m\u001B[43margs\u001B[49m\u001B[43m)\u001B[49m\n\u001B[1;32m    110\u001B[0m \u001B[38;5;66;03m# If we receive tracers as input, dispatch to the JAX integration.\u001B[39;00m\n\u001B[1;32m    111\u001B[0m \u001B[38;5;28;01mif\u001B[39;00m \u001B[38;5;28many\u001B[39m(\u001B[38;5;28misinstance\u001B[39m(arg, jax\u001B[38;5;241m.\u001B[39mcore\u001B[38;5;241m.\u001B[39mTracer) \u001B[38;5;28;01mfor\u001B[39;00m arg \u001B[38;5;129;01min\u001B[39;00m tree_flatten(args)[\u001B[38;5;241m0\u001B[39m]):\n",
      "File \u001B[0;32m~/coding/barren_traps/.venv/lib/python3.12/site-packages/catalyst/jit.py:167\u001B[0m, in \u001B[0;36mQJIT.jit_compile\u001B[0;34m(self, args)\u001B[0m\n\u001B[1;32m    164\u001B[0m \u001B[38;5;28;01mif\u001B[39;00m \u001B[38;5;28mself\u001B[39m\u001B[38;5;241m.\u001B[39mcompiled_function \u001B[38;5;129;01mand\u001B[39;00m \u001B[38;5;28mself\u001B[39m\u001B[38;5;241m.\u001B[39mcompiled_function\u001B[38;5;241m.\u001B[39mshared_object:\n\u001B[1;32m    165\u001B[0m     \u001B[38;5;28mself\u001B[39m\u001B[38;5;241m.\u001B[39mcompiled_function\u001B[38;5;241m.\u001B[39mshared_object\u001B[38;5;241m.\u001B[39mclose()\n\u001B[0;32m--> 167\u001B[0m \u001B[38;5;28mself\u001B[39m\u001B[38;5;241m.\u001B[39mjaxpr, \u001B[38;5;28mself\u001B[39m\u001B[38;5;241m.\u001B[39mout_treedef, \u001B[38;5;28mself\u001B[39m\u001B[38;5;241m.\u001B[39mc_sig \u001B[38;5;241m=\u001B[39m \u001B[38;5;28;43mself\u001B[39;49m\u001B[38;5;241;43m.\u001B[39;49m\u001B[43mcapture\u001B[49m\u001B[43m(\u001B[49m\u001B[43margs\u001B[49m\u001B[43m)\u001B[49m\n\u001B[1;32m    168\u001B[0m \u001B[38;5;28mself\u001B[39m\u001B[38;5;241m.\u001B[39mmlir_module, \u001B[38;5;28mself\u001B[39m\u001B[38;5;241m.\u001B[39mmlir \u001B[38;5;241m=\u001B[39m \u001B[38;5;28mself\u001B[39m\u001B[38;5;241m.\u001B[39mgenerate_ir()\n\u001B[1;32m    169\u001B[0m \u001B[38;5;28mself\u001B[39m\u001B[38;5;241m.\u001B[39mcompiled_function, \u001B[38;5;28mself\u001B[39m\u001B[38;5;241m.\u001B[39mqir \u001B[38;5;241m=\u001B[39m \u001B[38;5;28mself\u001B[39m\u001B[38;5;241m.\u001B[39mcompile()\n",
      "File \u001B[0;32m~/coding/barren_traps/.venv/lib/python3.12/site-packages/catalyst/jit.py:220\u001B[0m, in \u001B[0;36mQJIT.capture\u001B[0;34m(self, args)\u001B[0m\n\u001B[1;32m    214\u001B[0m full_sig \u001B[38;5;241m=\u001B[39m merge_static_args(dynamic_sig, args, static_argnums)\n\u001B[1;32m    216\u001B[0m \u001B[38;5;28;01mwith\u001B[39;00m Patcher(\n\u001B[1;32m    217\u001B[0m     (qml\u001B[38;5;241m.\u001B[39mQNode, \u001B[38;5;124m\"\u001B[39m\u001B[38;5;124m__call__\u001B[39m\u001B[38;5;124m\"\u001B[39m, catalyst\u001B[38;5;241m.\u001B[39mpennylane_extensions\u001B[38;5;241m.\u001B[39mQFunc\u001B[38;5;241m.\u001B[39m\u001B[38;5;21m__call__\u001B[39m),\n\u001B[1;32m    218\u001B[0m ):\n\u001B[1;32m    219\u001B[0m     \u001B[38;5;66;03m# TODO: improve PyTree handling\u001B[39;00m\n\u001B[0;32m--> 220\u001B[0m     jaxpr, treedef \u001B[38;5;241m=\u001B[39m \u001B[43mtrace_to_jaxpr\u001B[49m\u001B[43m(\u001B[49m\n\u001B[1;32m    221\u001B[0m \u001B[43m        \u001B[49m\u001B[38;5;28;43mself\u001B[39;49m\u001B[38;5;241;43m.\u001B[39;49m\u001B[43muser_function\u001B[49m\u001B[43m,\u001B[49m\u001B[43m \u001B[49m\u001B[43mstatic_argnums\u001B[49m\u001B[43m,\u001B[49m\u001B[43m \u001B[49m\u001B[43mabstracted_axes\u001B[49m\u001B[43m,\u001B[49m\u001B[43m \u001B[49m\u001B[43mfull_sig\u001B[49m\u001B[43m,\u001B[49m\u001B[43m \u001B[49m\u001B[43m{\u001B[49m\u001B[43m}\u001B[49m\n\u001B[1;32m    222\u001B[0m \u001B[43m    \u001B[49m\u001B[43m)\u001B[49m\n\u001B[1;32m    224\u001B[0m \u001B[38;5;28;01mreturn\u001B[39;00m jaxpr, treedef, dynamic_sig\n",
      "File \u001B[0;32m~/coding/barren_traps/.venv/lib/python3.12/site-packages/catalyst/jax_tracer.py:361\u001B[0m, in \u001B[0;36mtrace_to_jaxpr\u001B[0;34m(func, static_argnums, abstracted_axes, args, kwargs)\u001B[0m\n\u001B[1;32m    356\u001B[0m     \u001B[38;5;28;01mwith\u001B[39;00m EvaluationContext(EvaluationMode\u001B[38;5;241m.\u001B[39mCLASSICAL_COMPILATION):\n\u001B[1;32m    357\u001B[0m         make_jaxpr_kwargs \u001B[38;5;241m=\u001B[39m {\n\u001B[1;32m    358\u001B[0m             \u001B[38;5;124m\"\u001B[39m\u001B[38;5;124mstatic_argnums\u001B[39m\u001B[38;5;124m\"\u001B[39m: static_argnums,\n\u001B[1;32m    359\u001B[0m             \u001B[38;5;124m\"\u001B[39m\u001B[38;5;124mabstracted_axes\u001B[39m\u001B[38;5;124m\"\u001B[39m: abstracted_axes,\n\u001B[1;32m    360\u001B[0m         }\n\u001B[0;32m--> 361\u001B[0m         jaxpr, out_treedef \u001B[38;5;241m=\u001B[39m \u001B[43mmake_jaxpr2\u001B[49m\u001B[43m(\u001B[49m\u001B[43mfunc\u001B[49m\u001B[43m,\u001B[49m\u001B[43m \u001B[49m\u001B[38;5;241;43m*\u001B[39;49m\u001B[38;5;241;43m*\u001B[39;49m\u001B[43mmake_jaxpr_kwargs\u001B[49m\u001B[43m)\u001B[49m\u001B[43m(\u001B[49m\u001B[38;5;241;43m*\u001B[39;49m\u001B[43margs\u001B[49m\u001B[43m,\u001B[49m\u001B[43m \u001B[49m\u001B[38;5;241;43m*\u001B[39;49m\u001B[38;5;241;43m*\u001B[39;49m\u001B[43mkwargs\u001B[49m\u001B[43m)\u001B[49m\n\u001B[1;32m    363\u001B[0m \u001B[38;5;28;01mreturn\u001B[39;00m jaxpr, out_treedef\n",
      "File \u001B[0;32m~/coding/barren_traps/.venv/lib/python3.12/site-packages/catalyst/jax_extras/tracing.py:395\u001B[0m, in \u001B[0;36mmake_jaxpr2.<locals>.make_jaxpr_f\u001B[0;34m(*args, **kwargs)\u001B[0m\n\u001B[1;32m    393\u001B[0m     f, out_tree_promise \u001B[38;5;241m=\u001B[39m flatten_fun(f, in_tree)\n\u001B[1;32m    394\u001B[0m     f \u001B[38;5;241m=\u001B[39m annotate(f, in_type)\n\u001B[0;32m--> 395\u001B[0m     jaxpr, output_type, consts \u001B[38;5;241m=\u001B[39m \u001B[43mtrace_to_jaxpr_dynamic2\u001B[49m\u001B[43m(\u001B[49m\u001B[43mf\u001B[49m\u001B[43m)\u001B[49m\n\u001B[1;32m    396\u001B[0m closed_jaxpr \u001B[38;5;241m=\u001B[39m DynshapedClosedJaxpr(jaxpr, consts, output_type)\n\u001B[1;32m    397\u001B[0m \u001B[38;5;28;01mreturn\u001B[39;00m closed_jaxpr, out_tree_promise()\n",
      "File \u001B[0;32m~/coding/barren_traps/.venv/lib/python3.12/site-packages/jax/_src/profiler.py:336\u001B[0m, in \u001B[0;36mannotate_function.<locals>.wrapper\u001B[0;34m(*args, **kwargs)\u001B[0m\n\u001B[1;32m    333\u001B[0m \u001B[38;5;129m@wraps\u001B[39m(func)\n\u001B[1;32m    334\u001B[0m \u001B[38;5;28;01mdef\u001B[39;00m \u001B[38;5;21mwrapper\u001B[39m(\u001B[38;5;241m*\u001B[39margs, \u001B[38;5;241m*\u001B[39m\u001B[38;5;241m*\u001B[39mkwargs):\n\u001B[1;32m    335\u001B[0m   \u001B[38;5;28;01mwith\u001B[39;00m TraceAnnotation(name, \u001B[38;5;241m*\u001B[39m\u001B[38;5;241m*\u001B[39mdecorator_kwargs):\n\u001B[0;32m--> 336\u001B[0m     \u001B[38;5;28;01mreturn\u001B[39;00m \u001B[43mfunc\u001B[49m\u001B[43m(\u001B[49m\u001B[38;5;241;43m*\u001B[39;49m\u001B[43margs\u001B[49m\u001B[43m,\u001B[49m\u001B[43m \u001B[49m\u001B[38;5;241;43m*\u001B[39;49m\u001B[38;5;241;43m*\u001B[39;49m\u001B[43mkwargs\u001B[49m\u001B[43m)\u001B[49m\n\u001B[1;32m    337\u001B[0m   \u001B[38;5;28;01mreturn\u001B[39;00m wrapper\n",
      "File \u001B[0;32m~/coding/barren_traps/.venv/lib/python3.12/site-packages/jax/_src/interpreters/partial_eval.py:2324\u001B[0m, in \u001B[0;36mtrace_to_jaxpr_dynamic2\u001B[0;34m(fun, debug_info)\u001B[0m\n\u001B[1;32m   2322\u001B[0m \u001B[38;5;28;01mwith\u001B[39;00m core\u001B[38;5;241m.\u001B[39mnew_main(DynamicJaxprTrace, dynamic\u001B[38;5;241m=\u001B[39m\u001B[38;5;28;01mTrue\u001B[39;00m) \u001B[38;5;28;01mas\u001B[39;00m main:  \u001B[38;5;66;03m# type: ignore\u001B[39;00m\n\u001B[1;32m   2323\u001B[0m   main\u001B[38;5;241m.\u001B[39mjaxpr_stack \u001B[38;5;241m=\u001B[39m ()  \u001B[38;5;66;03m# type: ignore\u001B[39;00m\n\u001B[0;32m-> 2324\u001B[0m   jaxpr, out_type, consts \u001B[38;5;241m=\u001B[39m \u001B[43mtrace_to_subjaxpr_dynamic2\u001B[49m\u001B[43m(\u001B[49m\u001B[43mfun\u001B[49m\u001B[43m,\u001B[49m\u001B[43m \u001B[49m\u001B[43mmain\u001B[49m\u001B[43m,\u001B[49m\u001B[43m \u001B[49m\u001B[43mdebug_info\u001B[49m\u001B[43m)\u001B[49m\n\u001B[1;32m   2325\u001B[0m   \u001B[38;5;28;01mdel\u001B[39;00m main, fun\n\u001B[1;32m   2326\u001B[0m \u001B[38;5;28;01mreturn\u001B[39;00m jaxpr, out_type, consts\n",
      "File \u001B[0;32m~/coding/barren_traps/.venv/lib/python3.12/site-packages/jax/_src/interpreters/partial_eval.py:2339\u001B[0m, in \u001B[0;36mtrace_to_subjaxpr_dynamic2\u001B[0;34m(fun, main, debug_info)\u001B[0m\n\u001B[1;32m   2337\u001B[0m in_tracers \u001B[38;5;241m=\u001B[39m _input_type_to_tracers(trace\u001B[38;5;241m.\u001B[39mnew_arg, in_avals)\n\u001B[1;32m   2338\u001B[0m in_tracers_ \u001B[38;5;241m=\u001B[39m [t \u001B[38;5;28;01mfor\u001B[39;00m t, keep \u001B[38;5;129;01min\u001B[39;00m \u001B[38;5;28mzip\u001B[39m(in_tracers, keep_inputs) \u001B[38;5;28;01mif\u001B[39;00m keep]\n\u001B[0;32m-> 2339\u001B[0m ans \u001B[38;5;241m=\u001B[39m \u001B[43mfun\u001B[49m\u001B[38;5;241;43m.\u001B[39;49m\u001B[43mcall_wrapped\u001B[49m\u001B[43m(\u001B[49m\u001B[38;5;241;43m*\u001B[39;49m\u001B[43min_tracers_\u001B[49m\u001B[43m)\u001B[49m\n\u001B[1;32m   2340\u001B[0m out_tracers \u001B[38;5;241m=\u001B[39m \u001B[38;5;28mmap\u001B[39m(trace\u001B[38;5;241m.\u001B[39mfull_raise, ans)\n\u001B[1;32m   2341\u001B[0m jaxpr, out_type, consts \u001B[38;5;241m=\u001B[39m frame\u001B[38;5;241m.\u001B[39mto_jaxpr2(out_tracers)\n",
      "File \u001B[0;32m~/coding/barren_traps/.venv/lib/python3.12/site-packages/jax/_src/linear_util.py:191\u001B[0m, in \u001B[0;36mWrappedFun.call_wrapped\u001B[0;34m(self, *args, **kwargs)\u001B[0m\n\u001B[1;32m    188\u001B[0m gen \u001B[38;5;241m=\u001B[39m gen_static_args \u001B[38;5;241m=\u001B[39m out_store \u001B[38;5;241m=\u001B[39m \u001B[38;5;28;01mNone\u001B[39;00m\n\u001B[1;32m    190\u001B[0m \u001B[38;5;28;01mtry\u001B[39;00m:\n\u001B[0;32m--> 191\u001B[0m   ans \u001B[38;5;241m=\u001B[39m \u001B[38;5;28;43mself\u001B[39;49m\u001B[38;5;241;43m.\u001B[39;49m\u001B[43mf\u001B[49m\u001B[43m(\u001B[49m\u001B[38;5;241;43m*\u001B[39;49m\u001B[43margs\u001B[49m\u001B[43m,\u001B[49m\u001B[43m \u001B[49m\u001B[38;5;241;43m*\u001B[39;49m\u001B[38;5;241;43m*\u001B[39;49m\u001B[38;5;28;43mdict\u001B[39;49m\u001B[43m(\u001B[49m\u001B[38;5;28;43mself\u001B[39;49m\u001B[38;5;241;43m.\u001B[39;49m\u001B[43mparams\u001B[49m\u001B[43m,\u001B[49m\u001B[43m \u001B[49m\u001B[38;5;241;43m*\u001B[39;49m\u001B[38;5;241;43m*\u001B[39;49m\u001B[43mkwargs\u001B[49m\u001B[43m)\u001B[49m\u001B[43m)\u001B[49m\n\u001B[1;32m    192\u001B[0m \u001B[38;5;28;01mexcept\u001B[39;00m:\n\u001B[1;32m    193\u001B[0m   \u001B[38;5;66;03m# Some transformations yield from inside context managers, so we have to\u001B[39;00m\n\u001B[1;32m    194\u001B[0m   \u001B[38;5;66;03m# interrupt them before reraising the exception. Otherwise they will only\u001B[39;00m\n\u001B[1;32m    195\u001B[0m   \u001B[38;5;66;03m# get garbage-collected at some later time, running their cleanup tasks\u001B[39;00m\n\u001B[1;32m    196\u001B[0m   \u001B[38;5;66;03m# only after this exception is handled, which can corrupt the global\u001B[39;00m\n\u001B[1;32m    197\u001B[0m   \u001B[38;5;66;03m# state.\u001B[39;00m\n\u001B[1;32m    198\u001B[0m   \u001B[38;5;28;01mwhile\u001B[39;00m stack:\n",
      "Cell \u001B[0;32mIn[51], line 30\u001B[0m, in \u001B[0;36mmyvqa.expval.<locals>.ev\u001B[0;34m(x)\u001B[0m\n\u001B[1;32m     27\u001B[0m \u001B[38;5;129m@qml\u001B[39m\u001B[38;5;241m.\u001B[39mqjit\n\u001B[1;32m     28\u001B[0m \u001B[38;5;28;01mdef\u001B[39;00m \u001B[38;5;21mev\u001B[39m(x):\n\u001B[1;32m     29\u001B[0m     \u001B[38;5;28mprint\u001B[39m(\u001B[38;5;124m'\u001B[39m\u001B[38;5;124mcompling\u001B[39m\u001B[38;5;124m'\u001B[39m)\n\u001B[0;32m---> 30\u001B[0m     state \u001B[38;5;241m=\u001B[39m \u001B[43mcirc\u001B[49m\u001B[43m(\u001B[49m\u001B[43mx\u001B[49m\u001B[43m)\u001B[49m\u001B[38;5;241m.\u001B[39mreshape([\u001B[38;5;241m2\u001B[39m] \u001B[38;5;241m*\u001B[39m \u001B[38;5;28mself\u001B[39m\u001B[38;5;241m.\u001B[39mnum_qubits)\n\u001B[1;32m     31\u001B[0m     \u001B[38;5;28;01mreturn\u001B[39;00m jnp\u001B[38;5;241m.\u001B[39masarray([qml\u001B[38;5;241m.\u001B[39mdevices\u001B[38;5;241m.\u001B[39mqubit\u001B[38;5;241m.\u001B[39mmeasure(qml\u001B[38;5;241m.\u001B[39mexpval(qml\u001B[38;5;241m.\u001B[39mpauli\u001B[38;5;241m.\u001B[39mstring_to_pauli_word(obs)), state) \u001B[38;5;28;01mfor\u001B[39;00m obs \u001B[38;5;129;01min\u001B[39;00m observables])\n",
      "File \u001B[0;32m~/coding/barren_traps/.venv/lib/python3.12/site-packages/catalyst/pennylane_extensions.py:181\u001B[0m, in \u001B[0;36mQFunc.__call__\u001B[0;34m(self, *args, **kwargs)\u001B[0m\n\u001B[1;32m    179\u001B[0m flattened_fun, _, _, out_tree_promise \u001B[38;5;241m=\u001B[39m deduce_avals(_eval_quantum, args, {})\n\u001B[1;32m    180\u001B[0m args_flat \u001B[38;5;241m=\u001B[39m tree_flatten(args)[\u001B[38;5;241m0\u001B[39m]\n\u001B[0;32m--> 181\u001B[0m res_flat \u001B[38;5;241m=\u001B[39m \u001B[43mfunc_p\u001B[49m\u001B[38;5;241;43m.\u001B[39;49m\u001B[43mbind\u001B[49m\u001B[43m(\u001B[49m\u001B[43mflattened_fun\u001B[49m\u001B[43m,\u001B[49m\u001B[43m \u001B[49m\u001B[38;5;241;43m*\u001B[39;49m\u001B[43margs_flat\u001B[49m\u001B[43m,\u001B[49m\u001B[43m \u001B[49m\u001B[43mfn\u001B[49m\u001B[38;5;241;43m=\u001B[39;49m\u001B[38;5;28;43mself\u001B[39;49m\u001B[43m)\u001B[49m\n\u001B[1;32m    182\u001B[0m \u001B[38;5;28;01mreturn\u001B[39;00m tree_unflatten(out_tree_promise(), res_flat)\n",
      "File \u001B[0;32m~/coding/barren_traps/.venv/lib/python3.12/site-packages/jax/_src/core.py:2309\u001B[0m, in \u001B[0;36mCallPrimitive.bind\u001B[0;34m(self, fun, *args, **params)\u001B[0m\n\u001B[1;32m   2306\u001B[0m \u001B[38;5;28;01mdef\u001B[39;00m \u001B[38;5;21mbind\u001B[39m(\u001B[38;5;28mself\u001B[39m, fun, \u001B[38;5;241m*\u001B[39margs, \u001B[38;5;241m*\u001B[39m\u001B[38;5;241m*\u001B[39mparams):\n\u001B[1;32m   2307\u001B[0m   call_bind_continuation, top_trace, fun_, tracers, params \u001B[38;5;241m=\u001B[39m (\n\u001B[1;32m   2308\u001B[0m       call_bind_with_continuation(\u001B[38;5;28mself\u001B[39m, fun, \u001B[38;5;241m*\u001B[39margs, \u001B[38;5;241m*\u001B[39m\u001B[38;5;241m*\u001B[39mparams))\n\u001B[0;32m-> 2309\u001B[0m   outs \u001B[38;5;241m=\u001B[39m \u001B[43mtop_trace\u001B[49m\u001B[38;5;241;43m.\u001B[39;49m\u001B[43mprocess_call\u001B[49m\u001B[43m(\u001B[49m\u001B[38;5;28;43mself\u001B[39;49m\u001B[43m,\u001B[49m\u001B[43m \u001B[49m\u001B[43mfun_\u001B[49m\u001B[43m,\u001B[49m\u001B[43m \u001B[49m\u001B[43mtracers\u001B[49m\u001B[43m,\u001B[49m\u001B[43m \u001B[49m\u001B[43mparams\u001B[49m\u001B[43m)\u001B[49m\n\u001B[1;32m   2310\u001B[0m   \u001B[38;5;28;01mreturn\u001B[39;00m call_bind_continuation(outs)\n",
      "File \u001B[0;32m~/coding/barren_traps/.venv/lib/python3.12/site-packages/jax/_src/interpreters/partial_eval.py:2012\u001B[0m, in \u001B[0;36mDynamicJaxprTrace.process_call\u001B[0;34m(self, call_primitive, f, explicit_tracers, params)\u001B[0m\n\u001B[1;32m   2008\u001B[0m \u001B[38;5;28;01mwith\u001B[39;00m core\u001B[38;5;241m.\u001B[39mnew_sublevel():\n\u001B[1;32m   2009\u001B[0m   \u001B[38;5;66;03m# TODO(lenamartens): Make call_primitive name -> API function name mapping.\u001B[39;00m\n\u001B[1;32m   2010\u001B[0m   \u001B[38;5;66;03m# (currently this will display eg. 'xla_call' instead of `jit`)\u001B[39;00m\n\u001B[1;32m   2011\u001B[0m   dbg \u001B[38;5;241m=\u001B[39m debug_info_final(f, call_primitive\u001B[38;5;241m.\u001B[39mname)\n\u001B[0;32m-> 2012\u001B[0m   jaxpr, out_type, consts \u001B[38;5;241m=\u001B[39m \u001B[43mtrace_to_subjaxpr_dynamic2\u001B[49m\u001B[43m(\u001B[49m\u001B[43mf\u001B[49m\u001B[43m,\u001B[49m\u001B[43m \u001B[49m\u001B[38;5;28;43mself\u001B[39;49m\u001B[38;5;241;43m.\u001B[39;49m\u001B[43mmain\u001B[49m\u001B[43m,\u001B[49m\u001B[43m \u001B[49m\u001B[43mdebug_info\u001B[49m\u001B[38;5;241;43m=\u001B[39;49m\u001B[43mdbg\u001B[49m\u001B[43m)\u001B[49m\n\u001B[1;32m   2013\u001B[0m \u001B[38;5;28;01mif\u001B[39;00m params\u001B[38;5;241m.\u001B[39mget(\u001B[38;5;124m'\u001B[39m\u001B[38;5;124minline\u001B[39m\u001B[38;5;124m'\u001B[39m, \u001B[38;5;28;01mFalse\u001B[39;00m):\n\u001B[1;32m   2014\u001B[0m   \u001B[38;5;28;01mreturn\u001B[39;00m core\u001B[38;5;241m.\u001B[39meval_jaxpr(jaxpr, consts, \u001B[38;5;241m*\u001B[39min_tracers,\n\u001B[1;32m   2015\u001B[0m                          propagate_source_info\u001B[38;5;241m=\u001B[39m\u001B[38;5;28;01mFalse\u001B[39;00m)\n",
      "File \u001B[0;32m~/coding/barren_traps/.venv/lib/python3.12/site-packages/jax/_src/interpreters/partial_eval.py:2339\u001B[0m, in \u001B[0;36mtrace_to_subjaxpr_dynamic2\u001B[0;34m(fun, main, debug_info)\u001B[0m\n\u001B[1;32m   2337\u001B[0m in_tracers \u001B[38;5;241m=\u001B[39m _input_type_to_tracers(trace\u001B[38;5;241m.\u001B[39mnew_arg, in_avals)\n\u001B[1;32m   2338\u001B[0m in_tracers_ \u001B[38;5;241m=\u001B[39m [t \u001B[38;5;28;01mfor\u001B[39;00m t, keep \u001B[38;5;129;01min\u001B[39;00m \u001B[38;5;28mzip\u001B[39m(in_tracers, keep_inputs) \u001B[38;5;28;01mif\u001B[39;00m keep]\n\u001B[0;32m-> 2339\u001B[0m ans \u001B[38;5;241m=\u001B[39m \u001B[43mfun\u001B[49m\u001B[38;5;241;43m.\u001B[39;49m\u001B[43mcall_wrapped\u001B[49m\u001B[43m(\u001B[49m\u001B[38;5;241;43m*\u001B[39;49m\u001B[43min_tracers_\u001B[49m\u001B[43m)\u001B[49m\n\u001B[1;32m   2340\u001B[0m out_tracers \u001B[38;5;241m=\u001B[39m \u001B[38;5;28mmap\u001B[39m(trace\u001B[38;5;241m.\u001B[39mfull_raise, ans)\n\u001B[1;32m   2341\u001B[0m jaxpr, out_type, consts \u001B[38;5;241m=\u001B[39m frame\u001B[38;5;241m.\u001B[39mto_jaxpr2(out_tracers)\n",
      "File \u001B[0;32m~/coding/barren_traps/.venv/lib/python3.12/site-packages/jax/_src/linear_util.py:191\u001B[0m, in \u001B[0;36mWrappedFun.call_wrapped\u001B[0;34m(self, *args, **kwargs)\u001B[0m\n\u001B[1;32m    188\u001B[0m gen \u001B[38;5;241m=\u001B[39m gen_static_args \u001B[38;5;241m=\u001B[39m out_store \u001B[38;5;241m=\u001B[39m \u001B[38;5;28;01mNone\u001B[39;00m\n\u001B[1;32m    190\u001B[0m \u001B[38;5;28;01mtry\u001B[39;00m:\n\u001B[0;32m--> 191\u001B[0m   ans \u001B[38;5;241m=\u001B[39m \u001B[38;5;28;43mself\u001B[39;49m\u001B[38;5;241;43m.\u001B[39;49m\u001B[43mf\u001B[49m\u001B[43m(\u001B[49m\u001B[38;5;241;43m*\u001B[39;49m\u001B[43margs\u001B[49m\u001B[43m,\u001B[49m\u001B[43m \u001B[49m\u001B[38;5;241;43m*\u001B[39;49m\u001B[38;5;241;43m*\u001B[39;49m\u001B[38;5;28;43mdict\u001B[39;49m\u001B[43m(\u001B[49m\u001B[38;5;28;43mself\u001B[39;49m\u001B[38;5;241;43m.\u001B[39;49m\u001B[43mparams\u001B[49m\u001B[43m,\u001B[49m\u001B[43m \u001B[49m\u001B[38;5;241;43m*\u001B[39;49m\u001B[38;5;241;43m*\u001B[39;49m\u001B[43mkwargs\u001B[49m\u001B[43m)\u001B[49m\u001B[43m)\u001B[49m\n\u001B[1;32m    192\u001B[0m \u001B[38;5;28;01mexcept\u001B[39;00m:\n\u001B[1;32m    193\u001B[0m   \u001B[38;5;66;03m# Some transformations yield from inside context managers, so we have to\u001B[39;00m\n\u001B[1;32m    194\u001B[0m   \u001B[38;5;66;03m# interrupt them before reraising the exception. Otherwise they will only\u001B[39;00m\n\u001B[1;32m    195\u001B[0m   \u001B[38;5;66;03m# get garbage-collected at some later time, running their cleanup tasks\u001B[39;00m\n\u001B[1;32m    196\u001B[0m   \u001B[38;5;66;03m# only after this exception is handled, which can corrupt the global\u001B[39;00m\n\u001B[1;32m    197\u001B[0m   \u001B[38;5;66;03m# state.\u001B[39;00m\n\u001B[1;32m    198\u001B[0m   \u001B[38;5;28;01mwhile\u001B[39;00m stack:\n",
      "File \u001B[0;32m~/coding/barren_traps/.venv/lib/python3.12/site-packages/catalyst/pennylane_extensions.py:170\u001B[0m, in \u001B[0;36mQFunc.__call__.<locals>._eval_quantum\u001B[0;34m(*args)\u001B[0m\n\u001B[1;32m    169\u001B[0m \u001B[38;5;28;01mdef\u001B[39;00m \u001B[38;5;21m_eval_quantum\u001B[39m(\u001B[38;5;241m*\u001B[39margs):\n\u001B[0;32m--> 170\u001B[0m     closed_jaxpr, out_type, out_tree \u001B[38;5;241m=\u001B[39m \u001B[43mtrace_quantum_function\u001B[49m\u001B[43m(\u001B[49m\n\u001B[1;32m    171\u001B[0m \u001B[43m        \u001B[49m\u001B[38;5;28;43mself\u001B[39;49m\u001B[38;5;241;43m.\u001B[39;49m\u001B[43mfunc\u001B[49m\u001B[43m,\u001B[49m\u001B[43m \u001B[49m\u001B[43mdevice\u001B[49m\u001B[43m,\u001B[49m\u001B[43m \u001B[49m\u001B[43margs\u001B[49m\u001B[43m,\u001B[49m\u001B[43m \u001B[49m\u001B[43mkwargs\u001B[49m\u001B[43m,\u001B[49m\u001B[43m \u001B[49m\u001B[43mqnode\u001B[49m\n\u001B[1;32m    172\u001B[0m \u001B[43m    \u001B[49m\u001B[43m)\u001B[49m\n\u001B[1;32m    173\u001B[0m     args_expanded \u001B[38;5;241m=\u001B[39m get_implicit_and_explicit_flat_args(\u001B[38;5;28;01mNone\u001B[39;00m, \u001B[38;5;241m*\u001B[39margs)\n\u001B[1;32m    174\u001B[0m     res_expanded \u001B[38;5;241m=\u001B[39m eval_jaxpr(closed_jaxpr\u001B[38;5;241m.\u001B[39mjaxpr, closed_jaxpr\u001B[38;5;241m.\u001B[39mconsts, \u001B[38;5;241m*\u001B[39margs_expanded)\n",
      "File \u001B[0;32m~/coding/barren_traps/.venv/lib/python3.12/site-packages/catalyst/jax_tracer.py:831\u001B[0m, in \u001B[0;36mtrace_quantum_function\u001B[0;34m(f, device, args, kwargs, qnode)\u001B[0m\n\u001B[1;32m    828\u001B[0m \u001B[38;5;28;01mwith\u001B[39;00m QueuingManager\u001B[38;5;241m.\u001B[39mstop_recording(), quantum_tape:\n\u001B[1;32m    829\u001B[0m     \u001B[38;5;66;03m# Quantum tape transformations happen at the end of tracing\u001B[39;00m\n\u001B[1;32m    830\u001B[0m     in_classical_tracers \u001B[38;5;241m=\u001B[39m [t \u001B[38;5;28;01mfor\u001B[39;00m t, k \u001B[38;5;129;01min\u001B[39;00m \u001B[38;5;28mzip\u001B[39m(in_classical_tracers, keep_inputs) \u001B[38;5;28;01mif\u001B[39;00m k]\n\u001B[0;32m--> 831\u001B[0m     return_values_flat \u001B[38;5;241m=\u001B[39m \u001B[43mwffa\u001B[49m\u001B[38;5;241;43m.\u001B[39;49m\u001B[43mcall_wrapped\u001B[49m\u001B[43m(\u001B[49m\u001B[38;5;241;43m*\u001B[39;49m\u001B[43min_classical_tracers\u001B[49m\u001B[43m)\u001B[49m\n\u001B[1;32m    833\u001B[0m \u001B[38;5;66;03m# Ans contains the leaves of the pytree (empty for measurement without\u001B[39;00m\n\u001B[1;32m    834\u001B[0m \u001B[38;5;66;03m# data https://github.com/PennyLaneAI/pennylane/pull/4607)\u001B[39;00m\n\u001B[1;32m    835\u001B[0m \u001B[38;5;66;03m# Therefore we need to compute the tree with measurements as leaves and it comes\u001B[39;00m\n\u001B[1;32m    836\u001B[0m \u001B[38;5;66;03m# with an extra computational cost\u001B[39;00m\n\u001B[1;32m    837\u001B[0m \n\u001B[1;32m    838\u001B[0m \u001B[38;5;66;03m# 1. Recompute the original return\u001B[39;00m\n\u001B[1;32m    839\u001B[0m \u001B[38;5;28;01mwith\u001B[39;00m QueuingManager\u001B[38;5;241m.\u001B[39mstop_recording():\n",
      "File \u001B[0;32m~/coding/barren_traps/.venv/lib/python3.12/site-packages/jax/_src/linear_util.py:191\u001B[0m, in \u001B[0;36mWrappedFun.call_wrapped\u001B[0;34m(self, *args, **kwargs)\u001B[0m\n\u001B[1;32m    188\u001B[0m gen \u001B[38;5;241m=\u001B[39m gen_static_args \u001B[38;5;241m=\u001B[39m out_store \u001B[38;5;241m=\u001B[39m \u001B[38;5;28;01mNone\u001B[39;00m\n\u001B[1;32m    190\u001B[0m \u001B[38;5;28;01mtry\u001B[39;00m:\n\u001B[0;32m--> 191\u001B[0m   ans \u001B[38;5;241m=\u001B[39m \u001B[38;5;28;43mself\u001B[39;49m\u001B[38;5;241;43m.\u001B[39;49m\u001B[43mf\u001B[49m\u001B[43m(\u001B[49m\u001B[38;5;241;43m*\u001B[39;49m\u001B[43margs\u001B[49m\u001B[43m,\u001B[49m\u001B[43m \u001B[49m\u001B[38;5;241;43m*\u001B[39;49m\u001B[38;5;241;43m*\u001B[39;49m\u001B[38;5;28;43mdict\u001B[39;49m\u001B[43m(\u001B[49m\u001B[38;5;28;43mself\u001B[39;49m\u001B[38;5;241;43m.\u001B[39;49m\u001B[43mparams\u001B[49m\u001B[43m,\u001B[49m\u001B[43m \u001B[49m\u001B[38;5;241;43m*\u001B[39;49m\u001B[38;5;241;43m*\u001B[39;49m\u001B[43mkwargs\u001B[49m\u001B[43m)\u001B[49m\u001B[43m)\u001B[49m\n\u001B[1;32m    192\u001B[0m \u001B[38;5;28;01mexcept\u001B[39;00m:\n\u001B[1;32m    193\u001B[0m   \u001B[38;5;66;03m# Some transformations yield from inside context managers, so we have to\u001B[39;00m\n\u001B[1;32m    194\u001B[0m   \u001B[38;5;66;03m# interrupt them before reraising the exception. Otherwise they will only\u001B[39;00m\n\u001B[1;32m    195\u001B[0m   \u001B[38;5;66;03m# get garbage-collected at some later time, running their cleanup tasks\u001B[39;00m\n\u001B[1;32m    196\u001B[0m   \u001B[38;5;66;03m# only after this exception is handled, which can corrupt the global\u001B[39;00m\n\u001B[1;32m    197\u001B[0m   \u001B[38;5;66;03m# state.\u001B[39;00m\n\u001B[1;32m    198\u001B[0m   \u001B[38;5;28;01mwhile\u001B[39;00m stack:\n",
      "Cell \u001B[0;32mIn[51], line 24\u001B[0m, in \u001B[0;36mmyvqa.expval.<locals>.circ\u001B[0;34m(x)\u001B[0m\n\u001B[1;32m     22\u001B[0m \u001B[38;5;129m@qml\u001B[39m\u001B[38;5;241m.\u001B[39mqnode(dev)\n\u001B[1;32m     23\u001B[0m \u001B[38;5;28;01mdef\u001B[39;00m \u001B[38;5;21mcirc\u001B[39m(x):\n\u001B[0;32m---> 24\u001B[0m     \u001B[38;5;28;43mself\u001B[39;49m\u001B[38;5;241;43m.\u001B[39;49m\u001B[43mpenny_circuit\u001B[49m\u001B[43m(\u001B[49m\u001B[43mx\u001B[49m\u001B[43m)\u001B[49m\n\u001B[1;32m     25\u001B[0m     \u001B[38;5;28;01mreturn\u001B[39;00m qml\u001B[38;5;241m.\u001B[39mstate()\n",
      "Cell \u001B[0;32mIn[51], line 13\u001B[0m, in \u001B[0;36mmyvqa.penny_circuit\u001B[0;34m(self, params)\u001B[0m\n\u001B[1;32m     11\u001B[0m x0 \u001B[38;5;241m=\u001B[39m jnp\u001B[38;5;241m.\u001B[39mzeros(\u001B[38;5;28mself\u001B[39m\u001B[38;5;241m.\u001B[39mnum_qubits)\n\u001B[1;32m     12\u001B[0m z0 \u001B[38;5;241m=\u001B[39m jnp\u001B[38;5;241m.\u001B[39mzeros(\u001B[38;5;28mself\u001B[39m\u001B[38;5;241m.\u001B[39mnum_qubits)\n\u001B[0;32m---> 13\u001B[0m x \u001B[38;5;241m=\u001B[39m jnp\u001B[38;5;241m.\u001B[39mzeros((\u001B[38;5;28;43mself\u001B[39;49m\u001B[38;5;241;43m.\u001B[39;49m\u001B[43mnum_layers\u001B[49m, \u001B[38;5;28mself\u001B[39m\u001B[38;5;241m.\u001B[39mnum_qubits))\n\u001B[1;32m     14\u001B[0m z \u001B[38;5;241m=\u001B[39m jnp\u001B[38;5;241m.\u001B[39mzeros((\u001B[38;5;28mself\u001B[39m\u001B[38;5;241m.\u001B[39mnum_layers, \u001B[38;5;28mself\u001B[39m\u001B[38;5;241m.\u001B[39mnum_qubits))\n\u001B[1;32m     15\u001B[0m \u001B[38;5;28;01mfor\u001B[39;00m n \u001B[38;5;129;01min\u001B[39;00m \u001B[38;5;28mrange\u001B[39m(\u001B[38;5;28mself\u001B[39m\u001B[38;5;241m.\u001B[39mnum_qubits):\n",
      "\u001B[0;31mAttributeError\u001B[0m: 'myvqa' object has no attribute 'num_layers'"
     ]
    }
   ],
   "source": [],
   "metadata": {
    "collapsed": false,
    "ExecuteTime": {
     "end_time": "2024-03-27T19:54:58.786982Z",
     "start_time": "2024-03-27T19:54:57.409220Z"
    }
   },
   "id": "30db3a9abba32d5b",
   "execution_count": 52
  },
  {
   "cell_type": "code",
   "outputs": [],
   "source": [
    "ev = get_ev(('X', 'Y', 'Z'))"
   ],
   "metadata": {
    "collapsed": false,
    "ExecuteTime": {
     "end_time": "2024-03-27T19:44:05.673103Z",
     "start_time": "2024-03-27T19:44:05.657475Z"
    }
   },
   "id": "506eb09b2da355f5",
   "execution_count": 30
  },
  {
   "cell_type": "code",
   "outputs": [
    {
     "data": {
      "text/plain": "array([0., 0., 1.])"
     },
     "execution_count": 33,
     "metadata": {},
     "output_type": "execute_result"
    }
   ],
   "source": [
    "ev(0.)"
   ],
   "metadata": {
    "collapsed": false,
    "ExecuteTime": {
     "end_time": "2024-03-27T19:44:12.896878Z",
     "start_time": "2024-03-27T19:44:12.887447Z"
    }
   },
   "id": "ceabc90e57850027",
   "execution_count": 33
  },
  {
   "cell_type": "code",
   "outputs": [],
   "source": [
    "rng = np.random.default_rng(42)\n",
    "\n",
    "num_qubits = 4\n",
    "num_layers = 50\n",
    "vqa = LocalVQA(num_qubits, num_layers)\n",
    "\n",
    "observables = all_two_body_pauli(num_qubits)\n",
    "coefficients = rng.uniform(low=-1, high=1, size=len(observables))\n",
    "\n",
    "def loss(x):\n",
    "    values = vqa.expval(observables, x)\n",
    "    return (values * coefficients).sum()"
   ],
   "metadata": {
    "collapsed": false,
    "ExecuteTime": {
     "end_time": "2024-03-20T13:10:28.000252Z",
     "start_time": "2024-03-20T13:10:27.953177Z"
    }
   },
   "id": "5e2a03049eaaea8b",
   "execution_count": 79
  },
  {
   "cell_type": "code",
   "outputs": [
    {
     "name": "stderr",
     "output_type": "stream",
     "text": [
      "2024-03-20 17:29:47.352284: E external/xla/xla/service/slow_operation_alarm.cc:133] The operation took 10m45.456206212s\n",
      "\n",
      "********************************\n",
      "[Compiling module jit_update] Very slow compile? If you want to file a bug, run with envvar XLA_FLAGS=--xla_dump_to=/tmp/foo and attach the results.\n",
      "********************************\n",
      "2024-03-20 17:32:06.951781: E external/xla/xla/service/slow_operation_alarm.cc:65] \n",
      "********************************\n",
      "[Compiling module jit__while_loop_scan] Very slow compile? If you want to file a bug, run with envvar XLA_FLAGS=--xla_dump_to=/tmp/foo and attach the results.\n",
      "********************************\n",
      "2024-03-20 17:40:41.088856: E external/xla/xla/service/slow_operation_alarm.cc:133] The operation took 10m34.137158575s\n",
      "\n",
      "********************************\n",
      "[Compiling module jit__while_loop_scan] Very slow compile? If you want to file a bug, run with envvar XLA_FLAGS=--xla_dump_to=/tmp/foo and attach the results.\n",
      "********************************\n"
     ]
    }
   ],
   "source": [
    "learning_rate = 0.01\n",
    "num_iterations = 5000\n",
    "num_initial_points = 100\n",
    "opt = optax.adam(learning_rate)\n",
    "\n",
    "solver = jaxopt.OptaxSolver(loss, opt, maxiter=num_iterations, jit=True)\n",
    "\n",
    "x0 = 2 * np.pi * rng.uniform(size=(num_initial_points, vqa.num_parameters))\n",
    "values = jax.vmap(solver.run)(x0)"
   ],
   "metadata": {
    "collapsed": false,
    "ExecuteTime": {
     "end_time": "2024-03-20T14:59:38.494092Z",
     "start_time": "2024-03-20T14:18:23.798328Z"
    }
   },
   "id": "4176210b0af96a1c",
   "execution_count": 89
  },
  {
   "cell_type": "code",
   "outputs": [
    {
     "data": {
      "text/plain": "OptStep(params=Array([[2.15593290e+00, 1.65542331e-01, 5.91269535e+00, ...,\n        2.53727571e+00, 6.17820900e+00, 2.98394206e+00],\n       [3.67240276e+00, 2.34075569e+00, 4.18809138e+00, ...,\n        1.87150909e+00, 2.22968318e+00, 2.54832402e+00],\n       [1.69864175e+00, 4.79885333e+00, 5.04705621e+00, ...,\n        9.73766814e-02, 4.38300650e+00, 8.67853806e-01],\n       ...,\n       [5.19087214e+00, 5.18885823e+00, 1.34276899e+00, ...,\n        3.94982239e+00, 1.79250484e+00, 5.73350589e+00],\n       [4.67193729e+00, 2.37051065e+00, 2.71539429e+00, ...,\n        4.65701315e+00, 4.04821331e+00, 4.75252460e+00],\n       [2.13977148e+00, 4.52503602e+00, 3.40588926e+00, ...,\n        1.79412968e+00, 4.92013030e-03, 3.48758798e+00]], dtype=float64), state=OptaxState(iter_num=Array([180, 180, 189, 180, 186, 177, 182, 183, 184, 185, 179, 184, 182,\n       178, 180, 181, 181, 182, 174, 180, 183, 182, 179, 182, 179, 181,\n       179, 178, 177, 180, 181, 179, 184, 183, 181, 194, 181, 177, 185,\n       176, 179, 180, 178, 176, 181, 179, 182, 182, 182, 179, 177, 175,\n       182, 182, 185, 182, 179, 187, 186, 180, 182, 183, 181, 184, 185,\n       182, 183, 184, 183, 186, 187, 185, 193, 180, 182, 178, 183, 180,\n       182, 178, 176, 184, 176, 180, 178, 185, 179, 179, 183, 180, 180,\n       183, 177, 178, 181, 187, 181, 184, 186, 181],      dtype=int64, weak_type=True), value=Array([-7.72689208, -7.72689208, -7.72689208, -7.72689209, -7.72689208,\n       -7.72689208, -7.72689208, -7.72689208, -7.72689207, -7.72689209,\n       -7.72689208, -7.72689208, -7.72689208, -7.72689207, -7.72689208,\n       -7.72689208, -7.72689206, -7.72689208, -7.72689208, -7.72689208,\n       -7.72689207, -7.72689208, -7.72689208, -7.72689208, -7.72689208,\n       -7.72689208, -7.72689207, -7.72689208, -7.72689207, -7.72689208,\n       -7.72689208, -7.72689208, -7.72689208, -7.72689208, -7.72689208,\n       -7.726892  , -7.72689208, -7.72689209, -7.72689208, -7.72689208,\n       -7.72689208, -7.72689208, -7.72689208, -7.72689208, -7.72689208,\n       -7.72689208, -7.72689208, -7.72689208, -7.72689208, -7.72689208,\n       -7.72689209, -7.72689208, -7.72689208, -7.72689207, -7.72689208,\n       -7.72689208, -7.72689207, -7.72689206, -7.72689207, -7.72689208,\n       -7.72689208, -7.72689208, -7.72689208, -7.72689208, -7.72689208,\n       -7.72689207, -7.72689209, -7.72689208, -7.72689208, -7.72689208,\n       -7.72689208, -7.72689208, -7.72689206, -7.72689207, -7.72689208,\n       -7.72689208, -7.72689206, -7.72689208, -7.72689209, -7.72689207,\n       -7.72689206, -7.72689208, -7.72689208, -7.72689207, -7.72689208,\n       -7.72689208, -7.72689208, -7.72689208, -7.72689208, -7.72689208,\n       -7.72689208, -7.72689208, -7.72689207, -7.72689208, -7.72689208,\n       -7.72689201, -7.72689208, -7.72689208, -7.72689207, -7.72689208],      dtype=float64), error=Array([0.00097009, 0.00087966, 0.00095481, 0.00093272, 0.00099293,\n       0.00098436, 0.00090942, 0.00094227, 0.00098899, 0.00083862,\n       0.0009347 , 0.00094135, 0.00092937, 0.00097485, 0.00094428,\n       0.00092869, 0.00099273, 0.00092816, 0.0009713 , 0.00088723,\n       0.00094139, 0.00095539, 0.00087427, 0.00099248, 0.00089577,\n       0.00099707, 0.00091357, 0.00097697, 0.00096292, 0.00096328,\n       0.00096959, 0.00097835, 0.00091345, 0.00099825, 0.00093921,\n       0.00094533, 0.0009006 , 0.00082123, 0.00099442, 0.0009475 ,\n       0.00095709, 0.00099757, 0.00093685, 0.00079903, 0.00098002,\n       0.00091691, 0.00090828, 0.00091046, 0.00097772, 0.00096145,\n       0.00077963, 0.00085557, 0.00095369, 0.00099607, 0.00089741,\n       0.00085642, 0.00096277, 0.00089102, 0.00098401, 0.00086318,\n       0.00099274, 0.00090927, 0.00094116, 0.00090119, 0.00092384,\n       0.00087394, 0.00064789, 0.00085479, 0.0009572 , 0.00079813,\n       0.00085784, 0.00095333, 0.00079311, 0.00098077, 0.00089048,\n       0.00099456, 0.00099022, 0.00088595, 0.00082097, 0.00089465,\n       0.00097421, 0.00093133, 0.00092249, 0.00099911, 0.00098636,\n       0.00095628, 0.00095343, 0.00087776, 0.00090484, 0.0009498 ,\n       0.00094476, 0.00096749, 0.00098854, 0.00095319, 0.00096735,\n       0.00095628, 0.0009409 , 0.00091454, 0.00099824, 0.00091633],      dtype=float64), internal_state=(ScaleByAdamState(count=Array([180, 180, 189, 180, 186, 177, 182, 183, 184, 185, 179, 184, 182,\n       178, 180, 181, 181, 182, 174, 180, 183, 182, 179, 182, 179, 181,\n       179, 178, 177, 180, 181, 179, 184, 183, 181, 194, 181, 177, 185,\n       176, 179, 180, 178, 176, 181, 179, 182, 182, 182, 179, 177, 175,\n       182, 182, 185, 182, 179, 187, 186, 180, 182, 183, 181, 184, 185,\n       182, 183, 184, 183, 186, 187, 185, 193, 180, 182, 178, 183, 180,\n       182, 178, 176, 184, 176, 180, 178, 185, 179, 179, 183, 180, 180,\n       183, 177, 178, 181, 187, 181, 184, 186, 181], dtype=int32), mu=Array([[-4.59262238e-06,  7.50140844e-06,  1.88693364e-05, ...,\n        -8.06768686e-06,  8.56636785e-07, -6.12418258e-06],\n       [ 6.77207679e-06,  6.39489788e-06, -5.66949600e-06, ...,\n        -6.98236261e-07, -2.12002551e-05,  3.28335849e-05],\n       [-9.72843215e-06, -3.64811254e-05, -1.52763907e-05, ...,\n         2.76827109e-05,  1.46628009e-05, -2.90193092e-05],\n       ...,\n       [-5.73862385e-06,  1.62857903e-05,  4.22812934e-06, ...,\n         1.32603071e-06,  1.58872980e-05, -2.17403408e-05],\n       [-3.37877803e-05,  8.84821402e-06, -7.85116384e-06, ...,\n         3.04291215e-05,  5.62679836e-06,  1.38425031e-05],\n       [-1.96505754e-05, -6.41635664e-07, -2.15277271e-05, ...,\n        -5.09412682e-06,  6.41937507e-06, -1.83637163e-05]],      dtype=float64), nu=Array([[0.00251166, 0.00196261, 0.00148747, ..., 0.00211657, 0.00548443,\n        0.00170583],\n       [0.00223103, 0.0048961 , 0.0034819 , ..., 0.00241076, 0.00915896,\n        0.00110416],\n       [0.0088601 , 0.00315475, 0.00517827, ..., 0.01225593, 0.00598323,\n        0.00138545],\n       ...,\n       [0.00365921, 0.00460392, 0.00446412, ..., 0.00187211, 0.00267047,\n        0.00100762],\n       [0.01012909, 0.00429294, 0.00382818, ..., 0.00746822, 0.0019669 ,\n        0.00417198],\n       [0.00822395, 0.00045074, 0.00522134, ..., 0.00824959, 0.00307436,\n        0.00125945]], dtype=float64)), EmptyState()), aux=None))"
     },
     "execution_count": 90,
     "metadata": {},
     "output_type": "execute_result"
    }
   ],
   "source": [
    "values"
   ],
   "metadata": {
    "collapsed": false,
    "ExecuteTime": {
     "end_time": "2024-03-20T15:01:12.850751Z",
     "start_time": "2024-03-20T15:01:12.836130Z"
    }
   },
   "id": "1ecccad5fd0d3ab5",
   "execution_count": 90
  },
  {
   "cell_type": "code",
   "outputs": [
    {
     "data": {
      "text/plain": "Array(0.70542092, dtype=float64)"
     },
     "execution_count": 82,
     "metadata": {},
     "output_type": "execute_result"
    }
   ],
   "source": [
    "x = vqa.random_parameters(rng=rng)\n",
    "loss(x)"
   ],
   "metadata": {
    "collapsed": false,
    "ExecuteTime": {
     "end_time": "2024-03-20T13:34:17.485528Z",
     "start_time": "2024-03-20T13:34:16.826043Z"
    }
   },
   "id": "1a1e8f72e0de4322",
   "execution_count": 82
  },
  {
   "cell_type": "markdown",
   "source": [
    "# Gorges"
   ],
   "metadata": {
    "collapsed": false
   },
   "id": "37f6a941bd2e1447"
  },
  {
   "cell_type": "code",
   "outputs": [
    {
     "name": "stdout",
     "output_type": "stream",
     "text": [
      "['IIYY'] 413 808\n",
      "['IIYY', 'XZII'] 588 808\n",
      "['IIYY', 'XZII', 'YYII'] 690 808\n",
      "['IIYY', 'XZII', 'YYII', 'IIZZ'] 739 808\n",
      "['IIYY', 'XZII', 'YYII', 'IIZZ', 'IIXX'] 739 808\n"
     ]
    }
   ],
   "source": [
    "num_qubits = 4\n",
    "num_layers = 100\n",
    "vqa = LocalVQA(num_qubits, num_layers)\n",
    "rng = np.random.default_rng(43)\n",
    "\n",
    "x = np.zeros(vqa.num_parameters)\n",
    "i_fixed = np.array([], dtype=int)\n",
    "paulis = all_two_body_pauli(num_qubits)\n",
    "\n",
    "nonzero_paulis = []\n",
    "while True:\n",
    "    iteration_successful, pauli, x = find_nonzero_pauli(vqa, paulis, x, i_fixed, rng, num_samples=1000)\n",
    "    \n",
    "    if not iteration_successful:\n",
    "        break\n",
    "\n",
    "    new_fixed = find_fixed_angles(vqa, pauli, x)\n",
    "    i_fixed = np.unique(np.concatenate([i_fixed, new_fixed]))\n",
    "\n",
    "    paulis.remove(pauli)\n",
    "    nonzero_paulis.append(pauli)\n",
    "    \n",
    "    print(nonzero_paulis, len(i_fixed), vqa.num_parameters)"
   ],
   "metadata": {
    "collapsed": false,
    "ExecuteTime": {
     "end_time": "2024-03-19T18:10:58.031125Z",
     "start_time": "2024-03-19T18:07:47.234762Z"
    }
   },
   "id": "61625e538f6e5106",
   "execution_count": 19
  },
  {
   "cell_type": "code",
   "outputs": [],
   "source": [
    "y = vqa.random_parameters(num_samples=131, rng=131)\n",
    "y[:, i_fixed] = x[i_fixed]\n",
    "values = vqa.expval_vmap(paulis, y)"
   ],
   "metadata": {
    "collapsed": false,
    "ExecuteTime": {
     "end_time": "2024-03-19T18:11:09.331148Z",
     "start_time": "2024-03-19T18:10:58.033494Z"
    }
   },
   "id": "bea0feb214998ddd",
   "execution_count": 20
  },
  {
   "cell_type": "code",
   "outputs": [],
   "source": [
    "paulis_fixed = []\n",
    "for i in range(len(paulis)):\n",
    "    if not np.allclose(values[:, i], 0) and np.allclose(values[:, i], 1):\n",
    "        paulis_fixed.append(paulis[i])"
   ],
   "metadata": {
    "collapsed": false,
    "ExecuteTime": {
     "end_time": "2024-03-19T18:11:09.393768Z",
     "start_time": "2024-03-19T18:11:09.333755Z"
    }
   },
   "id": "6223979165d9bb33",
   "execution_count": 21
  },
  {
   "cell_type": "code",
   "outputs": [
    {
     "data": {
      "text/plain": "(0.02040816326530612, 0.0625)"
     },
     "execution_count": 22,
     "metadata": {},
     "output_type": "execute_result"
    }
   ],
   "source": [
    "len(paulis_fixed) / len(paulis), 2**-num_qubits"
   ],
   "metadata": {
    "collapsed": false,
    "ExecuteTime": {
     "end_time": "2024-03-19T18:11:09.406156Z",
     "start_time": "2024-03-19T18:11:09.396673Z"
    }
   },
   "id": "2c9300564d2e3c27",
   "execution_count": 22
  },
  {
   "cell_type": "code",
   "outputs": [
    {
     "data": {
      "text/plain": "array([5.15702832e-16, 6.54904460e-16, 6.96431886e-16, 6.50666967e-16,\n       1.00000000e+00, 6.88380650e-16, 5.16338456e-16, 9.39028329e-16,\n       6.12953284e-16, 3.86671187e-16, 5.37737793e-16, 4.80319770e-16,\n       6.04266425e-16, 8.57456599e-16, 5.68459614e-16, 5.69307112e-16,\n       9.41782699e-16, 6.10198914e-16, 3.86671187e-16, 5.37525919e-16,\n       4.81379144e-16, 6.04266425e-16, 8.57244725e-16, 5.69730861e-16,\n       5.69307112e-16, 8.68474080e-16, 5.68035864e-16, 5.71002109e-16,\n       5.32864677e-16, 4.80107896e-16, 6.03630801e-16, 9.37757081e-16,\n       6.08080168e-16, 3.82645569e-16, 8.66779083e-16, 5.70790234e-16,\n       5.71002109e-16, 5.33924050e-16, 4.83286015e-16, 6.03630801e-16,\n       9.38816455e-16, 6.12105786e-16, 3.82645569e-16, 5.82019589e-16,\n       8.39659131e-16, 5.87104580e-16, 4.73963532e-16, 8.41142253e-16,\n       4.76506027e-16])"
     },
     "execution_count": 27,
     "metadata": {},
     "output_type": "execute_result"
    }
   ],
   "source": [
    "np.abs(values).mean(axis=0)"
   ],
   "metadata": {
    "collapsed": false,
    "ExecuteTime": {
     "end_time": "2024-03-19T18:13:09.705698Z",
     "start_time": "2024-03-19T18:13:09.697330Z"
    }
   },
   "id": "ed51d179e9931810",
   "execution_count": 27
  },
  {
   "cell_type": "markdown",
   "source": [
    "observables = all_local_two_body_pauli(num_qubits)\n",
    "\n",
    "num_samples = 300\n",
    "seed = 41\n",
    "\n",
    "uniform_variances = vqa.uniform_variance(observables, num_samples=num_samples, rng=seed)\n",
    "clifford_variances = vqa.clifford_variance(observables, num_samples=num_samples, rng=seed)\n",
    "print('expected', 2**-num_qubits)\n",
    "print(f'uniform var: {uniform_variances.mean()} std: {uniform_variances.std()}')\n",
    "print(f'clifford var: {clifford_variances.mean()} std: {clifford_variances.std()}')"
   ],
   "metadata": {
    "collapsed": false
   },
   "id": "4bcfb42a77eee02a"
  },
  {
   "cell_type": "markdown",
   "source": [
    "# Shallowing"
   ],
   "metadata": {
    "collapsed": false
   },
   "id": "a6a34725e264041b"
  },
  {
   "cell_type": "code",
   "outputs": [
    {
     "data": {
      "text/plain": "  0%|          | 0/5 [00:00<?, ?it/s]",
      "application/vnd.jupyter.widget-view+json": {
       "version_major": 2,
       "version_minor": 0,
       "model_id": "74240900b10041c9b5917ae90ddc1ff1"
      }
     },
     "metadata": {},
     "output_type": "display_data"
    },
    {
     "data": {
      "text/plain": "  0%|          | 0/5 [00:00<?, ?it/s]",
      "application/vnd.jupyter.widget-view+json": {
       "version_major": 2,
       "version_minor": 0,
       "model_id": "bc5842a399fe42c8a18bfc1f1bb4d571"
      }
     },
     "metadata": {},
     "output_type": "display_data"
    },
    {
     "data": {
      "text/plain": "  0%|          | 0/5 [00:00<?, ?it/s]",
      "application/vnd.jupyter.widget-view+json": {
       "version_major": 2,
       "version_minor": 0,
       "model_id": "9592f90f392e4c10bfffdfcf1a348207"
      }
     },
     "metadata": {},
     "output_type": "display_data"
    },
    {
     "data": {
      "text/plain": "  0%|          | 0/5 [00:00<?, ?it/s]",
      "application/vnd.jupyter.widget-view+json": {
       "version_major": 2,
       "version_minor": 0,
       "model_id": "fdbfeabcff7641a28f60a6a2fed778ac"
      }
     },
     "metadata": {},
     "output_type": "display_data"
    },
    {
     "data": {
      "text/plain": "  0%|          | 0/5 [00:00<?, ?it/s]",
      "application/vnd.jupyter.widget-view+json": {
       "version_major": 2,
       "version_minor": 0,
       "model_id": "6c18ac92d988479bb821058d7e8cae24"
      }
     },
     "metadata": {},
     "output_type": "display_data"
    },
    {
     "data": {
      "text/plain": "  0%|          | 0/5 [00:00<?, ?it/s]",
      "application/vnd.jupyter.widget-view+json": {
       "version_major": 2,
       "version_minor": 0,
       "model_id": "f035a823462b476aa23565270fb30a58"
      }
     },
     "metadata": {},
     "output_type": "display_data"
    }
   ],
   "source": [
    "exp = ShallowingExperiment('95')\n",
    "schedule = [0.95, 0.96, 0.97, 0.98, 0.99]\n",
    "num_qubits = 4\n",
    "num_layers = 50\n",
    "num_clifford = 5\n",
    "num_samples = 50\n",
    "exp.run(num_qubits, num_layers, num_clifford, num_samples, schedule)"
   ],
   "metadata": {
    "collapsed": false
   },
   "id": "8e0c92b7cc4876d8",
   "execution_count": 7
  },
  {
   "cell_type": "code",
   "outputs": [
    {
     "data": {
      "text/plain": "<Figure size 640x480 with 1 Axes>",
      "image/png": "[encoded data removed]"
     },
     "metadata": {},
     "output_type": "display_data"
    }
   ],
   "source": [
    "exp.plot_results()\n",
    "plt.yscale('log')"
   ],
   "metadata": {
    "collapsed": false,
    "ExecuteTime": {
     "end_time": "2024-03-18T08:48:42.216197Z",
     "start_time": "2024-03-18T08:48:13.482048Z"
    }
   },
   "id": "c00dce005a28c648",
   "execution_count": 8
  },
  {
   "cell_type": "code",
   "outputs": [],
   "source": [
    "shexperiment = ShallowingExperiment.load('shtest')"
   ],
   "metadata": {
    "collapsed": false,
    "ExecuteTime": {
     "end_time": "2024-03-15T15:27:10.027525Z",
     "start_time": "2024-03-15T15:27:10.021390Z"
    }
   },
   "id": "ac1081f6f8d7d4ed",
   "execution_count": 6
  },
  {
   "cell_type": "code",
   "outputs": [
    {
     "name": "stdout",
     "output_type": "stream",
     "text": [
      "f [0, 606, 909, 1060, 1136, 1174, 1193, 1202, 1207, 1209]\n"
     ]
    },
    {
     "data": {
      "text/plain": "  0%|          | 0/10 [00:00<?, ?it/s]",
      "application/vnd.jupyter.widget-view+json": {
       "version_major": 2,
       "version_minor": 0,
       "model_id": "e1ed065987254aa1be43deb696bebe67"
      }
     },
     "metadata": {},
     "output_type": "display_data"
    },
    {
     "data": {
      "text/plain": "  0%|          | 0/5 [00:00<?, ?it/s]",
      "application/vnd.jupyter.widget-view+json": {
       "version_major": 2,
       "version_minor": 0,
       "model_id": "3068682ef54840f3a90affff8255352c"
      }
     },
     "metadata": {},
     "output_type": "display_data"
    },
    {
     "data": {
      "text/plain": "  0%|          | 0/5 [00:00<?, ?it/s]",
      "application/vnd.jupyter.widget-view+json": {
       "version_major": 2,
       "version_minor": 0,
       "model_id": "0aeea55197274444a291d3acba29d398"
      }
     },
     "metadata": {},
     "output_type": "display_data"
    },
    {
     "data": {
      "text/plain": "  0%|          | 0/5 [00:00<?, ?it/s]",
      "application/vnd.jupyter.widget-view+json": {
       "version_major": 2,
       "version_minor": 0,
       "model_id": "066ba75c95354fe7af55bc41312b3dfd"
      }
     },
     "metadata": {},
     "output_type": "display_data"
    },
    {
     "data": {
      "text/plain": "  0%|          | 0/5 [00:00<?, ?it/s]",
      "application/vnd.jupyter.widget-view+json": {
       "version_major": 2,
       "version_minor": 0,
       "model_id": "6fff3a0e4ae04fc1beba5b13a9ce19a0"
      }
     },
     "metadata": {},
     "output_type": "display_data"
    },
    {
     "data": {
      "text/plain": "  0%|          | 0/5 [00:00<?, ?it/s]",
      "application/vnd.jupyter.widget-view+json": {
       "version_major": 2,
       "version_minor": 0,
       "model_id": "f56d365271a143a38cdcd37931902816"
      }
     },
     "metadata": {},
     "output_type": "display_data"
    },
    {
     "data": {
      "text/plain": "  0%|          | 0/5 [00:00<?, ?it/s]",
      "application/vnd.jupyter.widget-view+json": {
       "version_major": 2,
       "version_minor": 0,
       "model_id": "d8f72c5a9c8f4ebc96d2702bdd392a0d"
      }
     },
     "metadata": {},
     "output_type": "display_data"
    },
    {
     "data": {
      "text/plain": "  0%|          | 0/5 [00:00<?, ?it/s]",
      "application/vnd.jupyter.widget-view+json": {
       "version_major": 2,
       "version_minor": 0,
       "model_id": "89909f756cca45ce8636bd1fc186bc37"
      }
     },
     "metadata": {},
     "output_type": "display_data"
    },
    {
     "data": {
      "text/plain": "  0%|          | 0/5 [00:00<?, ?it/s]",
      "application/vnd.jupyter.widget-view+json": {
       "version_major": 2,
       "version_minor": 0,
       "model_id": "af5275807737482584e65b678923fad2"
      }
     },
     "metadata": {},
     "output_type": "display_data"
    },
    {
     "data": {
      "text/plain": "  0%|          | 0/5 [00:00<?, ?it/s]",
      "application/vnd.jupyter.widget-view+json": {
       "version_major": 2,
       "version_minor": 0,
       "model_id": "5362c4f62f944134a138ff5ec8278719"
      }
     },
     "metadata": {},
     "output_type": "display_data"
    },
    {
     "data": {
      "text/plain": "  0%|          | 0/5 [00:00<?, ?it/s]",
      "application/vnd.jupyter.widget-view+json": {
       "version_major": 2,
       "version_minor": 0,
       "model_id": "af99b00f22334eb99c3d33140d2b1014"
      }
     },
     "metadata": {},
     "output_type": "display_data"
    }
   ],
   "source": [
    "num_qubits = 6\n",
    "num_layers = 100\n",
    "shexperiment.run(num_qubits, num_layers, 5, 50)"
   ],
   "metadata": {
    "collapsed": false,
    "ExecuteTime": {
     "end_time": "2024-03-15T15:51:13.317611Z",
     "start_time": "2024-03-15T15:36:39.837126Z"
    }
   },
   "id": "baa6d0167605747f",
   "execution_count": 11
  },
  {
   "cell_type": "code",
   "outputs": [
    {
     "data": {
      "text/plain": "<Figure size 640x480 with 1 Axes>",
      "image/png": "[encoded data removed]"
     },
     "metadata": {},
     "output_type": "display_data"
    }
   ],
   "source": [
    "shexperiment.plot_results()\n",
    "plt.yscale('log')"
   ],
   "metadata": {
    "collapsed": false,
    "ExecuteTime": {
     "end_time": "2024-03-15T15:53:42.519941Z",
     "start_time": "2024-03-15T15:52:19.243358Z"
    }
   },
   "id": "49c393b584ec44ec",
   "execution_count": 12
  },
  {
   "cell_type": "code",
   "outputs": [],
   "source": [
    "uniform_bp_exp = UniformBPExperiement.load('uniform_test')\n"
   ],
   "metadata": {
    "collapsed": false
   },
   "id": "7beafbf1687afe7e"
  },
  {
   "cell_type": "code",
   "outputs": [
    {
     "data": {
      "text/plain": "  0%|          | 0/1 [00:00<?, ?it/s]",
      "application/vnd.jupyter.widget-view+json": {
       "version_major": 2,
       "version_minor": 0,
       "model_id": "bbe352dc30d94c9ca6673fb17bc68484"
      }
     },
     "metadata": {},
     "output_type": "display_data"
    },
    {
     "data": {
      "text/plain": "  0%|          | 0/5 [00:00<?, ?it/s]",
      "application/vnd.jupyter.widget-view+json": {
       "version_major": 2,
       "version_minor": 0,
       "model_id": "0b4af293724d48a08c81d0ca9284ec69"
      }
     },
     "metadata": {},
     "output_type": "display_data"
    }
   ],
   "source": [
    "uniform_bp_exp = UniformBPExperiement.load('uniform_test')\n",
    "uniform_bp_exp.run([8], range(10, 50+1, 10), 10)"
   ],
   "metadata": {
    "collapsed": false,
    "ExecuteTime": {
     "end_time": "2024-03-15T09:20:33.688718Z",
     "start_time": "2024-03-15T09:18:18.416232Z"
    }
   },
   "id": "4c2b733751e62172",
   "execution_count": 150
  },
  {
   "cell_type": "markdown",
   "source": [
    "# Uniform BP"
   ],
   "metadata": {
    "collapsed": false
   },
   "id": "6aaa9e03407d599e"
  },
  {
   "cell_type": "code",
   "outputs": [
    {
     "data": {
      "text/plain": "<Figure size 640x480 with 1 Axes>",
      "image/png": "[encoded data removed]"
     },
     "metadata": {},
     "output_type": "display_data"
    }
   ],
   "source": [
    "uniform_bp_exp.plot_results()"
   ],
   "metadata": {
    "collapsed": false,
    "ExecuteTime": {
     "end_time": "2024-03-15T09:22:03.169142Z",
     "start_time": "2024-03-15T09:22:02.173098Z"
    }
   },
   "id": "cbd2381b68abef10",
   "execution_count": 151
  },
  {
   "cell_type": "code",
   "outputs": [
    {
     "data": {
      "text/plain": "Array(-0.0584208, dtype=float32)"
     },
     "execution_count": 136,
     "metadata": {},
     "output_type": "execute_result"
    }
   ],
   "source": [
    "uniform_bp_exp.results[2][10].mean()"
   ],
   "metadata": {
    "collapsed": false,
    "ExecuteTime": {
     "end_time": "2024-03-15T08:38:58.124382Z",
     "start_time": "2024-03-15T08:38:58.031093Z"
    }
   },
   "id": "2330198ff9c87188",
   "execution_count": 136
  },
  {
   "cell_type": "code",
   "outputs": [],
   "source": [
    "uniform_bp_exp.save()"
   ],
   "metadata": {
    "collapsed": false,
    "ExecuteTime": {
     "end_time": "2024-03-14T15:48:51.538706Z",
     "start_time": "2024-03-14T15:48:51.530809Z"
    }
   },
   "id": "59ed7fecdf031792",
   "execution_count": 50
  },
  {
   "cell_type": "code",
   "outputs": [
    {
     "data": {
      "text/plain": "UniformBPExperiement(name='uniform_test', results=None)"
     },
     "execution_count": 51,
     "metadata": {},
     "output_type": "execute_result"
    }
   ],
   "source": [
    "UniformBPExperiement.load(uniform_bp_exp.name)"
   ],
   "metadata": {
    "collapsed": false,
    "ExecuteTime": {
     "end_time": "2024-03-14T15:49:11.796991Z",
     "start_time": "2024-03-14T15:49:11.789748Z"
    }
   },
   "id": "d7c3248ec0393226",
   "execution_count": 51
  }
 ],
 "metadata": {
  "kernelspec": {
   "display_name": "Python 3",
   "language": "python",
   "name": "python3"
  },
  "language_info": {
   "codemirror_mode": {
    "name": "ipython",
    "version": 2
   },
   "file_extension": ".py",
   "mimetype": "text/x-python",
   "name": "python",
   "nbconvert_exporter": "python",
   "pygments_lexer": "ipython2",
   "version": "2.7.6"
  }
 },
 "nbformat": 4,
 "nbformat_minor": 5
}
