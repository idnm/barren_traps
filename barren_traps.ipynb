{
 "cells": [
  {
   "cell_type": "code",
   "id": "initial_id",
   "metadata": {
    "collapsed": true,
    "ExecuteTime": {
     "end_time": "2024-04-13T14:46:55.926556Z",
     "start_time": "2024-04-13T14:46:51.035044Z"
    }
   },
   "source": [
    "import jaxopt\n",
    "import matplotlib.pyplot as plt\n",
    "import numpy as np\n",
    "import optax\n",
    "\n",
    "from experiments import BPExperiment, ExactMinExperiment\n",
    "from pauli import all_local_two_body_pauli, all_two_body_pauli\n",
    "from traps import LocalVQA\n",
    "\n",
    "# jax.config.update(\"jax_enable_x64\", True)"
   ],
   "outputs": [],
   "execution_count": 2
  },
  {
   "metadata": {},
   "cell_type": "markdown",
   "source": "# Exact min experiments",
   "id": "d2cccd0369a68403"
  },
  {
   "metadata": {
    "ExecuteTime": {
     "end_time": "2024-04-13T14:46:58.173900Z",
     "start_time": "2024-04-13T14:46:58.168492Z"
    }
   },
   "cell_type": "code",
   "source": "exp_exact = ExactMinExperiment.load('test')",
   "id": "252254e42c0aac13",
   "outputs": [],
   "execution_count": 3
  },
  {
   "metadata": {
    "jupyter": {
     "is_executing": true
    },
    "ExecuteTime": {
     "start_time": "2024-04-13T11:48:58.240326Z"
    }
   },
   "cell_type": "code",
   "source": [
    "qubits = (4,)\n",
    "layers = (10, 20, 30)\n",
    "\n",
    "num_samples_per_circuit = 4\n",
    "num_test_clifford_points = 100\n",
    "num_test_uniform_points = 10\n",
    "\n",
    "exp_exact.run(\n",
    "    qubits, \n",
    "    layers, \n",
    "    num_samples_per_circuit, \n",
    "    num_test_clifford_points, \n",
    "    num_test_uniform_points, \n",
    "    seed=42)"
   ],
   "id": "a8e345a2012fd7af",
   "outputs": [
    {
     "data": {
      "text/plain": [
       "  0%|          | 0/1 [00:00<?, ?it/s]"
      ],
      "application/vnd.jupyter.widget-view+json": {
       "version_major": 2,
       "version_minor": 0,
       "model_id": "137ebefdc8e64bcf881df14199014c47"
      }
     },
     "metadata": {},
     "output_type": "display_data"
    },
    {
     "data": {
      "text/plain": [
       "  0%|          | 0/3 [00:00<?, ?it/s]"
      ],
      "application/vnd.jupyter.widget-view+json": {
       "version_major": 2,
       "version_minor": 0,
       "model_id": "985a9e8689a6473282d057abaa464db9"
      }
     },
     "metadata": {},
     "output_type": "display_data"
    },
    {
     "data": {
      "text/plain": [
       "  0%|          | 0/4 [00:00<?, ?it/s]"
      ],
      "application/vnd.jupyter.widget-view+json": {
       "version_major": 2,
       "version_minor": 0,
       "model_id": "a78077154ebf455c8c48e3aa366ccaae"
      }
     },
     "metadata": {},
     "output_type": "display_data"
    },
    {
     "name": "stdout",
     "output_type": "stream",
     "text": [
      "\n",
      " >>>>>>>>>>compiling<<<<<<<<<<\n"
     ]
    }
   ],
   "execution_count": null
  },
  {
   "metadata": {
    "ExecuteTime": {
     "end_time": "2024-04-13T14:47:03.504990Z",
     "start_time": "2024-04-13T14:47:03.471928Z"
    }
   },
   "cell_type": "code",
   "source": "exp_exact.results",
   "id": "a4a51cf7590e3777",
   "outputs": [
    {
     "data": {
      "text/plain": [
       "defaultdict(functools.partial(<class 'collections.defaultdict'>, functools.partial(<class 'collections.defaultdict'>, <class 'list'>)),\n",
       "            {4: defaultdict(functools.partial(<class 'collections.defaultdict'>, <class 'list'>),\n",
       "                         {10: defaultdict(list,\n",
       "                                      {'paulis': [['YYII',\n",
       "                                         'IIYZ',\n",
       "                                         'IYYI',\n",
       "                                         'YIIZ'],\n",
       "                                        ['YXII', 'IXIY', 'IIYY', 'YIYI']],\n",
       "                                       'rates': [0.13071428571428573,\n",
       "                                        0.11706666666666667]})})})"
      ]
     },
     "execution_count": 4,
     "metadata": {},
     "output_type": "execute_result"
    }
   ],
   "execution_count": 4
  },
  {
   "metadata": {
    "ExecuteTime": {
     "end_time": "2024-04-13T14:47:36.012911Z",
     "start_time": "2024-04-13T14:47:36.008704Z"
    }
   },
   "cell_type": "code",
   "source": "2**-4",
   "id": "f2d6545afdf76833",
   "outputs": [
    {
     "data": {
      "text/plain": [
       "0.0625"
      ]
     },
     "execution_count": 5,
     "metadata": {},
     "output_type": "execute_result"
    }
   ],
   "execution_count": 5
  },
  {
   "metadata": {},
   "cell_type": "markdown",
   "source": "# BP experiments",
   "id": "b875f19e16f5ddfa"
  },
  {
   "metadata": {
    "ExecuteTime": {
     "end_time": "2024-04-09T12:40:18.287155Z",
     "start_time": "2024-04-09T12:40:17.607509Z"
    }
   },
   "cell_type": "code",
   "source": [
    "exp1 = BPExperiment.load('test1')\n",
    "\n",
    "# qubits = range(2, 8+1, 2)\n",
    "# layers = range(10, 50+1, 10)\n",
    "# num_samples = 100\n",
    "\n",
    "exp1.plot_results()\n"
   ],
   "id": "f391e2fe4255f973",
   "outputs": [
    {
     "data": {
      "text/plain": [
       "<Figure size 640x480 with 1 Axes>"
      ],
      "image/png": "[encoded data removed]"
     },
     "metadata": {},
     "output_type": "display_data"
    }
   ],
   "execution_count": 6
  },
  {
   "cell_type": "markdown",
   "source": [
    "# Exact minimums"
   ],
   "metadata": {
    "collapsed": false
   },
   "id": "37f6a941bd2e1447"
  },
  {
   "metadata": {
    "ExecuteTime": {
     "end_time": "2024-04-09T19:57:09.156526Z",
     "start_time": "2024-04-09T19:57:08.385820Z"
    }
   },
   "cell_type": "code",
   "source": "'10'",
   "id": "603e483e77f2c81a",
   "outputs": [
    {
     "ename": "TypeError",
     "evalue": "sequence item 0: expected str instance, int found",
     "output_type": "error",
     "traceback": [
      "\u001B[0;31m---------------------------------------------------------------------------\u001B[0m",
      "\u001B[0;31mTypeError\u001B[0m                                 Traceback (most recent call last)",
      "Cell \u001B[0;32mIn[13], line 1\u001B[0m\n\u001B[0;32m----> 1\u001B[0m \u001B[38;5;124m'\u001B[39m\u001B[38;5;124m10\u001B[39m\u001B[38;5;124m'\u001B[39m \u001B[38;5;241m+\u001B[39m \u001B[38;5;124;43m'\u001B[39;49m\u001B[38;5;124;43m'\u001B[39;49m\u001B[38;5;241;43m.\u001B[39;49m\u001B[43mjoin\u001B[49m\u001B[43m(\u001B[49m\u001B[43m[\u001B[49m\u001B[38;5;241;43m1\u001B[39;49m\u001B[43m,\u001B[49m\u001B[43m \u001B[49m\u001B[38;5;241;43m0\u001B[39;49m\u001B[43m,\u001B[49m\u001B[43m \u001B[49m\u001B[38;5;241;43m1\u001B[39;49m\u001B[43m]\u001B[49m\u001B[43m)\u001B[49m\n",
      "\u001B[0;31mTypeError\u001B[0m: sequence item 0: expected str instance, int found"
     ]
    }
   ],
   "execution_count": 13
  },
  {
   "metadata": {
    "ExecuteTime": {
     "end_time": "2024-04-09T13:56:35.202396Z",
     "start_time": "2024-04-09T13:56:35.195611Z"
    }
   },
   "cell_type": "code",
   "source": [
    "a1 = list(range(10))\n",
    "a2 = a1\n",
    "\n",
    "a1, a2"
   ],
   "id": "37d1150a5f81938a",
   "outputs": [
    {
     "data": {
      "text/plain": [
       "([0, 1, 2, 3, 4, 5, 6, 7, 8, 9], [0, 1, 2, 3, 4, 5, 6, 7, 8, 9])"
      ]
     },
     "execution_count": 7,
     "metadata": {},
     "output_type": "execute_result"
    }
   ],
   "execution_count": 7
  },
  {
   "metadata": {
    "ExecuteTime": {
     "end_time": "2024-04-09T19:44:55.531526Z",
     "start_time": "2024-04-09T19:44:55.525284Z"
    }
   },
   "cell_type": "code",
   "source": [
    "def print_k(k):\n",
    "    for k in range(10):\n",
    "        k\n",
    "    \n",
    "    return k"
   ],
   "id": "8e52f9697e91e108",
   "outputs": [],
   "execution_count": 9
  },
  {
   "metadata": {
    "ExecuteTime": {
     "end_time": "2024-04-09T13:57:12.560455Z",
     "start_time": "2024-04-09T13:57:12.530739Z"
    }
   },
   "cell_type": "code",
   "source": [
    "a2 = list(set(a2) - {1, 2, 3, 15})\n",
    "a1, a2"
   ],
   "id": "67b956354892353e",
   "outputs": [
    {
     "data": {
      "text/plain": [
       "([0, 1, 2, 3, 4, 5, 6, 7, 8, 9], [0, 4, 5, 6, 7, 8, 9])"
      ]
     },
     "execution_count": 8,
     "metadata": {},
     "output_type": "execute_result"
    }
   ],
   "execution_count": 8
  },
  {
   "cell_type": "code",
   "source": [
    "num_qubits = 10\n",
    "num_layers = 10\n",
    "vqa = LocalVQA(num_qubits, num_layers)\n",
    "rng = np.random.default_rng(42)\n",
    "\n",
    "x = np.zeros(vqa.num_parameters)\n",
    "i_fixed = np.array([], dtype=int)\n",
    "paulis = all_two_body_pauli(num_qubits)\n",
    "\n",
    "nonzero_paulis = []\n",
    "while True:\n",
    "    iteration_successful, pauli, x = find_nonzero_pauli(vqa, paulis, x, i_fixed, rng, num_samples=100)\n",
    "    \n",
    "    if not iteration_successful:\n",
    "        break\n",
    "\n",
    "    new_fixed = find_indices_of_fixed_angles(vqa, pauli, x)\n",
    "    i_fixed = np.unique(np.concatenate([i_fixed, new_fixed]))\n",
    "\n",
    "    paulis.remove(pauli)\n",
    "    nonzero_paulis.append(pauli)\n",
    "    \n",
    "    print(nonzero_paulis, len(i_fixed), vqa.num_parameters)"
   ],
   "metadata": {
    "collapsed": false,
    "is_executing": true,
    "ExecuteTime": {
     "end_time": "2024-04-08T11:01:34.335782Z",
     "start_time": "2024-04-08T11:01:34.273925Z"
    }
   },
   "id": "61625e538f6e5106",
   "outputs": [
    {
     "ename": "NameError",
     "evalue": "name 'LocalVQA' is not defined",
     "output_type": "error",
     "traceback": [
      "\u001B[0;31m---------------------------------------------------------------------------\u001B[0m",
      "\u001B[0;31mNameError\u001B[0m                                 Traceback (most recent call last)",
      "Cell \u001B[0;32mIn[2], line 3\u001B[0m\n\u001B[1;32m      1\u001B[0m num_qubits \u001B[38;5;241m=\u001B[39m \u001B[38;5;241m10\u001B[39m\n\u001B[1;32m      2\u001B[0m num_layers \u001B[38;5;241m=\u001B[39m \u001B[38;5;241m10\u001B[39m\n\u001B[0;32m----> 3\u001B[0m vqa \u001B[38;5;241m=\u001B[39m \u001B[43mLocalVQA\u001B[49m(num_qubits, num_layers)\n\u001B[1;32m      4\u001B[0m rng \u001B[38;5;241m=\u001B[39m np\u001B[38;5;241m.\u001B[39mrandom\u001B[38;5;241m.\u001B[39mdefault_rng(\u001B[38;5;241m42\u001B[39m)\n\u001B[1;32m      6\u001B[0m x \u001B[38;5;241m=\u001B[39m np\u001B[38;5;241m.\u001B[39mzeros(vqa\u001B[38;5;241m.\u001B[39mnum_parameters)\n",
      "\u001B[0;31mNameError\u001B[0m: name 'LocalVQA' is not defined"
     ]
    }
   ],
   "execution_count": 2
  },
  {
   "metadata": {
    "ExecuteTime": {
     "end_time": "2024-04-11T11:50:12.763848Z",
     "start_time": "2024-04-11T11:50:12.718046Z"
    }
   },
   "cell_type": "code",
   "source": [
    "vqa= LocalVQA(2, 0)\n",
    "paulis = ['II', 'ZZ']\n",
    "\n",
    "print(vqa.qiskit_circuit.draw())\n",
    "print(vqa._flat_params)"
   ],
   "id": "d6e677441b28eda2",
   "outputs": [
    {
     "name": "stdout",
     "output_type": "stream",
     "text": [
      "     ┌────────┐┌────────┐\n",
      "q_0: ┤ Rx(x0) ├┤ Rz(z0) ├\n",
      "     ├────────┤├────────┤\n",
      "q_1: ┤ Rx(x1) ├┤ Rz(z1) ├\n",
      "     └────────┘└────────┘\n",
      "[Parameter(x0), Parameter(x1), Parameter(z0), Parameter(z1)]\n"
     ]
    }
   ],
   "execution_count": 30
  },
  {
   "metadata": {
    "ExecuteTime": {
     "end_time": "2024-04-11T11:42:44.177021Z",
     "start_time": "2024-04-11T11:42:44.164812Z"
    }
   },
   "cell_type": "code",
   "source": "np.vstack([vec, m])",
   "id": "3cd41fda02fc22dd",
   "outputs": [
    {
     "data": {
      "text/plain": [
       "array([[0.        , 1.        , 2.        , 4.        ],\n",
       "       [0.15184883, 0.54025631, 0.85841882, 0.71945407],\n",
       "       [0.54526043, 0.18605528, 0.28902469, 0.05481335],\n",
       "       [0.54907367, 0.59640534, 0.95748073, 0.11858887]])"
      ]
     },
     "execution_count": 25,
     "metadata": {},
     "output_type": "execute_result"
    }
   ],
   "execution_count": 25
  },
  {
   "cell_type": "code",
   "source": [
    "y = vqa.random_parameters(num_samples=131, rng=131)\n",
    "y[:, i_fixed] = x[i_fixed]\n",
    "values = vqa.expval_vmap(paulis, y)"
   ],
   "metadata": {
    "collapsed": false
   },
   "id": "bea0feb214998ddd",
   "outputs": [],
   "execution_count": null
  },
  {
   "cell_type": "code",
   "source": [
    "paulis_fixed = []\n",
    "for i in range(len(paulis)):\n",
    "    if not np.allclose(values[:, i], 0) and np.allclose(values[:, i], 1):\n",
    "        paulis_fixed.append(paulis[i])"
   ],
   "metadata": {
    "collapsed": false,
    "ExecuteTime": {
     "end_time": "2024-04-08T11:01:34.505092Z",
     "start_time": "2024-04-08T11:01:34.451114Z"
    }
   },
   "id": "6223979165d9bb33",
   "outputs": [
    {
     "ename": "NameError",
     "evalue": "name 'paulis' is not defined",
     "output_type": "error",
     "traceback": [
      "\u001B[0;31m---------------------------------------------------------------------------\u001B[0m",
      "\u001B[0;31mNameError\u001B[0m                                 Traceback (most recent call last)",
      "Cell \u001B[0;32mIn[3], line 2\u001B[0m\n\u001B[1;32m      1\u001B[0m paulis_fixed \u001B[38;5;241m=\u001B[39m []\n\u001B[0;32m----> 2\u001B[0m \u001B[38;5;28;01mfor\u001B[39;00m i \u001B[38;5;129;01min\u001B[39;00m \u001B[38;5;28mrange\u001B[39m(\u001B[38;5;28mlen\u001B[39m(\u001B[43mpaulis\u001B[49m)):\n\u001B[1;32m      3\u001B[0m     \u001B[38;5;28;01mif\u001B[39;00m \u001B[38;5;129;01mnot\u001B[39;00m np\u001B[38;5;241m.\u001B[39mallclose(values[:, i], \u001B[38;5;241m0\u001B[39m) \u001B[38;5;129;01mand\u001B[39;00m np\u001B[38;5;241m.\u001B[39mallclose(values[:, i], \u001B[38;5;241m1\u001B[39m):\n\u001B[1;32m      4\u001B[0m         paulis_fixed\u001B[38;5;241m.\u001B[39mappend(paulis[i])\n",
      "\u001B[0;31mNameError\u001B[0m: name 'paulis' is not defined"
     ]
    }
   ],
   "execution_count": 3
  },
  {
   "cell_type": "code",
   "source": [
    "len(paulis_fixed) / len(paulis), 2**-num_qubits"
   ],
   "metadata": {
    "collapsed": false,
    "ExecuteTime": {
     "end_time": "2024-04-08T11:01:34.517410Z",
     "start_time": "2024-04-08T11:01:34.509180Z"
    }
   },
   "id": "2c9300564d2e3c27",
   "outputs": [],
   "execution_count": null
  },
  {
   "cell_type": "code",
   "source": [
    "np.abs(values).mean(axis=0)"
   ],
   "metadata": {
    "collapsed": false,
    "ExecuteTime": {
     "end_time": "2024-04-08T11:01:34.743449Z",
     "start_time": "2024-04-08T11:01:34.703105Z"
    }
   },
   "id": "ed51d179e9931810",
   "outputs": [
    {
     "ename": "NameError",
     "evalue": "name 'np' is not defined",
     "output_type": "error",
     "traceback": [
      "\u001B[0;31m---------------------------------------------------------------------------\u001B[0m",
      "\u001B[0;31mNameError\u001B[0m                                 Traceback (most recent call last)",
      "Cell \u001B[0;32mIn[4], line 1\u001B[0m\n\u001B[0;32m----> 1\u001B[0m \u001B[43mnp\u001B[49m\u001B[38;5;241m.\u001B[39mabs(values)\u001B[38;5;241m.\u001B[39mmean(axis\u001B[38;5;241m=\u001B[39m\u001B[38;5;241m0\u001B[39m)\n",
      "\u001B[0;31mNameError\u001B[0m: name 'np' is not defined"
     ]
    }
   ],
   "execution_count": 4
  },
  {
   "cell_type": "markdown",
   "source": [
    "observables = all_local_two_body_pauli(num_qubits)\n",
    "\n",
    "num_samples = 300\n",
    "seed = 41\n",
    "\n",
    "uniform_variances = vqa.uniform_variance(observables, num_samples=num_samples, rng=seed)\n",
    "clifford_variances = vqa.clifford_variance(observables, num_samples=num_samples, rng=seed)\n",
    "print('expected', 2**-num_qubits)\n",
    "print(f'uniform var: {uniform_variances.mean()} std: {uniform_variances.std()}')\n",
    "print(f'clifford var: {clifford_variances.mean()} std: {clifford_variances.std()}')"
   ],
   "metadata": {
    "collapsed": false
   },
   "id": "4bcfb42a77eee02a"
  },
  {
   "cell_type": "markdown",
   "source": [
    "# Shallowing"
   ],
   "metadata": {
    "collapsed": false
   },
   "id": "a6a34725e264041b"
  },
  {
   "cell_type": "code",
   "source": [
    "exp = ShallowingExperiment('95')\n",
    "schedule = [0.95, 0.96, 0.97, 0.98, 0.99]\n",
    "num_qubits = 4\n",
    "num_layers = 50\n",
    "num_clifford = 5\n",
    "num_samples = 50\n",
    "exp.run(num_qubits, num_layers, num_clifford, num_samples, schedule)"
   ],
   "metadata": {
    "collapsed": false,
    "ExecuteTime": {
     "end_time": "2024-04-08T11:01:34.981082Z",
     "start_time": "2024-04-08T11:01:34.936933Z"
    }
   },
   "id": "8e0c92b7cc4876d8",
   "outputs": [
    {
     "ename": "NameError",
     "evalue": "name 'ShallowingExperiment' is not defined",
     "output_type": "error",
     "traceback": [
      "\u001B[0;31m---------------------------------------------------------------------------\u001B[0m",
      "\u001B[0;31mNameError\u001B[0m                                 Traceback (most recent call last)",
      "Cell \u001B[0;32mIn[5], line 1\u001B[0m\n\u001B[0;32m----> 1\u001B[0m exp \u001B[38;5;241m=\u001B[39m \u001B[43mShallowingExperiment\u001B[49m(\u001B[38;5;124m'\u001B[39m\u001B[38;5;124m95\u001B[39m\u001B[38;5;124m'\u001B[39m)\n\u001B[1;32m      2\u001B[0m schedule \u001B[38;5;241m=\u001B[39m [\u001B[38;5;241m0.95\u001B[39m, \u001B[38;5;241m0.96\u001B[39m, \u001B[38;5;241m0.97\u001B[39m, \u001B[38;5;241m0.98\u001B[39m, \u001B[38;5;241m0.99\u001B[39m]\n\u001B[1;32m      3\u001B[0m num_qubits \u001B[38;5;241m=\u001B[39m \u001B[38;5;241m4\u001B[39m\n",
      "\u001B[0;31mNameError\u001B[0m: name 'ShallowingExperiment' is not defined"
     ]
    }
   ],
   "execution_count": 5
  },
  {
   "cell_type": "code",
   "source": [
    "exp.plot_results()\n",
    "plt.yscale('log')"
   ],
   "metadata": {
    "collapsed": false,
    "ExecuteTime": {
     "end_time": "2024-04-08T11:01:35.074299Z",
     "start_time": "2024-04-08T11:01:35.003720Z"
    }
   },
   "id": "c00dce005a28c648",
   "outputs": [
    {
     "ename": "NameError",
     "evalue": "name 'exp' is not defined",
     "output_type": "error",
     "traceback": [
      "\u001B[0;31m---------------------------------------------------------------------------\u001B[0m",
      "\u001B[0;31mNameError\u001B[0m                                 Traceback (most recent call last)",
      "Cell \u001B[0;32mIn[6], line 1\u001B[0m\n\u001B[0;32m----> 1\u001B[0m \u001B[43mexp\u001B[49m\u001B[38;5;241m.\u001B[39mplot_results()\n\u001B[1;32m      2\u001B[0m plt\u001B[38;5;241m.\u001B[39myscale(\u001B[38;5;124m'\u001B[39m\u001B[38;5;124mlog\u001B[39m\u001B[38;5;124m'\u001B[39m)\n",
      "\u001B[0;31mNameError\u001B[0m: name 'exp' is not defined"
     ]
    }
   ],
   "execution_count": 6
  },
  {
   "cell_type": "code",
   "source": [
    "shexperiment = ShallowingExperiment.load('shtest')"
   ],
   "metadata": {
    "collapsed": false,
    "ExecuteTime": {
     "end_time": "2024-04-08T11:01:35.272174Z",
     "start_time": "2024-04-08T11:01:35.230905Z"
    }
   },
   "id": "ac1081f6f8d7d4ed",
   "outputs": [
    {
     "ename": "NameError",
     "evalue": "name 'ShallowingExperiment' is not defined",
     "output_type": "error",
     "traceback": [
      "\u001B[0;31m---------------------------------------------------------------------------\u001B[0m",
      "\u001B[0;31mNameError\u001B[0m                                 Traceback (most recent call last)",
      "Cell \u001B[0;32mIn[7], line 1\u001B[0m\n\u001B[0;32m----> 1\u001B[0m shexperiment \u001B[38;5;241m=\u001B[39m \u001B[43mShallowingExperiment\u001B[49m\u001B[38;5;241m.\u001B[39mload(\u001B[38;5;124m'\u001B[39m\u001B[38;5;124mshtest\u001B[39m\u001B[38;5;124m'\u001B[39m)\n",
      "\u001B[0;31mNameError\u001B[0m: name 'ShallowingExperiment' is not defined"
     ]
    }
   ],
   "execution_count": 7
  },
  {
   "cell_type": "code",
   "source": [
    "num_qubits = 6\n",
    "num_layers = 100\n",
    "shexperiment.run(num_qubits, num_layers, 5, 50)"
   ],
   "metadata": {
    "collapsed": false,
    "ExecuteTime": {
     "end_time": "2024-04-08T11:01:35.529835Z",
     "start_time": "2024-04-08T11:01:35.485644Z"
    }
   },
   "id": "baa6d0167605747f",
   "outputs": [
    {
     "ename": "NameError",
     "evalue": "name 'shexperiment' is not defined",
     "output_type": "error",
     "traceback": [
      "\u001B[0;31m---------------------------------------------------------------------------\u001B[0m",
      "\u001B[0;31mNameError\u001B[0m                                 Traceback (most recent call last)",
      "Cell \u001B[0;32mIn[8], line 3\u001B[0m\n\u001B[1;32m      1\u001B[0m num_qubits \u001B[38;5;241m=\u001B[39m \u001B[38;5;241m6\u001B[39m\n\u001B[1;32m      2\u001B[0m num_layers \u001B[38;5;241m=\u001B[39m \u001B[38;5;241m100\u001B[39m\n\u001B[0;32m----> 3\u001B[0m \u001B[43mshexperiment\u001B[49m\u001B[38;5;241m.\u001B[39mrun(num_qubits, num_layers, \u001B[38;5;241m5\u001B[39m, \u001B[38;5;241m50\u001B[39m)\n",
      "\u001B[0;31mNameError\u001B[0m: name 'shexperiment' is not defined"
     ]
    }
   ],
   "execution_count": 8
  },
  {
   "cell_type": "code",
   "source": [
    "shexperiment.plot_results()\n",
    "plt.yscale('log')"
   ],
   "metadata": {
    "collapsed": false,
    "ExecuteTime": {
     "end_time": "2024-04-08T11:01:35.620717Z",
     "start_time": "2024-04-08T11:01:35.581255Z"
    }
   },
   "id": "49c393b584ec44ec",
   "outputs": [
    {
     "ename": "NameError",
     "evalue": "name 'shexperiment' is not defined",
     "output_type": "error",
     "traceback": [
      "\u001B[0;31m---------------------------------------------------------------------------\u001B[0m",
      "\u001B[0;31mNameError\u001B[0m                                 Traceback (most recent call last)",
      "Cell \u001B[0;32mIn[9], line 1\u001B[0m\n\u001B[0;32m----> 1\u001B[0m \u001B[43mshexperiment\u001B[49m\u001B[38;5;241m.\u001B[39mplot_results()\n\u001B[1;32m      2\u001B[0m plt\u001B[38;5;241m.\u001B[39myscale(\u001B[38;5;124m'\u001B[39m\u001B[38;5;124mlog\u001B[39m\u001B[38;5;124m'\u001B[39m)\n",
      "\u001B[0;31mNameError\u001B[0m: name 'shexperiment' is not defined"
     ]
    }
   ],
   "execution_count": 9
  },
  {
   "cell_type": "code",
   "source": [
    "uniform_bp_exp = UniformBPExperiement.load('uniform_test')\n"
   ],
   "metadata": {
    "collapsed": false,
    "ExecuteTime": {
     "end_time": "2024-04-08T11:01:35.798392Z",
     "start_time": "2024-04-08T11:01:35.764155Z"
    }
   },
   "id": "7beafbf1687afe7e",
   "outputs": [
    {
     "ename": "NameError",
     "evalue": "name 'UniformBPExperiement' is not defined",
     "output_type": "error",
     "traceback": [
      "\u001B[0;31m---------------------------------------------------------------------------\u001B[0m",
      "\u001B[0;31mNameError\u001B[0m                                 Traceback (most recent call last)",
      "Cell \u001B[0;32mIn[10], line 1\u001B[0m\n\u001B[0;32m----> 1\u001B[0m uniform_bp_exp \u001B[38;5;241m=\u001B[39m \u001B[43mUniformBPExperiement\u001B[49m\u001B[38;5;241m.\u001B[39mload(\u001B[38;5;124m'\u001B[39m\u001B[38;5;124muniform_test\u001B[39m\u001B[38;5;124m'\u001B[39m)\n",
      "\u001B[0;31mNameError\u001B[0m: name 'UniformBPExperiement' is not defined"
     ]
    }
   ],
   "execution_count": 10
  },
  {
   "cell_type": "code",
   "source": [
    "uniform_bp_exp = UniformBPExperiement.load('uniform_test')\n",
    "uniform_bp_exp.run([8], range(10, 50+1, 10), 10)"
   ],
   "metadata": {
    "collapsed": false,
    "ExecuteTime": {
     "end_time": "2024-04-08T11:01:35.931194Z",
     "start_time": "2024-04-08T11:01:35.892969Z"
    }
   },
   "id": "4c2b733751e62172",
   "outputs": [
    {
     "ename": "NameError",
     "evalue": "name 'UniformBPExperiement' is not defined",
     "output_type": "error",
     "traceback": [
      "\u001B[0;31m---------------------------------------------------------------------------\u001B[0m",
      "\u001B[0;31mNameError\u001B[0m                                 Traceback (most recent call last)",
      "Cell \u001B[0;32mIn[11], line 1\u001B[0m\n\u001B[0;32m----> 1\u001B[0m uniform_bp_exp \u001B[38;5;241m=\u001B[39m \u001B[43mUniformBPExperiement\u001B[49m\u001B[38;5;241m.\u001B[39mload(\u001B[38;5;124m'\u001B[39m\u001B[38;5;124muniform_test\u001B[39m\u001B[38;5;124m'\u001B[39m)\n\u001B[1;32m      2\u001B[0m uniform_bp_exp\u001B[38;5;241m.\u001B[39mrun([\u001B[38;5;241m8\u001B[39m], \u001B[38;5;28mrange\u001B[39m(\u001B[38;5;241m10\u001B[39m, \u001B[38;5;241m50\u001B[39m\u001B[38;5;241m+\u001B[39m\u001B[38;5;241m1\u001B[39m, \u001B[38;5;241m10\u001B[39m), \u001B[38;5;241m10\u001B[39m)\n",
      "\u001B[0;31mNameError\u001B[0m: name 'UniformBPExperiement' is not defined"
     ]
    }
   ],
   "execution_count": 11
  },
  {
   "cell_type": "markdown",
   "source": [
    "# Uniform BP"
   ],
   "metadata": {
    "collapsed": false
   },
   "id": "6aaa9e03407d599e"
  },
  {
   "cell_type": "code",
   "source": [
    "uniform_bp_exp.plot_results()"
   ],
   "metadata": {
    "collapsed": false,
    "ExecuteTime": {
     "end_time": "2024-04-08T11:01:35.996374Z",
     "start_time": "2024-04-08T11:01:35.946424Z"
    }
   },
   "id": "cbd2381b68abef10",
   "outputs": [
    {
     "ename": "NameError",
     "evalue": "name 'uniform_bp_exp' is not defined",
     "output_type": "error",
     "traceback": [
      "\u001B[0;31m---------------------------------------------------------------------------\u001B[0m",
      "\u001B[0;31mNameError\u001B[0m                                 Traceback (most recent call last)",
      "Cell \u001B[0;32mIn[12], line 1\u001B[0m\n\u001B[0;32m----> 1\u001B[0m \u001B[43muniform_bp_exp\u001B[49m\u001B[38;5;241m.\u001B[39mplot_results()\n",
      "\u001B[0;31mNameError\u001B[0m: name 'uniform_bp_exp' is not defined"
     ]
    }
   ],
   "execution_count": 12
  },
  {
   "cell_type": "code",
   "source": [
    "uniform_bp_exp.results[2][10].mean()"
   ],
   "metadata": {
    "collapsed": false,
    "ExecuteTime": {
     "end_time": "2024-04-08T11:01:36.112764Z",
     "start_time": "2024-04-08T11:01:36.076311Z"
    }
   },
   "id": "2330198ff9c87188",
   "outputs": [
    {
     "ename": "NameError",
     "evalue": "name 'uniform_bp_exp' is not defined",
     "output_type": "error",
     "traceback": [
      "\u001B[0;31m---------------------------------------------------------------------------\u001B[0m",
      "\u001B[0;31mNameError\u001B[0m                                 Traceback (most recent call last)",
      "Cell \u001B[0;32mIn[13], line 1\u001B[0m\n\u001B[0;32m----> 1\u001B[0m \u001B[43muniform_bp_exp\u001B[49m\u001B[38;5;241m.\u001B[39mresults[\u001B[38;5;241m2\u001B[39m][\u001B[38;5;241m10\u001B[39m]\u001B[38;5;241m.\u001B[39mmean()\n",
      "\u001B[0;31mNameError\u001B[0m: name 'uniform_bp_exp' is not defined"
     ]
    }
   ],
   "execution_count": 13
  },
  {
   "cell_type": "code",
   "source": [
    "uniform_bp_exp.save()"
   ],
   "metadata": {
    "collapsed": false,
    "ExecuteTime": {
     "end_time": "2024-04-08T11:01:36.215600Z",
     "start_time": "2024-04-08T11:01:36.177954Z"
    }
   },
   "id": "59ed7fecdf031792",
   "outputs": [
    {
     "ename": "NameError",
     "evalue": "name 'uniform_bp_exp' is not defined",
     "output_type": "error",
     "traceback": [
      "\u001B[0;31m---------------------------------------------------------------------------\u001B[0m",
      "\u001B[0;31mNameError\u001B[0m                                 Traceback (most recent call last)",
      "Cell \u001B[0;32mIn[14], line 1\u001B[0m\n\u001B[0;32m----> 1\u001B[0m \u001B[43muniform_bp_exp\u001B[49m\u001B[38;5;241m.\u001B[39msave()\n",
      "\u001B[0;31mNameError\u001B[0m: name 'uniform_bp_exp' is not defined"
     ]
    }
   ],
   "execution_count": 14
  },
  {
   "cell_type": "code",
   "source": [
    "UniformBPExperiement.load(uniform_bp_exp.name)"
   ],
   "metadata": {
    "collapsed": false,
    "ExecuteTime": {
     "end_time": "2024-04-08T11:01:36.365488Z",
     "start_time": "2024-04-08T11:01:36.317303Z"
    }
   },
   "id": "d7c3248ec0393226",
   "outputs": [
    {
     "ename": "NameError",
     "evalue": "name 'UniformBPExperiement' is not defined",
     "output_type": "error",
     "traceback": [
      "\u001B[0;31m---------------------------------------------------------------------------\u001B[0m",
      "\u001B[0;31mNameError\u001B[0m                                 Traceback (most recent call last)",
      "Cell \u001B[0;32mIn[15], line 1\u001B[0m\n\u001B[0;32m----> 1\u001B[0m \u001B[43mUniformBPExperiement\u001B[49m\u001B[38;5;241m.\u001B[39mload(uniform_bp_exp\u001B[38;5;241m.\u001B[39mname)\n",
      "\u001B[0;31mNameError\u001B[0m: name 'UniformBPExperiement' is not defined"
     ]
    }
   ],
   "execution_count": 15
  }
 ],
 "metadata": {
  "kernelspec": {
   "display_name": "Python 3",
   "language": "python",
   "name": "python3"
  },
  "language_info": {
   "codemirror_mode": {
    "name": "ipython",
    "version": 2
   },
   "file_extension": ".py",
   "mimetype": "text/x-python",
   "name": "python",
   "nbconvert_exporter": "python",
   "pygments_lexer": "ipython2",
   "version": "2.7.6"
  }
 },
 "nbformat": 4,
 "nbformat_minor": 5
}
