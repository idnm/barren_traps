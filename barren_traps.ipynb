{
 "cells": [
  {
   "cell_type": "code",
   "execution_count": 107,
   "id": "initial_id",
   "metadata": {
    "collapsed": true,
    "ExecuteTime": {
     "end_time": "2024-02-08T10:10:50.710004730Z",
     "start_time": "2024-02-08T10:10:50.707213670Z"
    }
   },
   "outputs": [],
   "source": [
    "import numpy as np\n",
    "import matplotlib.pyplot as plt\n",
    "import pennylane as qml\n",
    "from tqdm.auto import tqdm\n",
    "from collections import defaultdict"
   ]
  },
  {
   "cell_type": "code",
   "outputs": [
    {
     "data": {
      "text/plain": "array([[ 1,  0,  0,  0,  0,  0,  0,  0],\n       [ 0,  1,  0,  0,  0,  0,  0,  0],\n       [ 0,  0,  1,  0,  0,  0,  0,  0],\n       [ 0,  0,  0,  1,  0,  0,  0,  0],\n       [ 0,  0,  0,  0, -1,  0,  0,  0],\n       [ 0,  0,  0,  0,  0, -1,  0,  0],\n       [ 0,  0,  0,  0,  0,  0, -1,  0],\n       [ 0,  0,  0,  0,  0,  0,  0, -1]])"
     },
     "execution_count": 78,
     "metadata": {},
     "output_type": "execute_result"
    }
   ],
   "source": [
    "qml.matrix(qml.pauli.string_to_pauli_word('ZII'), wire_order=(0, 1, 2))"
   ],
   "metadata": {
    "collapsed": false,
    "ExecuteTime": {
     "end_time": "2024-02-07T21:10:54.592921248Z",
     "start_time": "2024-02-07T21:10:54.477457634Z"
    }
   },
   "id": "b1ae7a63ebc25361",
   "execution_count": 78
  },
  {
   "cell_type": "code",
   "outputs": [],
   "source": [
    "class LocalVQA:\n",
    "    def __init__(self, num_qubits, num_layers):\n",
    "        self.num_qubits = num_qubits\n",
    "        self.num_layers = num_layers\n",
    "        \n",
    "    def initial_gates(self, x, z):\n",
    "        \n",
    "        for n in range(self.num_qubits):\n",
    "            qml.RX(x[n], wires=n)\n",
    "            qml.RZ(z[n], wires=n)\n",
    "    \n",
    "    def entangling_layer(self, x, z, start=0):\n",
    "        for n in range(start, self.num_qubits+start, 2):\n",
    "            i = n % self.num_qubits\n",
    "            j = (n +1 ) % self.num_qubits\n",
    "            qml.CZ(wires=(i, j))\n",
    "        \n",
    "        for n in range(self.num_qubits):\n",
    "            qml.RX(x[n], wires=n)\n",
    "            qml.RZ(z[n], wires=n)\n",
    "    \n",
    "    def all_entangling_layers(self, x, z):\n",
    "        s = 0\n",
    "        for xi, zi in zip(x, z):\n",
    "            self.entangling_layer(xi, zi, start=s)\n",
    "            s = 1-s\n",
    "            \n",
    "    def circuit(self, x0, z0, x, z):\n",
    "        self.initial_gates(x0, z0)\n",
    "        self.all_entangling_layers(x, z)\n",
    "    \n",
    "    def expval(self, obs):\n",
    "        \n",
    "        dev = qml.device('default.qubit', wires=self.num_qubits)\n",
    "        @qml.qnode(dev, interface='jax')\n",
    "        def expectation(x0, z0, x, z):\n",
    "            self.circuit(x0, z0, x, z)\n",
    "            return qml.expval(obs)\n",
    "        \n",
    "        return expectation\n",
    "    \n",
    "    def random_parameters(self):\n",
    "                \n",
    "        x0 = 2*np.pi*np.random.uniform(size=self.num_qubits)        \n",
    "        z0 = 2*np.pi*np.random.uniform(size=self.num_qubits)\n",
    "        \n",
    "        x = 2*np.pi*np.random.uniform(size=(self.num_layers, self.num_qubits))\n",
    "        z = 2*np.pi*np.random.uniform(size=(self.num_layers, self.num_qubits))\n",
    "        \n",
    "        return x0, z0, x, z\n",
    "    \n",
    "    def random_clifford_parameters(self):\n",
    "        x0 = np.pi / 2 * np.random.choice(range(4), size=self.num_qubits, replace=True)\n",
    "        z0 = np.pi / 2 * np.random.choice(range(4), size=self.num_qubits, replace=True)\n",
    "        \n",
    "        x = np.pi / 2 * np.random.choice(range(4), size=(self.num_layers, self.num_qubits), replace=True)\n",
    "        z = np.pi / 2 * np.random.choice(range(4), size=(self.num_layers, self.num_qubits), replace=True)\n",
    "        \n",
    "        return x0, z0, x, z\n",
    "        \n",
    "    def good_random_clifford_parameters(self, obs):\n",
    "        _, _, x, z = self.random_clifford_parameters()\n",
    "        \n",
    "        U = qml.matrix(vqa.all_entangling_layers)(x, z)\n",
    "        P_evolved = qml.pauli_decompose(U.conj().T @ qml.matrix(obs, wire_order=range(self.num_qubits)) @ U)\n",
    "        P_label =  qml.pauli.pauli_word_to_string(P_evolved.ops[0])\n",
    "        \n",
    "        x0 = []\n",
    "        z0 = []\n",
    "        for p in P_label:\n",
    "            if p == 'I' or p == 'Z':\n",
    "                x0.append(0)\n",
    "                z0.append(0)\n",
    "            if p == 'Y':\n",
    "                x0.append(np.pi/2)\n",
    "                z0.append(0)\n",
    "            elif p == 'X':\n",
    "                x0.append(np.pi/2)\n",
    "                z0.append(np.pi/2)\n",
    "            \n",
    "        assert np.allclose(np.abs(self.expval(obs)(x0, z0, x, z)), 1, atol=1e-5, rtol=1e-5)\n",
    "        return x0, z0, x, z\n",
    "    \n",
    "    def draw(self):\n",
    "        qml.draw_mpl(self.circuit)(*self.random_parameters())"
   ],
   "metadata": {
    "collapsed": false,
    "ExecuteTime": {
     "end_time": "2024-02-07T21:11:35.699513446Z",
     "start_time": "2024-02-07T21:11:35.651454843Z"
    }
   },
   "id": "24f5240c9bd48298",
   "execution_count": 79
  },
  {
   "cell_type": "code",
   "outputs": [
    {
     "data": {
      "text/plain": "0.0625"
     },
     "execution_count": 85,
     "metadata": {},
     "output_type": "execute_result"
    }
   ],
   "source": [
    "1/2**4"
   ],
   "metadata": {
    "collapsed": false,
    "ExecuteTime": {
     "end_time": "2024-02-07T21:17:04.945562625Z",
     "start_time": "2024-02-07T21:17:04.768320560Z"
    }
   },
   "id": "a430daa2b4f75d05",
   "execution_count": 85
  },
  {
   "cell_type": "code",
   "outputs": [
    {
     "data": {
      "text/plain": "PauliX(wires=[1])"
     },
     "execution_count": 92,
     "metadata": {},
     "output_type": "execute_result"
    }
   ],
   "source": [
    "qml.pauli.PauliWord({1: 'X'}).operation()"
   ],
   "metadata": {
    "collapsed": false,
    "ExecuteTime": {
     "end_time": "2024-02-07T21:26:07.982041208Z",
     "start_time": "2024-02-07T21:26:07.875621918Z"
    }
   },
   "id": "23ad8091e03c3ea9",
   "execution_count": 92
  },
  {
   "cell_type": "code",
   "outputs": [
    {
     "data": {
      "text/plain": "  0%|          | 0/10 [00:00<?, ?it/s]",
      "application/vnd.jupyter.widget-view+json": {
       "version_major": 2,
       "version_minor": 0,
       "model_id": "0cf085aa62d246bda438e77f9a7d2c38"
      }
     },
     "metadata": {},
     "output_type": "display_data"
    }
   ],
   "source": [
    "num_qubits = 6\n",
    "max_num_layers = 200\n",
    "num_obs = 100\n",
    "\n",
    "expvals = {}\n",
    "for num_layers in tqdm(range(1, max_num_layers+1, 20)):\n",
    "    vqa = LocalVQA(num_qubits, num_layers)\n",
    "    obs0 = qml.pauli.string_to_pauli_word('ZZ' + 'I' * (vqa.num_qubits -2))\n",
    "    \n",
    "    values = []\n",
    "    for _ in range(num_obs):\n",
    "        pi, pj = np.random.choice(['X', 'Y', 'Z'], size=2, replace=True)\n",
    "        i = np.random.choice(range(vqa.num_qubits-1))\n",
    "        obs1 = qml.pauli.PauliWord({i: pi, i+1: pj}).operation()\n",
    "        \n",
    "        x0, z0, x, z = vqa.good_random_clifford_parameters(obs0)\n",
    "        values.append(vqa.expval(obs1)(x0, z0, x, z))\n",
    "    \n",
    "    expvals[int(num_layers)] = values\n",
    "        "
   ],
   "metadata": {
    "collapsed": false,
    "ExecuteTime": {
     "end_time": "2024-02-07T22:39:51.362090776Z",
     "start_time": "2024-02-07T21:32:20.583825493Z"
    }
   },
   "id": "2432747b3512107d",
   "execution_count": 98
  },
  {
   "cell_type": "code",
   "outputs": [
    {
     "data": {
      "text/plain": "<matplotlib.collections.PathCollection at 0x7f5008251df0>"
     },
     "execution_count": 99,
     "metadata": {},
     "output_type": "execute_result"
    },
    {
     "data": {
      "text/plain": "<Figure size 640x480 with 1 Axes>",
      "image/png": "[encoded data removed]"
     },
     "metadata": {},
     "output_type": "display_data"
    }
   ],
   "source": [
    "layers = list(expvals.keys())\n",
    "stats = [np.array(np.abs(expvals[layer])).mean() for layer in layers]\n",
    "plt.scatter(layers, stats)"
   ],
   "metadata": {
    "collapsed": false,
    "ExecuteTime": {
     "end_time": "2024-02-07T22:39:51.698799317Z",
     "start_time": "2024-02-07T22:39:51.350389815Z"
    }
   },
   "id": "ecf4d00e175c3c1a",
   "execution_count": 99
  },
  {
   "cell_type": "code",
   "outputs": [
    {
     "data": {
      "text/plain": "0.03125"
     },
     "execution_count": 101,
     "metadata": {},
     "output_type": "execute_result"
    }
   ],
   "source": [
    "2*2**-num_qubits"
   ],
   "metadata": {
    "collapsed": false,
    "ExecuteTime": {
     "end_time": "2024-02-08T06:00:51.994799593Z",
     "start_time": "2024-02-08T06:00:51.942919853Z"
    }
   },
   "id": "75c6ef63bab01de0",
   "execution_count": 101
  },
  {
   "cell_type": "code",
   "outputs": [
    {
     "data": {
      "text/plain": "<matplotlib.collections.PathCollection at 0x7f500ab86550>"
     },
     "execution_count": 96,
     "metadata": {},
     "output_type": "execute_result"
    },
    {
     "data": {
      "text/plain": "<Figure size 640x480 with 1 Axes>",
      "image/png": "[encoded data removed]"
     },
     "metadata": {},
     "output_type": "display_data"
    }
   ],
   "source": [
    "layers = list(expvals.keys())\n",
    "stats = [np.array(np.abs(expvals[layer])).mean() for layer in layers]\n",
    "plt.scatter(layers, stats)"
   ],
   "metadata": {
    "collapsed": false,
    "ExecuteTime": {
     "end_time": "2024-02-07T21:31:35.757807328Z",
     "start_time": "2024-02-07T21:31:35.362263415Z"
    }
   },
   "id": "44abc511c0b8e74e",
   "execution_count": 96
  },
  {
   "cell_type": "code",
   "outputs": [],
   "source": [
    "def random_local_pauli(num_qubits):\n",
    "    p1, p2 = np.random.choice(['X', 'Y', 'Z'], size=2, replace=True)\n",
    "    i = np.random.choice(range(num_qubits-1))\n",
    "    return qml.pauli.PauliWord({i: p1, i+1: p2}).operation()    "
   ],
   "metadata": {
    "collapsed": false,
    "ExecuteTime": {
     "end_time": "2024-02-08T10:10:50.708812972Z",
     "start_time": "2024-02-08T10:10:50.706741380Z"
    }
   },
   "id": "9d50618e8f3fa990",
   "execution_count": 106
  },
  {
   "cell_type": "code",
   "outputs": [],
   "source": [
    "num_qubits = 6\n",
    "num_layers = 100\n",
    "vqa = LocalVQA(num_qubits, num_layers)\n",
    "\n",
    "obs0 = random_local_pauli(vqa.num_qubits)\n",
    "obs1 = random_local_pauli(vqa.num_qubits)"
   ],
   "metadata": {
    "collapsed": false,
    "ExecuteTime": {
     "end_time": "2024-02-08T10:54:20.429817349Z",
     "start_time": "2024-02-08T10:54:20.376161160Z"
    }
   },
   "id": "d4b9d8863485673e",
   "execution_count": 123
  },
  {
   "cell_type": "code",
   "outputs": [],
   "source": [
    "params = vqa.good_random_clifford_parameters(obs0)"
   ],
   "metadata": {
    "collapsed": false,
    "ExecuteTime": {
     "end_time": "2024-02-08T10:54:30.521980649Z",
     "start_time": "2024-02-08T10:54:21.153596324Z"
    }
   },
   "id": "ccd55c4282c0d827",
   "execution_count": 124
  },
  {
   "cell_type": "code",
   "outputs": [
    {
     "data": {
      "text/plain": "Array(0., dtype=float32)"
     },
     "execution_count": 125,
     "metadata": {},
     "output_type": "execute_result"
    }
   ],
   "source": [
    "vqa.expval(obs1)(*params)"
   ],
   "metadata": {
    "collapsed": false,
    "ExecuteTime": {
     "end_time": "2024-02-08T10:54:32.547949223Z",
     "start_time": "2024-02-08T10:54:30.535401205Z"
    }
   },
   "id": "26a5532241bf4959",
   "execution_count": 125
  },
  {
   "cell_type": "code",
   "outputs": [],
   "source": [
    "num_qubits = 8\n",
    "num_layers = 100\n",
    "vqa = LocalVQA(num_qubits, num_layers)\n",
    "\n",
    "obs0 = random_local_pauli(vqa.num_qubits)\n",
    "obs1 = random_local_pauli(vqa.num_qubits)\n",
    "\n",
    "_, _, x, z = vqa.random_clifford_parameters()"
   ],
   "metadata": {
    "collapsed": false,
    "ExecuteTime": {
     "end_time": "2024-02-08T10:57:41.230965846Z",
     "start_time": "2024-02-08T10:57:41.169763114Z"
    }
   },
   "id": "84bc705ca74c60d7",
   "execution_count": 133
  },
  {
   "cell_type": "code",
   "outputs": [],
   "source": [
    "U = qml.matrix(vqa.all_entangling_layers)(x, z)"
   ],
   "metadata": {
    "collapsed": false,
    "ExecuteTime": {
     "end_time": "2024-02-08T10:58:11.833482086Z",
     "start_time": "2024-02-08T10:57:44.202000689Z"
    }
   },
   "id": "2789e2a99cdb705a",
   "execution_count": 134
  },
  {
   "cell_type": "code",
   "outputs": [],
   "source": [
    "P_evolved = qml.pauli_decompose(U.conj().T @ qml.matrix(obs0, wire_order=range(vqa.num_qubits)) @ U)\n",
    "P_label =  qml.pauli.pauli_word_to_string(P_evolved.ops[0])"
   ],
   "metadata": {
    "collapsed": false,
    "ExecuteTime": {
     "end_time": "2024-02-08T10:58:19.929553307Z",
     "start_time": "2024-02-08T10:58:11.834736096Z"
    }
   },
   "id": "289884c98b8e21fc",
   "execution_count": 135
  },
  {
   "cell_type": "code",
   "outputs": [],
   "source": [],
   "metadata": {
    "collapsed": false
   },
   "id": "583e08eb6e02d636"
  },
  {
   "cell_type": "code",
   "outputs": [
    {
     "data": {
      "text/plain": "  0%|          | 0/4 [00:00<?, ?it/s]",
      "application/vnd.jupyter.widget-view+json": {
       "version_major": 2,
       "version_minor": 0,
       "model_id": "975033799b7646dea856bed04cba4475"
      }
     },
     "metadata": {},
     "output_type": "display_data"
    }
   ],
   "source": [
    "num_qubits = 4\n",
    "max_num_layers = 100\n",
    "num_obs = 1\n",
    "num_samples = 100\n",
    "\n",
    "expvals = defaultdict(dict)\n",
    "for num_layers in tqdm(range(1, max_num_layers+1, 30)):\n",
    "    vqa = LocalVQA(num_qubits, num_layers)\n",
    "    \n",
    "    values = []\n",
    "    for _ in range(num_obs):\n",
    "        obs0 = random_local_pauli(vqa.num_qubits)\n",
    "        x0, z0, x, z = vqa.good_random_clifford_parameters(obs0)\n",
    "        values0 = []\n",
    "        for _ in range(num_samples):\n",
    "            obs1 = random_local_pauli(vqa.num_qubits)\n",
    "            val = vqa.expval(obs1)(x0, z0, x, z)\n",
    "            values0.append(val)\n",
    "        values.append(values0)\n",
    "    \n",
    "    expvals[num_qubits][int(num_layers)] = np.array(values)"
   ],
   "metadata": {
    "collapsed": false,
    "ExecuteTime": {
     "end_time": "2024-02-08T10:22:30.018697949Z",
     "start_time": "2024-02-08T10:18:31.524329819Z"
    }
   },
   "id": "86d0c7a36384bba1",
   "execution_count": 110
  },
  {
   "cell_type": "code",
   "outputs": [
    {
     "data": {
      "text/plain": "<matplotlib.collections.PathCollection at 0x7f4ff37e28e0>"
     },
     "execution_count": 109,
     "metadata": {},
     "output_type": "execute_result"
    },
    {
     "data": {
      "text/plain": "<Figure size 640x480 with 1 Axes>",
      "image/png": "[encoded data removed]"
     },
     "metadata": {},
     "output_type": "display_data"
    }
   ],
   "source": [
    "layers = list(expvals[num_qubits].keys())\n",
    "stats = [np.abs(expvals[num_qubits][layer]).mean() for layer in layers]\n",
    "plt.scatter(layers, stats)"
   ],
   "metadata": {
    "collapsed": false,
    "ExecuteTime": {
     "end_time": "2024-02-08T10:17:57.672950257Z",
     "start_time": "2024-02-08T10:17:57.122657857Z"
    }
   },
   "id": "26992d628b05ba90",
   "execution_count": 109
  },
  {
   "cell_type": "code",
   "outputs": [
    {
     "data": {
      "text/plain": "  0%|          | 0/4 [00:00<?, ?it/s]",
      "application/vnd.jupyter.widget-view+json": {
       "version_major": 2,
       "version_minor": 0,
       "model_id": "2c541085c0ce46ffbeeb1ce2b03396d4"
      }
     },
     "metadata": {},
     "output_type": "display_data"
    }
   ],
   "source": [
    "num_qubits = 4\n",
    "max_num_layers = 100\n",
    "num_obs = 100\n",
    "\n",
    "expvals = {}\n",
    "for num_layers in tqdm(range(1, max_num_layers+1, 30)):\n",
    "    vqa = LocalVQA(num_qubits, num_layers)\n",
    "    obs0 = qml.pauli.string_to_pauli_word('ZZ' + 'I' * (vqa.num_qubits -2))\n",
    "    \n",
    "    values = []\n",
    "    for _ in range(num_obs):\n",
    "        pi, pj = np.random.choice(['X', 'Y', 'Z'], size=2, replace=True)\n",
    "        i = np.random.choice(range(vqa.num_qubits-1))\n",
    "        obs1 = qml.pauli.PauliWord({i: pi, i+1: pj}).operation()\n",
    "        \n",
    "        x0, z0, x, z = vqa.good_random_clifford_parameters(obs0)\n",
    "        values.append(vqa.expval(obs1)(x0, z0, x, z))\n",
    "    \n",
    "    expvals[int(num_layers)] = values\n",
    "        "
   ],
   "metadata": {
    "collapsed": false,
    "ExecuteTime": {
     "end_time": "2024-02-08T10:10:50.707006759Z",
     "start_time": "2024-02-08T10:00:44.211250387Z"
    }
   },
   "id": "bf1148ebef83ea68",
   "execution_count": 105
  },
  {
   "cell_type": "code",
   "outputs": [
    {
     "data": {
      "text/plain": "<matplotlib.collections.PathCollection at 0x7f4ff3bf1b80>"
     },
     "execution_count": 103,
     "metadata": {},
     "output_type": "execute_result"
    },
    {
     "data": {
      "text/plain": "<Figure size 640x480 with 1 Axes>",
      "image/png": "[encoded data removed]"
     },
     "metadata": {},
     "output_type": "display_data"
    }
   ],
   "source": [
    "layers = list(expvals.keys())\n",
    "stats = [np.array(np.abs(expvals[layer])).mean() for layer in layers]\n",
    "plt.scatter(layers, stats)"
   ],
   "metadata": {
    "collapsed": false,
    "ExecuteTime": {
     "end_time": "2024-02-08T08:46:12.270378462Z",
     "start_time": "2024-02-08T08:46:11.636520685Z"
    }
   },
   "id": "36d226b54da14308",
   "execution_count": 103
  },
  {
   "cell_type": "code",
   "outputs": [],
   "source": [],
   "metadata": {
    "collapsed": false
   },
   "id": "4b4d5cebb8eb8f7e"
  }
 ],
 "metadata": {
  "kernelspec": {
   "display_name": "Python 3",
   "language": "python",
   "name": "python3"
  },
  "language_info": {
   "codemirror_mode": {
    "name": "ipython",
    "version": 2
   },
   "file_extension": ".py",
   "mimetype": "text/x-python",
   "name": "python",
   "nbconvert_exporter": "python",
   "pygments_lexer": "ipython2",
   "version": "2.7.6"
  }
 },
 "nbformat": 4,
 "nbformat_minor": 5
}
