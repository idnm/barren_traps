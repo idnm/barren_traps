{
 "cells": [
  {
   "cell_type": "code",
   "id": "initial_id",
   "metadata": {
    "collapsed": true,
    "ExecuteTime": {
     "end_time": "2024-05-06T09:05:18.803499Z",
     "start_time": "2024-05-06T09:05:13.365587Z"
    }
   },
   "source": [
    "import jax\n",
    "from pauli import *\n",
    "import matplotlib.pyplot as plt\n",
    "import numpy as np\n",
    "import optax\n",
    "\n",
    "from experiments import BPExperiment, ExactMinExperiment\n",
    "from traps import LocalVQA\n",
    "\n",
    "# jax.config.update(\"jax_enable_x64\", True)"
   ],
   "outputs": [],
   "execution_count": 2
  },
  {
   "metadata": {},
   "cell_type": "markdown",
   "source": "# Exact min experiments",
   "id": "1f780f0c7537f25"
  },
  {
   "metadata": {
    "ExecuteTime": {
     "end_time": "2024-05-06T12:07:26.035333Z",
     "start_time": "2024-05-06T12:07:24.816911Z"
    }
   },
   "cell_type": "code",
   "source": "jax.clear_caches()",
   "id": "174c00d34ee4175c",
   "outputs": [],
   "execution_count": 19
  },
  {
   "metadata": {
    "jupyter": {
     "is_executing": true
    },
    "ExecuteTime": {
     "start_time": "2024-05-06T12:13:31.473006Z"
    }
   },
   "cell_type": "code",
   "source": [
    "exp = ExactMinExperiment.load('test')\n",
    "\n",
    "qubits = (8,)\n",
    "layers = (50,)\n",
    "\n",
    "exp.run(qubits, layers, num_samples_per_circuit=5)"
   ],
   "id": "fb2883bc3a99c070",
   "outputs": [
    {
     "data": {
      "text/plain": [
       "0it [00:00, ?it/s]"
      ],
      "application/vnd.jupyter.widget-view+json": {
       "version_major": 2,
       "version_minor": 0,
       "model_id": "c7313d9470e6417dab3c6fb9f44e9b1b"
      }
     },
     "metadata": {},
     "output_type": "display_data"
    },
    {
     "data": {
      "text/plain": [
       "  0%|          | 0/5 [00:00<?, ?it/s]"
      ],
      "application/vnd.jupyter.widget-view+json": {
       "version_major": 2,
       "version_minor": 0,
       "model_id": "88488984c44d41d69f0ad68d1bbb02f9"
      }
     },
     "metadata": {},
     "output_type": "display_data"
    },
    {
     "name": "stdout",
     "output_type": "stream",
     "text": [
      "\n",
      " Looking for exact minimum\n",
      "\n",
      " >>>>>>>>>>compiling<<<<<<<<<<\n"
     ]
    }
   ],
   "execution_count": null
  },
  {
   "metadata": {
    "ExecuteTime": {
     "end_time": "2024-05-06T12:12:15.149728Z",
     "start_time": "2024-05-06T12:12:14.668753Z"
    }
   },
   "cell_type": "code",
   "source": [
    "results = exp.results\n",
    "\n",
    "qubits = sorted(list(results.keys()))\n",
    "for num_qubits in qubits:\n",
    "    num_layers = list(results[num_qubits].keys())[0]\n",
    "    rates = results[num_qubits][num_layers]['rates']\n",
    "    plt.scatter([num_qubits]*len(rates), rates)\n",
    "\n",
    "plt.yscale('log', base=2)"
   ],
   "id": "f4f50dde540eb660",
   "outputs": [
    {
     "data": {
      "text/plain": [
       "<Figure size 640x480 with 1 Axes>"
      ],
      "image/png": "[encoded data removed]"
     },
     "metadata": {},
     "output_type": "display_data"
    }
   ],
   "execution_count": 24
  },
  {
   "metadata": {},
   "cell_type": "code",
   "outputs": [],
   "execution_count": null,
   "source": [
    "def _plot_results(results):\n",
    "    # Assumes there is onle one `num_layers` per circuit size.\n",
    "    qubits = sorted(list(results.keys()))\n",
    "    for num_qubits in qubits:\n",
    "        plt.scatter([num_qubits], results[num_qubits][0]['rate'])"
   ],
   "id": "2ff146e94a5a3d70"
  },
  {
   "metadata": {
    "ExecuteTime": {
     "end_time": "2024-05-06T11:51:45.611026Z",
     "start_time": "2024-05-06T11:51:45.597258Z"
    }
   },
   "cell_type": "code",
   "source": "exp",
   "id": "31fcc37b5a5c2d1c",
   "outputs": [
    {
     "data": {
      "text/plain": [
       "<experiments.ExactMinExperiment at 0x7f9ee078b320>"
      ]
     },
     "execution_count": 5,
     "metadata": {},
     "output_type": "execute_result"
    }
   ],
   "execution_count": 5
  },
  {
   "metadata": {
    "ExecuteTime": {
     "end_time": "2024-05-06T09:34:13.342218Z",
     "start_time": "2024-05-06T09:34:13.330853Z"
    }
   },
   "cell_type": "code",
   "source": "np.array(exp.results[8][50]['rates']).mean()",
   "id": "4eb9b985c08bd9c8",
   "outputs": [
    {
     "data": {
      "text/plain": [
       "0.006797508047508047"
      ]
     },
     "execution_count": 4,
     "metadata": {},
     "output_type": "execute_result"
    }
   ],
   "execution_count": 4
  },
  {
   "metadata": {},
   "cell_type": "code",
   "outputs": [],
   "execution_count": null,
   "source": "ExactMinExperiment.single_run()",
   "id": "5f7dd7391415630e"
  },
  {
   "metadata": {
    "ExecuteTime": {
     "end_time": "2024-05-05T16:11:03.984592Z",
     "start_time": "2024-05-05T16:11:03.877365Z"
    }
   },
   "cell_type": "code",
   "source": [
    "num_qubits = 8\n",
    "num_layers = 500\n",
    "\n",
    "vqa = LocalVQA(num_qubits, num_layers)\n",
    "observables = all_one_body_pauli(num_qubits)+all_two_body_pauli(num_qubits)"
   ],
   "id": "3918cc81cbe0dac1",
   "outputs": [],
   "execution_count": 61
  },
  {
   "metadata": {
    "ExecuteTime": {
     "end_time": "2024-05-05T16:53:59.133962Z",
     "start_time": "2024-05-05T16:11:05.587365Z"
    }
   },
   "cell_type": "code",
   "source": [
    "num_test_clifford_points = max(10, 10 * int(2 ** num_qubits / len(observables)))\n",
    "rng = np.random.default_rng(41)\n",
    "fixed_paulis, x, i_fixed = ExactMinExperiment.propose_exact_minimum(vqa, observables, num_test_clifford_points, rng)"
   ],
   "id": "a6acb70e2b50bc12",
   "outputs": [
    {
     "name": "stdout",
     "output_type": "stream",
     "text": [
      "\n",
      " >>>>>>>>>>compiling<<<<<<<<<<\n",
      "paulis ['IYYIIIII'], len(i_fixed) 3878(8016)\n",
      "paulis ['IYYIIIII', 'IIIIIZXI'], len(i_fixed) 5867(8016)\n",
      "paulis ['IYYIIIII', 'IIIIIZXI', 'IIIZYIII'], len(i_fixed) 6884(8016)\n",
      "paulis ['IYYIIIII', 'IIIIIZXI', 'IIIZYIII', 'IIIIIIIX'], len(i_fixed) 7437(8016)\n",
      "paulis ['IYYIIIII', 'IIIIIZXI', 'IIIZYIII', 'IIIIIIIX', 'YIIZIIII'], len(i_fixed) 7702(8016)\n",
      "paulis ['IYYIIIII', 'IIIIIZXI', 'IIIZYIII', 'IIIIIIIX', 'YIIZIIII', 'IIYIIIII'], len(i_fixed) 7870(8016)\n",
      "paulis ['IYYIIIII', 'IIIIIZXI', 'IIIZYIII', 'IIIIIIIX', 'YIIZIIII', 'IIYIIIII', 'YIIIIIXI'], len(i_fixed) 7933(8016)\n",
      "paulis ['IYYIIIII', 'IIIIIZXI', 'IIIZYIII', 'IIIIIIIX', 'YIIZIIII', 'IIYIIIII', 'YIIIIIXI', 'IIIIYIXI'], len(i_fixed) 7933(8016)\n",
      "paulis ['IYYIIIII', 'IIIIIZXI', 'IIIZYIII', 'IIIIIIIX', 'YIIZIIII', 'IIYIIIII', 'YIIIIIXI', 'IIIIYIXI', 'IIIZIZII'], len(i_fixed) 7933(8016)\n",
      "paulis ['IYYIIIII', 'IIIIIZXI', 'IIIZYIII', 'IIIIIIIX', 'YIIZIIII', 'IIYIIIII', 'YIIIIIXI', 'IIIIYIXI', 'IIIZIZII', 'IYIIIIIX'], len(i_fixed) 7933(8016)\n",
      "paulis ['IYYIIIII', 'IIIIIZXI', 'IIIZYIII', 'IIIIIIIX', 'YIIZIIII', 'IIYIIIII', 'YIIIIIXI', 'IIIIYIXI', 'IIIZIZII', 'IYIIIIIX', 'IIIZIIIX'], len(i_fixed) 7963(8016)\n",
      "paulis ['IYYIIIII', 'IIIIIZXI', 'IIIZYIII', 'IIIIIIIX', 'YIIZIIII', 'IIYIIIII', 'YIIIIIXI', 'IIIIYIXI', 'IIIZIZII', 'IYIIIIIX', 'IIIZIIIX', 'IIIIYIII'], len(i_fixed) 7963(8016)\n",
      "paulis ['IYYIIIII', 'IIIIIZXI', 'IIIZYIII', 'IIIIIIIX', 'YIIZIIII', 'IIYIIIII', 'YIIIIIXI', 'IIIIYIXI', 'IIIZIZII', 'IYIIIIIX', 'IIIZIIIX', 'IIIIYIII', 'IIIIIZII'], len(i_fixed) 7963(8016)\n",
      "paulis ['IYYIIIII', 'IIIIIZXI', 'IIIZYIII', 'IIIIIIIX', 'YIIZIIII', 'IIYIIIII', 'YIIIIIXI', 'IIIIYIXI', 'IIIZIZII', 'IYIIIIIX', 'IIIZIIIX', 'IIIIYIII', 'IIIIIZII', 'IIIIIIXX'], len(i_fixed) 7963(8016)\n",
      "paulis ['IYYIIIII', 'IIIIIZXI', 'IIIZYIII', 'IIIIIIIX', 'YIIZIIII', 'IIYIIIII', 'YIIIIIXI', 'IIIIYIXI', 'IIIZIZII', 'IYIIIIIX', 'IIIZIIIX', 'IIIIYIII', 'IIIIIZII', 'IIIIIIXX', 'IIYZIIII'], len(i_fixed) 7963(8016)\n",
      "paulis ['IYYIIIII', 'IIIIIZXI', 'IIIZYIII', 'IIIIIIIX', 'YIIZIIII', 'IIYIIIII', 'YIIIIIXI', 'IIIIYIXI', 'IIIZIZII', 'IYIIIIIX', 'IIIZIIIX', 'IIIIYIII', 'IIIIIZII', 'IIIIIIXX', 'IIYZIIII', 'YIIIIIII'], len(i_fixed) 7963(8016)\n",
      "paulis ['IYYIIIII', 'IIIIIZXI', 'IIIZYIII', 'IIIIIIIX', 'YIIZIIII', 'IIYIIIII', 'YIIIIIXI', 'IIIIYIXI', 'IIIZIZII', 'IYIIIIIX', 'IIIZIIIX', 'IIIIYIII', 'IIIIIZII', 'IIIIIIXX', 'IIYZIIII', 'YIIIIIII', 'YYIIIIII'], len(i_fixed) 7963(8016)\n",
      "paulis ['IYYIIIII', 'IIIIIZXI', 'IIIZYIII', 'IIIIIIIX', 'YIIZIIII', 'IIYIIIII', 'YIIIIIXI', 'IIIIYIXI', 'IIIZIZII', 'IYIIIIIX', 'IIIZIIIX', 'IIIIYIII', 'IIIIIZII', 'IIIIIIXX', 'IIYZIIII', 'YIIIIIII', 'YYIIIIII', 'IYIIYIII'], len(i_fixed) 7963(8016)\n",
      "paulis ['IYYIIIII', 'IIIIIZXI', 'IIIZYIII', 'IIIIIIIX', 'YIIZIIII', 'IIYIIIII', 'YIIIIIXI', 'IIIIYIXI', 'IIIZIZII', 'IYIIIIIX', 'IIIZIIIX', 'IIIIYIII', 'IIIIIZII', 'IIIIIIXX', 'IIYZIIII', 'YIIIIIII', 'YYIIIIII', 'IYIIYIII', 'IYIIIZII'], len(i_fixed) 7963(8016)\n",
      "paulis ['IYYIIIII', 'IIIIIZXI', 'IIIZYIII', 'IIIIIIIX', 'YIIZIIII', 'IIYIIIII', 'YIIIIIXI', 'IIIIYIXI', 'IIIZIZII', 'IYIIIIIX', 'IIIZIIIX', 'IIIIYIII', 'IIIIIZII', 'IIIIIIXX', 'IIYZIIII', 'YIIIIIII', 'YYIIIIII', 'IYIIYIII', 'IYIIIZII', 'IIYIIIXI'], len(i_fixed) 7963(8016)\n"
     ]
    }
   ],
   "execution_count": 62
  },
  {
   "metadata": {
    "ExecuteTime": {
     "end_time": "2024-05-05T16:53:59.813283Z",
     "start_time": "2024-05-05T16:53:59.193517Z"
    }
   },
   "cell_type": "code",
   "source": "vqa.expval(fixed_paulis)(x)",
   "id": "5fa5e7aa1e257f96",
   "outputs": [
    {
     "data": {
      "text/plain": [
       "Array([-1., -1., -1., -1., -1., -1., -1., -1., -1., -1., -1., -1., -1.,\n",
       "       -1., -1., -1., -1., -1., -1., -1.], dtype=float64)"
      ]
     },
     "execution_count": 63,
     "metadata": {},
     "output_type": "execute_result"
    }
   ],
   "execution_count": 63
  },
  {
   "metadata": {
    "ExecuteTime": {
     "end_time": "2024-05-05T16:54:03.819132Z",
     "start_time": "2024-05-05T16:53:59.815837Z"
    }
   },
   "cell_type": "code",
   "source": [
    "remaining_observables = list(set(observables)-set(fixed_paulis))\n",
    "vals = vqa.expval(remaining_observables)(x)\n",
    "np.count_nonzero(vals>1e-5), np.count_nonzero(vals>1e-5)/vals.size"
   ],
   "id": "42fae56fa10acac7",
   "outputs": [
    {
     "data": {
      "text/plain": [
       "(16, 0.0625)"
      ]
     },
     "execution_count": 64,
     "metadata": {},
     "output_type": "execute_result"
    }
   ],
   "execution_count": 64
  },
  {
   "metadata": {
    "ExecuteTime": {
     "end_time": "2024-05-05T16:10:25.428346Z",
     "start_time": "2024-05-05T16:10:25.420687Z"
    }
   },
   "cell_type": "code",
   "source": "2**-8",
   "id": "428df03d38a1e987",
   "outputs": [
    {
     "data": {
      "text/plain": [
       "0.00390625"
      ]
     },
     "execution_count": 60,
     "metadata": {},
     "output_type": "execute_result"
    }
   ],
   "execution_count": 60
  },
  {
   "metadata": {
    "ExecuteTime": {
     "end_time": "2024-05-05T14:51:19.534920Z",
     "start_time": "2024-05-05T14:51:19.521495Z"
    }
   },
   "cell_type": "code",
   "source": "1/0.0625",
   "id": "8a547cc781a72922",
   "outputs": [
    {
     "data": {
      "text/plain": [
       "16.0"
      ]
     },
     "execution_count": 26,
     "metadata": {},
     "output_type": "execute_result"
    }
   ],
   "execution_count": 26
  },
  {
   "metadata": {
    "ExecuteTime": {
     "end_time": "2024-05-05T13:31:51.584524Z",
     "start_time": "2024-05-05T13:31:51.573482Z"
    }
   },
   "cell_type": "code",
   "source": "fixed_paulis, [remaining_observables[i] for i in np.where(vals > 1e-5)[0]]",
   "id": "f0e4706610267f60",
   "outputs": [
    {
     "data": {
      "text/plain": [
       "(['IIYIII',\n",
       "  'IIYIIX',\n",
       "  'IIIYXI',\n",
       "  'IXIIII',\n",
       "  'YIIIII',\n",
       "  'IXIIIX',\n",
       "  'IXIYII',\n",
       "  'IIYYII',\n",
       "  'YIIIIX',\n",
       "  'IIIIXX',\n",
       "  'IIIIXI',\n",
       "  'YIIYII'],\n",
       " ['IIYIXI',\n",
       "  'YIYIII',\n",
       "  'IIIIIX',\n",
       "  'YXIIII',\n",
       "  'IXIIXI',\n",
       "  'IXYIII',\n",
       "  'YIIIXI',\n",
       "  'IIIYII',\n",
       "  'IIIYIX'])"
      ]
     },
     "execution_count": 17,
     "metadata": {},
     "output_type": "execute_result"
    }
   ],
   "execution_count": 17
  },
  {
   "metadata": {
    "ExecuteTime": {
     "end_time": "2024-05-05T13:31:51.964382Z",
     "start_time": "2024-05-05T13:31:51.587407Z"
    }
   },
   "cell_type": "code",
   "source": "plt.hist(x[i_fixed]);",
   "id": "affbf30755f4789b",
   "outputs": [
    {
     "data": {
      "text/plain": [
       "<Figure size 640x480 with 1 Axes>"
      ],
      "image/png": "[encoded data removed]"
     },
     "metadata": {},
     "output_type": "display_data"
    }
   ],
   "execution_count": 18
  },
  {
   "metadata": {
    "ExecuteTime": {
     "end_time": "2024-05-05T13:05:29.148508Z",
     "start_time": "2024-05-05T13:05:29.142845Z"
    }
   },
   "cell_type": "code",
   "source": "2**-num_qubits",
   "id": "758d9c3277b9574",
   "outputs": [
    {
     "data": {
      "text/plain": [
       "0.00390625"
      ]
     },
     "execution_count": 168,
     "metadata": {},
     "output_type": "execute_result"
    }
   ],
   "execution_count": 168
  },
  {
   "metadata": {
    "ExecuteTime": {
     "end_time": "2024-05-05T12:53:54.020359Z",
     "start_time": "2024-05-05T12:53:53.928261Z"
    }
   },
   "cell_type": "code",
   "source": [
    "y = rng.uniform(size=vqa.num_parameters)\n",
    "y[i_fixed] = x[i_fixed]\n",
    "vqa.expval([remaining_observables[i] for i in np.where(vals > 1e-5)[0]])(y)"
   ],
   "id": "4fa705e237225519",
   "outputs": [
    {
     "data": {
      "text/plain": [
       "Array([1., 1., 1.], dtype=float64)"
      ]
     },
     "execution_count": 146,
     "metadata": {},
     "output_type": "execute_result"
    }
   ],
   "execution_count": 146
  },
  {
   "metadata": {
    "ExecuteTime": {
     "end_time": "2024-05-05T12:53:59.630065Z",
     "start_time": "2024-05-05T12:53:59.617615Z"
    }
   },
   "cell_type": "code",
   "source": [
    "num_grads = 100\n",
    "num_uniform_samples = 10\n",
    "\n",
    "x_rnd = vqa.random_parameters(num_uniform_samples)\n",
    "x_rnd[:, i_fixed] = x[i_fixed]\n",
    "\n",
    "shifts = np.pi / 2 * np.eye(vqa.num_parameters)\n",
    "shifts = shifts[i_fixed]\n",
    "\n",
    "random_subset = rng.choice(np.arange(len(shifts)), size=num_grads, replace=False)\n",
    "shifts = shifts[random_subset]\n",
    "\n",
    "x_shift = x_rnd.reshape(num_uniform_samples, 1, vqa.num_parameters) + shifts\n",
    "x_shift_ = x_rnd.reshape(num_uniform_samples, 1, vqa.num_parameters) - shifts"
   ],
   "id": "bb1c9fbd955524fe",
   "outputs": [],
   "execution_count": 147
  },
  {
   "metadata": {
    "ExecuteTime": {
     "end_time": "2024-05-05T12:55:14.993059Z",
     "start_time": "2024-05-05T12:55:09.868234Z"
    }
   },
   "cell_type": "code",
   "source": [
    "vals_shift = jax.vmap(jax.vmap(vqa.expval(observables[:1])))(x_shift)\n",
    "vals_shift_ = jax.vmap(jax.vmap(vqa.expval(observables[:1])))(x_shift_)\n",
    "grad_shift = (vals_shift - vals_shift_) / 2"
   ],
   "id": "a529abe9d9c5e286",
   "outputs": [],
   "execution_count": 151
  },
  {
   "metadata": {
    "ExecuteTime": {
     "end_time": "2024-05-05T12:55:45.560743Z",
     "start_time": "2024-05-05T12:55:45.554367Z"
    }
   },
   "cell_type": "code",
   "source": "grad_shift.shape",
   "id": "b7315a823c6e614c",
   "outputs": [
    {
     "data": {
      "text/plain": [
       "(10, 100, 1)"
      ]
     },
     "execution_count": 152,
     "metadata": {},
     "output_type": "execute_result"
    }
   ],
   "execution_count": 152
  },
  {
   "metadata": {
    "ExecuteTime": {
     "end_time": "2024-05-05T12:58:20.265861Z",
     "start_time": "2024-05-05T12:58:20.262588Z"
    }
   },
   "cell_type": "code",
   "source": [
    "import jax.numpy as jnp\n",
    "def rexpval(x):\n",
    "    return jnp.real(vqa.expval(observables[:1])(x))"
   ],
   "id": "7347469811006cf0",
   "outputs": [],
   "execution_count": 159
  },
  {
   "metadata": {
    "ExecuteTime": {
     "end_time": "2024-05-05T12:59:37.655867Z",
     "start_time": "2024-05-05T12:59:37.556231Z"
    }
   },
   "cell_type": "code",
   "source": "vqa.expval(observables[:2])(x)",
   "id": "6538489304429494",
   "outputs": [
    {
     "data": {
      "text/plain": [
       "Array([1.11022302e-16, 1.80411242e-16], dtype=float64)"
      ]
     },
     "execution_count": 162,
     "metadata": {},
     "output_type": "execute_result"
    }
   ],
   "execution_count": 162
  },
  {
   "metadata": {
    "ExecuteTime": {
     "end_time": "2024-05-05T12:58:21.792099Z",
     "start_time": "2024-05-05T12:58:21.370032Z"
    }
   },
   "cell_type": "code",
   "source": "jax.vmap(jax.grad(rexpval))(x_rnd)",
   "id": "35370edf825e6782",
   "outputs": [
    {
     "name": "stdout",
     "output_type": "stream",
     "text": [
      "\n",
      " >>>>>>>>>>compiling<<<<<<<<<<\n"
     ]
    },
    {
     "ename": "DifferentiableCompileError",
     "evalue": "Catalyst.grad/jacobian only supports differentiation on floating-point results, got 'complex128' at position 0.",
     "output_type": "error",
     "traceback": [
      "\u001B[0;31m---------------------------------------------------------------------------\u001B[0m",
      "\u001B[0;31mDifferentiableCompileError\u001B[0m                Traceback (most recent call last)",
      "Cell \u001B[0;32mIn[160], line 1\u001B[0m\n\u001B[0;32m----> 1\u001B[0m \u001B[43mjax\u001B[49m\u001B[38;5;241;43m.\u001B[39;49m\u001B[43mvmap\u001B[49m\u001B[43m(\u001B[49m\u001B[43mjax\u001B[49m\u001B[38;5;241;43m.\u001B[39;49m\u001B[43mgrad\u001B[49m\u001B[43m(\u001B[49m\u001B[43mrexpval\u001B[49m\u001B[43m)\u001B[49m\u001B[43m)\u001B[49m\u001B[43m(\u001B[49m\u001B[43mx_rnd\u001B[49m\u001B[43m)\u001B[49m\n",
      "    \u001B[0;31m[... skipping hidden 13 frame]\u001B[0m\n",
      "Cell \u001B[0;32mIn[159], line 3\u001B[0m, in \u001B[0;36mrexpval\u001B[0;34m(x)\u001B[0m\n\u001B[1;32m      2\u001B[0m \u001B[38;5;28;01mdef\u001B[39;00m \u001B[38;5;21mrexpval\u001B[39m(x):\n\u001B[0;32m----> 3\u001B[0m     \u001B[38;5;28;01mreturn\u001B[39;00m jnp\u001B[38;5;241m.\u001B[39mreal(\u001B[43mvqa\u001B[49m\u001B[38;5;241;43m.\u001B[39;49m\u001B[43mexpval\u001B[49m\u001B[43m(\u001B[49m\u001B[43mobservables\u001B[49m\u001B[43m[\u001B[49m\u001B[43m:\u001B[49m\u001B[38;5;241;43m1\u001B[39;49m\u001B[43m]\u001B[49m\u001B[43m)\u001B[49m\u001B[43m(\u001B[49m\u001B[43mx\u001B[49m\u001B[43m)\u001B[49m)\n",
      "File \u001B[0;32m~/coding/barren_traps/traps.py:149\u001B[0m, in \u001B[0;36mLocalVQA.expval.<locals>.<lambda>\u001B[0;34m(x)\u001B[0m\n\u001B[1;32m    146\u001B[0m observables \u001B[38;5;241m=\u001B[39m [qml\u001B[38;5;241m.\u001B[39mpauli\u001B[38;5;241m.\u001B[39mstring_to_pauli_word(pauli) \u001B[38;5;28;01mfor\u001B[39;00m pauli \u001B[38;5;129;01min\u001B[39;00m paulis]\n\u001B[1;32m    147\u001B[0m matrices \u001B[38;5;241m=\u001B[39m jnp\u001B[38;5;241m.\u001B[39masarray([qml\u001B[38;5;241m.\u001B[39mmatrix(obs, wire_order\u001B[38;5;241m=\u001B[39m\u001B[38;5;28mrange\u001B[39m(\u001B[38;5;28mself\u001B[39m\u001B[38;5;241m.\u001B[39mnum_qubits)) \u001B[38;5;28;01mfor\u001B[39;00m obs \u001B[38;5;129;01min\u001B[39;00m observables])\n\u001B[0;32m--> 149\u001B[0m \u001B[38;5;28;01mreturn\u001B[39;00m \u001B[38;5;28;01mlambda\u001B[39;00m x: jnp\u001B[38;5;241m.\u001B[39mreal(\u001B[43mjax\u001B[49m\u001B[38;5;241;43m.\u001B[39;49m\u001B[43mvmap\u001B[49m\u001B[43m(\u001B[49m\u001B[38;5;28;43;01mlambda\u001B[39;49;00m\u001B[43m \u001B[49m\u001B[43mm\u001B[49m\u001B[43m:\u001B[49m\u001B[43m \u001B[49m\u001B[38;5;28;43mself\u001B[39;49m\u001B[38;5;241;43m.\u001B[39;49m\u001B[43m_expval_func\u001B[49m\u001B[43m(\u001B[49m\u001B[43mm\u001B[49m\u001B[43m,\u001B[49m\u001B[43m \u001B[49m\u001B[43mx\u001B[49m\u001B[43m)\u001B[49m\u001B[43m)\u001B[49m\u001B[43m(\u001B[49m\u001B[43mmatrices\u001B[49m\u001B[43m)\u001B[49m)\n",
      "    \u001B[0;31m[... skipping hidden 3 frame]\u001B[0m\n",
      "File \u001B[0;32m~/coding/barren_traps/traps.py:149\u001B[0m, in \u001B[0;36mLocalVQA.expval.<locals>.<lambda>\u001B[0;34m(m)\u001B[0m\n\u001B[1;32m    146\u001B[0m observables \u001B[38;5;241m=\u001B[39m [qml\u001B[38;5;241m.\u001B[39mpauli\u001B[38;5;241m.\u001B[39mstring_to_pauli_word(pauli) \u001B[38;5;28;01mfor\u001B[39;00m pauli \u001B[38;5;129;01min\u001B[39;00m paulis]\n\u001B[1;32m    147\u001B[0m matrices \u001B[38;5;241m=\u001B[39m jnp\u001B[38;5;241m.\u001B[39masarray([qml\u001B[38;5;241m.\u001B[39mmatrix(obs, wire_order\u001B[38;5;241m=\u001B[39m\u001B[38;5;28mrange\u001B[39m(\u001B[38;5;28mself\u001B[39m\u001B[38;5;241m.\u001B[39mnum_qubits)) \u001B[38;5;28;01mfor\u001B[39;00m obs \u001B[38;5;129;01min\u001B[39;00m observables])\n\u001B[0;32m--> 149\u001B[0m \u001B[38;5;28;01mreturn\u001B[39;00m \u001B[38;5;28;01mlambda\u001B[39;00m x: jnp\u001B[38;5;241m.\u001B[39mreal(jax\u001B[38;5;241m.\u001B[39mvmap(\u001B[38;5;28;01mlambda\u001B[39;00m m: \u001B[38;5;28;43mself\u001B[39;49m\u001B[38;5;241;43m.\u001B[39;49m\u001B[43m_expval_func\u001B[49m\u001B[43m(\u001B[49m\u001B[43mm\u001B[49m\u001B[43m,\u001B[49m\u001B[43m \u001B[49m\u001B[43mx\u001B[49m\u001B[43m)\u001B[49m)(matrices))\n",
      "File \u001B[0;32m~/coding/barren_traps/.venv/lib/python3.12/site-packages/catalyst/jit.py:114\u001B[0m, in \u001B[0;36mQJIT.__call__\u001B[0;34m(self, *args, **kwargs)\u001B[0m\n\u001B[1;32m    112\u001B[0m     \u001B[38;5;28;01mif\u001B[39;00m \u001B[38;5;28mself\u001B[39m\u001B[38;5;241m.\u001B[39mjaxed_function \u001B[38;5;129;01mis\u001B[39;00m \u001B[38;5;28;01mNone\u001B[39;00m:\n\u001B[1;32m    113\u001B[0m         \u001B[38;5;28mself\u001B[39m\u001B[38;5;241m.\u001B[39mjaxed_function \u001B[38;5;241m=\u001B[39m JAX_QJIT(\u001B[38;5;28mself\u001B[39m)  \u001B[38;5;66;03m# lazy gradient compilation\u001B[39;00m\n\u001B[0;32m--> 114\u001B[0m     \u001B[38;5;28;01mreturn\u001B[39;00m \u001B[38;5;28;43mself\u001B[39;49m\u001B[38;5;241;43m.\u001B[39;49m\u001B[43mjaxed_function\u001B[49m\u001B[43m(\u001B[49m\u001B[38;5;241;43m*\u001B[39;49m\u001B[43margs\u001B[49m\u001B[43m,\u001B[49m\u001B[43m \u001B[49m\u001B[38;5;241;43m*\u001B[39;49m\u001B[38;5;241;43m*\u001B[39;49m\u001B[43mkwargs\u001B[49m\u001B[43m)\u001B[49m\n\u001B[1;32m    116\u001B[0m \u001B[38;5;28;01melif\u001B[39;00m requires_promotion:\n\u001B[1;32m    117\u001B[0m     dynamic_args \u001B[38;5;241m=\u001B[39m filter_static_args(args, \u001B[38;5;28mself\u001B[39m\u001B[38;5;241m.\u001B[39mcompile_options\u001B[38;5;241m.\u001B[39mstatic_argnums)\n",
      "File \u001B[0;32m~/coding/barren_traps/.venv/lib/python3.12/site-packages/catalyst/jit.py:419\u001B[0m, in \u001B[0;36mJAX_QJIT.__call__\u001B[0;34m(self, *args, **kwargs)\u001B[0m\n\u001B[1;32m    418\u001B[0m \u001B[38;5;28;01mdef\u001B[39;00m \u001B[38;5;21m__call__\u001B[39m(\u001B[38;5;28mself\u001B[39m, \u001B[38;5;241m*\u001B[39margs, \u001B[38;5;241m*\u001B[39m\u001B[38;5;241m*\u001B[39mkwargs):\n\u001B[0;32m--> 419\u001B[0m     \u001B[38;5;28;01mreturn\u001B[39;00m \u001B[38;5;28;43mself\u001B[39;49m\u001B[38;5;241;43m.\u001B[39;49m\u001B[43mjaxed_function\u001B[49m\u001B[43m(\u001B[49m\u001B[38;5;241;43m*\u001B[39;49m\u001B[43margs\u001B[49m\u001B[43m,\u001B[49m\u001B[43m \u001B[49m\u001B[38;5;241;43m*\u001B[39;49m\u001B[38;5;241;43m*\u001B[39;49m\u001B[43mkwargs\u001B[49m\u001B[43m)\u001B[49m\n",
      "    \u001B[0;31m[... skipping hidden 7 frame]\u001B[0m\n",
      "File \u001B[0;32m~/coding/barren_traps/.venv/lib/python3.12/site-packages/catalyst/jit.py:395\u001B[0m, in \u001B[0;36mJAX_QJIT.compute_jvp\u001B[0;34m(self, primals, tangents)\u001B[0m\n\u001B[1;32m    393\u001B[0m results \u001B[38;5;241m=\u001B[39m \u001B[38;5;28mself\u001B[39m\u001B[38;5;241m.\u001B[39mwrap_callback(\u001B[38;5;28mself\u001B[39m\u001B[38;5;241m.\u001B[39mqjit_function, \u001B[38;5;241m*\u001B[39mprimals)\n\u001B[1;32m    394\u001B[0m results_data, _results_shape \u001B[38;5;241m=\u001B[39m tree_flatten(results)\n\u001B[0;32m--> 395\u001B[0m derivatives \u001B[38;5;241m=\u001B[39m \u001B[38;5;28mself\u001B[39m\u001B[38;5;241m.\u001B[39mwrap_callback(\u001B[38;5;28;43mself\u001B[39;49m\u001B[38;5;241;43m.\u001B[39;49m\u001B[43mget_derivative_qjit\u001B[49m\u001B[43m(\u001B[49m\u001B[43margnums\u001B[49m\u001B[43m)\u001B[49m, \u001B[38;5;241m*\u001B[39mprimals)\n\u001B[1;32m    396\u001B[0m derivatives_data, _derivatives_shape \u001B[38;5;241m=\u001B[39m tree_flatten(derivatives)\n\u001B[1;32m    398\u001B[0m jvps \u001B[38;5;241m=\u001B[39m [jnp\u001B[38;5;241m.\u001B[39mzeros_like(results_data[res_idx]) \u001B[38;5;28;01mfor\u001B[39;00m res_idx \u001B[38;5;129;01min\u001B[39;00m \u001B[38;5;28mrange\u001B[39m(\u001B[38;5;28mlen\u001B[39m(results_data))]\n",
      "File \u001B[0;32m~/coding/barren_traps/.venv/lib/python3.12/site-packages/catalyst/jit.py:375\u001B[0m, in \u001B[0;36mJAX_QJIT.get_derivative_qjit\u001B[0;34m(self, argnums)\u001B[0m\n\u001B[1;32m    372\u001B[0m deriv_wrapper\u001B[38;5;241m.\u001B[39m\u001B[38;5;18m__annotations__\u001B[39m \u001B[38;5;241m=\u001B[39m annotations\n\u001B[1;32m    373\u001B[0m deriv_wrapper\u001B[38;5;241m.\u001B[39m__signature__ \u001B[38;5;241m=\u001B[39m signature\u001B[38;5;241m.\u001B[39mreplace(parameters\u001B[38;5;241m=\u001B[39mupdated_params)\n\u001B[0;32m--> 375\u001B[0m \u001B[38;5;28mself\u001B[39m\u001B[38;5;241m.\u001B[39mderivative_functions[argnum_key] \u001B[38;5;241m=\u001B[39m \u001B[43mQJIT\u001B[49m\u001B[43m(\u001B[49m\n\u001B[1;32m    376\u001B[0m \u001B[43m    \u001B[49m\u001B[43mderiv_wrapper\u001B[49m\u001B[43m,\u001B[49m\u001B[43m \u001B[49m\u001B[38;5;28;43mself\u001B[39;49m\u001B[38;5;241;43m.\u001B[39;49m\u001B[43mqjit_function\u001B[49m\u001B[38;5;241;43m.\u001B[39;49m\u001B[43mcompile_options\u001B[49m\n\u001B[1;32m    377\u001B[0m \u001B[43m\u001B[49m\u001B[43m)\u001B[49m\n\u001B[1;32m    378\u001B[0m \u001B[38;5;28;01mreturn\u001B[39;00m \u001B[38;5;28mself\u001B[39m\u001B[38;5;241m.\u001B[39mderivative_functions[argnum_key]\n",
      "File \u001B[0;32m~/coding/barren_traps/.venv/lib/python3.12/site-packages/catalyst/jit.py:101\u001B[0m, in \u001B[0;36mQJIT.__init__\u001B[0;34m(self, fn, compile_options)\u001B[0m\n\u001B[1;32m     99\u001B[0m \u001B[38;5;66;03m# Static arguments require values, so we cannot AOT compile.\u001B[39;00m\n\u001B[1;32m    100\u001B[0m \u001B[38;5;28;01mif\u001B[39;00m \u001B[38;5;28mself\u001B[39m\u001B[38;5;241m.\u001B[39muser_sig \u001B[38;5;129;01mis\u001B[39;00m \u001B[38;5;129;01mnot\u001B[39;00m \u001B[38;5;28;01mNone\u001B[39;00m \u001B[38;5;129;01mand\u001B[39;00m \u001B[38;5;129;01mnot\u001B[39;00m \u001B[38;5;28mself\u001B[39m\u001B[38;5;241m.\u001B[39mcompile_options\u001B[38;5;241m.\u001B[39mstatic_argnums:\n\u001B[0;32m--> 101\u001B[0m     \u001B[38;5;28;43mself\u001B[39;49m\u001B[38;5;241;43m.\u001B[39;49m\u001B[43maot_compile\u001B[49m\u001B[43m(\u001B[49m\u001B[43m)\u001B[49m\n",
      "File \u001B[0;32m~/coding/barren_traps/.venv/lib/python3.12/site-packages/catalyst/jit.py:129\u001B[0m, in \u001B[0;36mQJIT.aot_compile\u001B[0;34m(self)\u001B[0m\n\u001B[1;32m    127\u001B[0m \u001B[38;5;66;03m# TODO: awkward, refactor or redesign the target feature\u001B[39;00m\n\u001B[1;32m    128\u001B[0m \u001B[38;5;28;01mif\u001B[39;00m \u001B[38;5;28mself\u001B[39m\u001B[38;5;241m.\u001B[39mcompile_options\u001B[38;5;241m.\u001B[39mtarget \u001B[38;5;129;01min\u001B[39;00m (\u001B[38;5;124m\"\u001B[39m\u001B[38;5;124mjaxpr\u001B[39m\u001B[38;5;124m\"\u001B[39m, \u001B[38;5;124m\"\u001B[39m\u001B[38;5;124mmlir\u001B[39m\u001B[38;5;124m\"\u001B[39m, \u001B[38;5;124m\"\u001B[39m\u001B[38;5;124mbinary\u001B[39m\u001B[38;5;124m\"\u001B[39m):\n\u001B[0;32m--> 129\u001B[0m     \u001B[38;5;28mself\u001B[39m\u001B[38;5;241m.\u001B[39mjaxpr, \u001B[38;5;28mself\u001B[39m\u001B[38;5;241m.\u001B[39mout_treedef, \u001B[38;5;28mself\u001B[39m\u001B[38;5;241m.\u001B[39mc_sig \u001B[38;5;241m=\u001B[39m \u001B[38;5;28;43mself\u001B[39;49m\u001B[38;5;241;43m.\u001B[39;49m\u001B[43mcapture\u001B[49m\u001B[43m(\u001B[49m\u001B[38;5;28;43mself\u001B[39;49m\u001B[38;5;241;43m.\u001B[39;49m\u001B[43muser_sig\u001B[49m\u001B[43m \u001B[49m\u001B[38;5;129;43;01mor\u001B[39;49;00m\u001B[43m \u001B[49m\u001B[43m(\u001B[49m\u001B[43m)\u001B[49m\u001B[43m)\u001B[49m\n\u001B[1;32m    131\u001B[0m \u001B[38;5;28;01mif\u001B[39;00m \u001B[38;5;28mself\u001B[39m\u001B[38;5;241m.\u001B[39mcompile_options\u001B[38;5;241m.\u001B[39mtarget \u001B[38;5;129;01min\u001B[39;00m (\u001B[38;5;124m\"\u001B[39m\u001B[38;5;124mmlir\u001B[39m\u001B[38;5;124m\"\u001B[39m, \u001B[38;5;124m\"\u001B[39m\u001B[38;5;124mbinary\u001B[39m\u001B[38;5;124m\"\u001B[39m):\n\u001B[1;32m    132\u001B[0m     \u001B[38;5;28mself\u001B[39m\u001B[38;5;241m.\u001B[39mmlir_module, \u001B[38;5;28mself\u001B[39m\u001B[38;5;241m.\u001B[39mmlir \u001B[38;5;241m=\u001B[39m \u001B[38;5;28mself\u001B[39m\u001B[38;5;241m.\u001B[39mgenerate_ir()\n",
      "File \u001B[0;32m~/coding/barren_traps/.venv/lib/python3.12/site-packages/catalyst/jit.py:220\u001B[0m, in \u001B[0;36mQJIT.capture\u001B[0;34m(self, args)\u001B[0m\n\u001B[1;32m    214\u001B[0m full_sig \u001B[38;5;241m=\u001B[39m merge_static_args(dynamic_sig, args, static_argnums)\n\u001B[1;32m    216\u001B[0m \u001B[38;5;28;01mwith\u001B[39;00m Patcher(\n\u001B[1;32m    217\u001B[0m     (qml\u001B[38;5;241m.\u001B[39mQNode, \u001B[38;5;124m\"\u001B[39m\u001B[38;5;124m__call__\u001B[39m\u001B[38;5;124m\"\u001B[39m, catalyst\u001B[38;5;241m.\u001B[39mpennylane_extensions\u001B[38;5;241m.\u001B[39mQFunc\u001B[38;5;241m.\u001B[39m\u001B[38;5;21m__call__\u001B[39m),\n\u001B[1;32m    218\u001B[0m ):\n\u001B[1;32m    219\u001B[0m     \u001B[38;5;66;03m# TODO: improve PyTree handling\u001B[39;00m\n\u001B[0;32m--> 220\u001B[0m     jaxpr, treedef \u001B[38;5;241m=\u001B[39m \u001B[43mtrace_to_jaxpr\u001B[49m\u001B[43m(\u001B[49m\n\u001B[1;32m    221\u001B[0m \u001B[43m        \u001B[49m\u001B[38;5;28;43mself\u001B[39;49m\u001B[38;5;241;43m.\u001B[39;49m\u001B[43muser_function\u001B[49m\u001B[43m,\u001B[49m\u001B[43m \u001B[49m\u001B[43mstatic_argnums\u001B[49m\u001B[43m,\u001B[49m\u001B[43m \u001B[49m\u001B[43mabstracted_axes\u001B[49m\u001B[43m,\u001B[49m\u001B[43m \u001B[49m\u001B[43mfull_sig\u001B[49m\u001B[43m,\u001B[49m\u001B[43m \u001B[49m\u001B[43m{\u001B[49m\u001B[43m}\u001B[49m\n\u001B[1;32m    222\u001B[0m \u001B[43m    \u001B[49m\u001B[43m)\u001B[49m\n\u001B[1;32m    224\u001B[0m \u001B[38;5;28;01mreturn\u001B[39;00m jaxpr, treedef, dynamic_sig\n",
      "File \u001B[0;32m~/coding/barren_traps/.venv/lib/python3.12/site-packages/catalyst/jax_tracer.py:361\u001B[0m, in \u001B[0;36mtrace_to_jaxpr\u001B[0;34m(func, static_argnums, abstracted_axes, args, kwargs)\u001B[0m\n\u001B[1;32m    356\u001B[0m     \u001B[38;5;28;01mwith\u001B[39;00m EvaluationContext(EvaluationMode\u001B[38;5;241m.\u001B[39mCLASSICAL_COMPILATION):\n\u001B[1;32m    357\u001B[0m         make_jaxpr_kwargs \u001B[38;5;241m=\u001B[39m {\n\u001B[1;32m    358\u001B[0m             \u001B[38;5;124m\"\u001B[39m\u001B[38;5;124mstatic_argnums\u001B[39m\u001B[38;5;124m\"\u001B[39m: static_argnums,\n\u001B[1;32m    359\u001B[0m             \u001B[38;5;124m\"\u001B[39m\u001B[38;5;124mabstracted_axes\u001B[39m\u001B[38;5;124m\"\u001B[39m: abstracted_axes,\n\u001B[1;32m    360\u001B[0m         }\n\u001B[0;32m--> 361\u001B[0m         jaxpr, out_treedef \u001B[38;5;241m=\u001B[39m \u001B[43mmake_jaxpr2\u001B[49m\u001B[43m(\u001B[49m\u001B[43mfunc\u001B[49m\u001B[43m,\u001B[49m\u001B[43m \u001B[49m\u001B[38;5;241;43m*\u001B[39;49m\u001B[38;5;241;43m*\u001B[39;49m\u001B[43mmake_jaxpr_kwargs\u001B[49m\u001B[43m)\u001B[49m\u001B[43m(\u001B[49m\u001B[38;5;241;43m*\u001B[39;49m\u001B[43margs\u001B[49m\u001B[43m,\u001B[49m\u001B[43m \u001B[49m\u001B[38;5;241;43m*\u001B[39;49m\u001B[38;5;241;43m*\u001B[39;49m\u001B[43mkwargs\u001B[49m\u001B[43m)\u001B[49m\n\u001B[1;32m    363\u001B[0m \u001B[38;5;28;01mreturn\u001B[39;00m jaxpr, out_treedef\n",
      "File \u001B[0;32m~/coding/barren_traps/.venv/lib/python3.12/site-packages/catalyst/jax_extras/tracing.py:395\u001B[0m, in \u001B[0;36mmake_jaxpr2.<locals>.make_jaxpr_f\u001B[0;34m(*args, **kwargs)\u001B[0m\n\u001B[1;32m    393\u001B[0m     f, out_tree_promise \u001B[38;5;241m=\u001B[39m flatten_fun(f, in_tree)\n\u001B[1;32m    394\u001B[0m     f \u001B[38;5;241m=\u001B[39m annotate(f, in_type)\n\u001B[0;32m--> 395\u001B[0m     jaxpr, output_type, consts \u001B[38;5;241m=\u001B[39m \u001B[43mtrace_to_jaxpr_dynamic2\u001B[49m\u001B[43m(\u001B[49m\u001B[43mf\u001B[49m\u001B[43m)\u001B[49m\n\u001B[1;32m    396\u001B[0m closed_jaxpr \u001B[38;5;241m=\u001B[39m DynshapedClosedJaxpr(jaxpr, consts, output_type)\n\u001B[1;32m    397\u001B[0m \u001B[38;5;28;01mreturn\u001B[39;00m closed_jaxpr, out_tree_promise()\n",
      "    \u001B[0;31m[... skipping hidden 4 frame]\u001B[0m\n",
      "File \u001B[0;32m~/coding/barren_traps/.venv/lib/python3.12/site-packages/catalyst/jit.py:369\u001B[0m, in \u001B[0;36mJAX_QJIT.get_derivative_qjit.<locals>.deriv_wrapper\u001B[0;34m(*args, **kwargs)\u001B[0m\n\u001B[1;32m    368\u001B[0m \u001B[38;5;28;01mdef\u001B[39;00m \u001B[38;5;21mderiv_wrapper\u001B[39m(\u001B[38;5;241m*\u001B[39margs, \u001B[38;5;241m*\u001B[39m\u001B[38;5;241m*\u001B[39mkwargs):\n\u001B[0;32m--> 369\u001B[0m     \u001B[38;5;28;01mreturn\u001B[39;00m \u001B[43mcatalyst\u001B[49m\u001B[38;5;241;43m.\u001B[39;49m\u001B[43mjacobian\u001B[49m\u001B[43m(\u001B[49m\u001B[38;5;28;43mself\u001B[39;49m\u001B[38;5;241;43m.\u001B[39;49m\u001B[43mqjit_function\u001B[49m\u001B[43m,\u001B[49m\u001B[43m \u001B[49m\u001B[43margnum\u001B[49m\u001B[38;5;241;43m=\u001B[39;49m\u001B[43margnums\u001B[49m\u001B[43m)\u001B[49m\u001B[43m(\u001B[49m\u001B[38;5;241;43m*\u001B[39;49m\u001B[43margs\u001B[49m\u001B[43m,\u001B[49m\u001B[43m \u001B[49m\u001B[38;5;241;43m*\u001B[39;49m\u001B[38;5;241;43m*\u001B[39;49m\u001B[43mkwargs\u001B[49m\u001B[43m)\u001B[49m\n",
      "File \u001B[0;32m~/coding/barren_traps/.venv/lib/python3.12/site-packages/catalyst/pennylane_extensions.py:425\u001B[0m, in \u001B[0;36mGrad.__call__\u001B[0;34m(self, *args, **kwargs)\u001B[0m\n\u001B[1;32m    416\u001B[0m args_data, in_tree \u001B[38;5;241m=\u001B[39m tree_flatten(args)\n\u001B[1;32m    417\u001B[0m grad_params \u001B[38;5;241m=\u001B[39m _check_grad_params(\n\u001B[1;32m    418\u001B[0m     \u001B[38;5;28mself\u001B[39m\u001B[38;5;241m.\u001B[39mgrad_params\u001B[38;5;241m.\u001B[39mmethod,\n\u001B[1;32m    419\u001B[0m     \u001B[38;5;28mself\u001B[39m\u001B[38;5;241m.\u001B[39mgrad_params\u001B[38;5;241m.\u001B[39mscalar_out,\n\u001B[0;32m   (...)\u001B[0m\n\u001B[1;32m    423\u001B[0m     in_tree,\n\u001B[1;32m    424\u001B[0m )\n\u001B[0;32m--> 425\u001B[0m jaxpr, out_tree \u001B[38;5;241m=\u001B[39m \u001B[43m_make_jaxpr_check_differentiable\u001B[49m\u001B[43m(\u001B[49m\u001B[43mfn\u001B[49m\u001B[43m,\u001B[49m\u001B[43m \u001B[49m\u001B[43mgrad_params\u001B[49m\u001B[43m,\u001B[49m\u001B[43m \u001B[49m\u001B[38;5;241;43m*\u001B[39;49m\u001B[43margs\u001B[49m\u001B[43m)\u001B[49m\n\u001B[1;32m    426\u001B[0m args_argnum \u001B[38;5;241m=\u001B[39m \u001B[38;5;28mtuple\u001B[39m(args[i] \u001B[38;5;28;01mfor\u001B[39;00m i \u001B[38;5;129;01min\u001B[39;00m grad_params\u001B[38;5;241m.\u001B[39margnum)\n\u001B[1;32m    427\u001B[0m _, in_tree \u001B[38;5;241m=\u001B[39m tree_flatten(args_argnum)\n",
      "File \u001B[0;32m~/coding/barren_traps/.venv/lib/python3.12/site-packages/catalyst/pennylane_extensions.py:249\u001B[0m, in \u001B[0;36m_make_jaxpr_check_differentiable\u001B[0;34m(f, grad_params, *args)\u001B[0m\n\u001B[1;32m    247\u001B[0m \u001B[38;5;28;01mfor\u001B[39;00m pos, res \u001B[38;5;129;01min\u001B[39;00m \u001B[38;5;28menumerate\u001B[39m(jaxpr\u001B[38;5;241m.\u001B[39mout_avals):\n\u001B[1;32m    248\u001B[0m     \u001B[38;5;28;01mif\u001B[39;00m res\u001B[38;5;241m.\u001B[39mdtype\u001B[38;5;241m.\u001B[39mkind \u001B[38;5;241m!=\u001B[39m \u001B[38;5;124m\"\u001B[39m\u001B[38;5;124mf\u001B[39m\u001B[38;5;124m\"\u001B[39m:\n\u001B[0;32m--> 249\u001B[0m         \u001B[38;5;28;01mraise\u001B[39;00m DifferentiableCompileError(\n\u001B[1;32m    250\u001B[0m             \u001B[38;5;124m\"\u001B[39m\u001B[38;5;124mCatalyst.grad/jacobian only supports differentiation on floating-point \u001B[39m\u001B[38;5;124m\"\u001B[39m\n\u001B[1;32m    251\u001B[0m             \u001B[38;5;124mf\u001B[39m\u001B[38;5;124m\"\u001B[39m\u001B[38;5;124mresults, got \u001B[39m\u001B[38;5;124m'\u001B[39m\u001B[38;5;132;01m{\u001B[39;00mres\u001B[38;5;241m.\u001B[39mdtype\u001B[38;5;132;01m}\u001B[39;00m\u001B[38;5;124m'\u001B[39m\u001B[38;5;124m at position \u001B[39m\u001B[38;5;132;01m{\u001B[39;00mpos\u001B[38;5;132;01m}\u001B[39;00m\u001B[38;5;124m.\u001B[39m\u001B[38;5;124m\"\u001B[39m\n\u001B[1;32m    252\u001B[0m         )\n\u001B[1;32m    254\u001B[0m _verify_differentiable_child_qnodes(jaxpr, method)\n\u001B[1;32m    256\u001B[0m \u001B[38;5;28;01mreturn\u001B[39;00m jaxpr, out_tree\n",
      "\u001B[0;31mDifferentiableCompileError\u001B[0m: Catalyst.grad/jacobian only supports differentiation on floating-point results, got 'complex128' at position 0."
     ]
    }
   ],
   "execution_count": 160
  },
  {
   "metadata": {},
   "cell_type": "code",
   "outputs": [],
   "execution_count": null,
   "source": "",
   "id": "651c65ee68a75ee8"
  },
  {
   "metadata": {},
   "cell_type": "code",
   "outputs": [],
   "execution_count": null,
   "source": "jax.vmap(vqa.expval(fixed_paulis))",
   "id": "de20d2a2217e5ed4"
  },
  {
   "metadata": {
    "ExecuteTime": {
     "end_time": "2024-05-05T18:40:44.907965Z",
     "start_time": "2024-05-05T18:40:44.894775Z"
    }
   },
   "cell_type": "code",
   "source": "2**-8",
   "id": "6769989c604abff6",
   "outputs": [
    {
     "data": {
      "text/plain": [
       "0.00390625"
      ]
     },
     "execution_count": 4,
     "metadata": {},
     "output_type": "execute_result"
    }
   ],
   "execution_count": 4
  },
  {
   "metadata": {},
   "cell_type": "code",
   "outputs": [
    {
     "data": {
      "text/plain": [
       "  0%|          | 0/1 [00:00<?, ?it/s]"
      ],
      "application/vnd.jupyter.widget-view+json": {
       "version_major": 2,
       "version_minor": 0,
       "model_id": "68999c34a85d4e15927e8b3afdcb09f8"
      }
     },
     "metadata": {},
     "output_type": "display_data"
    },
    {
     "data": {
      "text/plain": [
       "  0%|          | 0/1 [00:00<?, ?it/s]"
      ],
      "application/vnd.jupyter.widget-view+json": {
       "version_major": 2,
       "version_minor": 0,
       "model_id": "927e984bf02c467cb16834b7af912142"
      }
     },
     "metadata": {},
     "output_type": "display_data"
    },
    {
     "data": {
      "text/plain": [
       "  0%|          | 0/5 [00:00<?, ?it/s]"
      ],
      "application/vnd.jupyter.widget-view+json": {
       "version_major": 2,
       "version_minor": 0,
       "model_id": "8c8c13a0936444debe48d1d22fbe9c2e"
      }
     },
     "metadata": {},
     "output_type": "display_data"
    },
    {
     "name": "stdout",
     "output_type": "stream",
     "text": [
      "\n",
      " Looking for exact minimum\n",
      "\n",
      " >>>>>>>>>>compiling<<<<<<<<<<\n",
      "\n",
      " Computing rates\n",
      "\n",
      " >>>>>>>>>>compiling<<<<<<<<<<\n",
      "rate 1.0, values rate 0.0, vars rate 1.0, vars (values) rate 1.0\n",
      "\n",
      " Looking for exact minimum\n",
      "\n",
      " Computing rates\n",
      "rate 1.0, values rate 0.0, vars rate 1.0, vars (values) rate 1.0\n",
      "\n",
      " Looking for exact minimum\n",
      "\n",
      " Computing rates\n",
      "rate 1.0, values rate 0.0, vars rate 1.0, vars (values) rate 1.0\n",
      "\n",
      " Looking for exact minimum\n",
      "\n",
      " Computing rates\n",
      "rate 1.0, values rate 0.0, vars rate 1.0, vars (values) rate 1.0\n",
      "\n",
      " Looking for exact minimum\n",
      "\n",
      " Computing rates\n",
      "rate 1.0, values rate 0.0, vars rate 1.0, vars (values) rate 1.0\n"
     ]
    }
   ],
   "execution_count": 2,
   "source": [
    "exp = ExactMinExperiment('test')\n",
    "\n",
    "qubits = (6, )\n",
    "layers = (50,   )\n",
    "\n",
    "exp.run(qubits, layers, num_samples_per_circuit=5)"
   ],
   "id": "31dee7f97e225f8d"
  },
  {
   "metadata": {
    "ExecuteTime": {
     "start_time": "2024-05-06T04:24:54.432043Z"
    }
   },
   "cell_type": "code",
   "source": [
    "exp = ExactMinExperiment('test')\n",
    "\n",
    "qubits = (8, )\n",
    "layers = (100,   )\n",
    "\n",
    "exp.run(qubits, layers, num_samples_per_circuit=10)"
   ],
   "id": "9332d4b11c78848e",
   "outputs": [
    {
     "data": {
      "text/plain": [
       "  0%|          | 0/1 [00:00<?, ?it/s]"
      ],
      "application/vnd.jupyter.widget-view+json": {
       "version_major": 2,
       "version_minor": 0,
       "model_id": "903211c102a3483098f3af32dbdec41f"
      }
     },
     "metadata": {},
     "output_type": "display_data"
    },
    {
     "data": {
      "text/plain": [
       "  0%|          | 0/1 [00:00<?, ?it/s]"
      ],
      "application/vnd.jupyter.widget-view+json": {
       "version_major": 2,
       "version_minor": 0,
       "model_id": "ee3a2adea7524ad8aeddd8ba67d33d3b"
      }
     },
     "metadata": {},
     "output_type": "display_data"
    },
    {
     "data": {
      "text/plain": [
       "  0%|          | 0/10 [00:00<?, ?it/s]"
      ],
      "application/vnd.jupyter.widget-view+json": {
       "version_major": 2,
       "version_minor": 0,
       "model_id": "cdfbd01e903d4ab2be348d65619d0d22"
      }
     },
     "metadata": {},
     "output_type": "display_data"
    },
    {
     "name": "stdout",
     "output_type": "stream",
     "text": [
      "\n",
      " Looking for exact minimum\n",
      "\n",
      " >>>>>>>>>>compiling<<<<<<<<<<\n",
      "\n",
      " >>>>>>>>>>compiling<<<<<<<<<<\n",
      "paulis ['XIIIXIII'], len(i_fixed) 785(1616)\n",
      "paulis ['XIIIXIII', 'IIIZIIZI'], len(i_fixed) 1200(1616)\n",
      "paulis ['XIIIXIII', 'IIIZIIZI', 'IZIZIIII'], len(i_fixed) 1405(1616)\n",
      "paulis ['XIIIXIII', 'IIIZIIZI', 'IZIZIIII', 'IIXIIIIX'], len(i_fixed) 1481(1616)\n",
      "paulis ['XIIIXIII', 'IIIZIIZI', 'IZIZIIII', 'IIXIIIIX', 'IIXIIZII'], len(i_fixed) 1527(1616)\n",
      "paulis ['XIIIXIII', 'IIIZIIZI', 'IZIZIIII', 'IIXIIIIX', 'IIXIIZII', 'ZIIIZIII'], len(i_fixed) 1556(1616)\n",
      "paulis ['XIIIXIII', 'IIIZIIZI', 'IZIZIIII', 'IIXIIIIX', 'IIXIIZII', 'ZIIIZIII', 'IZXIIIII'], len(i_fixed) 1583(1616)\n",
      "paulis ['XIIIXIII', 'IIIZIIZI', 'IZIZIIII', 'IIXIIIIX', 'IIXIIZII', 'ZIIIZIII', 'IZXIIIII', 'IIXIIIZI'], len(i_fixed) 1583(1616)\n",
      "paulis ['XIIIXIII', 'IIIZIIZI', 'IZIZIIII', 'IIXIIIIX', 'IIXIIZII', 'ZIIIZIII', 'IZXIIIII', 'IIXIIIZI', 'IIIZIZII'], len(i_fixed) 1583(1616)\n",
      "paulis ['XIIIXIII', 'IIIZIIZI', 'IZIZIIII', 'IIXIIIIX', 'IIXIIZII', 'ZIIIZIII', 'IZXIIIII', 'IIXIIIZI', 'IIIZIZII', 'IIIZIIIX'], len(i_fixed) 1583(1616)\n",
      "\n",
      " Computing rates\n",
      "rate 0.041549953314659195, values rate 0.06862745098039216, vars rate 0.0032679738562091504, vars (values) rate 0.0\n",
      "\n",
      " Looking for exact minimum\n",
      "paulis ['IIZIIZII'], len(i_fixed) 794(1616)\n",
      "paulis ['IIZIIZII', 'IIIIIZZI'], len(i_fixed) 1153(1616)\n",
      "paulis ['IIZIIZII', 'IIIIIZZI', 'ZIIZIIII'], len(i_fixed) 1362(1616)\n",
      "paulis ['IIZIIZII', 'IIIIIZZI', 'ZIIZIIII', 'IZIIIIIX'], len(i_fixed) 1473(1616)\n",
      "paulis ['IIZIIZII', 'IIIIIZZI', 'ZIIZIIII', 'IZIIIIIX', 'IXIIIIIZ'], len(i_fixed) 1526(1616)\n",
      "paulis ['IIZIIZII', 'IIIIIZZI', 'ZIIZIIII', 'IZIIIIIX', 'IXIIIIIZ', 'XIIXIIII'], len(i_fixed) 1555(1616)\n",
      "paulis ['IIZIIZII', 'IIIIIZZI', 'ZIIZIIII', 'IZIIIIIX', 'IXIIIIIZ', 'XIIXIIII', 'IIIIZIZI'], len(i_fixed) 1567(1616)\n",
      "paulis ['IIZIIZII', 'IIIIIZZI', 'ZIIZIIII', 'IZIIIIIX', 'IXIIIIIZ', 'XIIXIIII', 'IIIIZIZI', 'IIZIZIII'], len(i_fixed) 1567(1616)\n",
      "\n",
      " Computing rates\n",
      "rate 0.020146520146520148, values rate 0.019230769230769232, vars rate 0.010073260073260074, vars (values) rate 0.0\n",
      "\n",
      " Looking for exact minimum\n",
      "paulis ['XIIZIIII'], len(i_fixed) 759(1616)\n",
      "paulis ['XIIZIIII', 'IZIIIIXI'], len(i_fixed) 1208(1616)\n",
      "paulis ['XIIZIIII', 'IZIIIIXI', 'IIIIIZIX'], len(i_fixed) 1399(1616)\n",
      "paulis ['XIIZIIII', 'IZIIIIXI', 'IIIIIZIX', 'IIIZZIII'], len(i_fixed) 1496(1616)\n",
      "paulis ['XIIZIIII', 'IZIIIIXI', 'IIIIIZIX', 'IIIZZIII', 'IIZZIIII'], len(i_fixed) 1547(1616)\n",
      "paulis ['XIIZIIII', 'IZIIIIXI', 'IIIIIZIX', 'IIIZZIII', 'IIZZIIII', 'IZZIIIII'], len(i_fixed) 1570(1616)\n",
      "paulis ['XIIZIIII', 'IZIIIIXI', 'IIIIIZIX', 'IIIZZIII', 'IIZZIIII', 'IZZIIIII', 'IZIIIIIX'], len(i_fixed) 1585(1616)\n",
      "paulis ['XIIZIIII', 'IZIIIIXI', 'IIIIIZIX', 'IIIZZIII', 'IIZZIIII', 'IZZIIIII', 'IZIIIIIX', 'IZIIZIII'], len(i_fixed) 1585(1616)\n",
      "paulis ['XIIZIIII', 'IZIIIIXI', 'IIIIIZIX', 'IIIZZIII', 'IIZZIIII', 'IZZIIIII', 'IZIIIIIX', 'IZIIZIII', 'IIIZIIXI'], len(i_fixed) 1585(1616)\n",
      "paulis ['XIIZIIII', 'IZIIIIXI', 'IIIIIZIX', 'IIIZZIII', 'IIZZIIII', 'IZZIIIII', 'IZIIIIIX', 'IZIIZIII', 'IIIZIIXI', 'IIIZIIIX'], len(i_fixed) 1585(1616)\n",
      "paulis ['XIIZIIII', 'IZIIIIXI', 'IIIIIZIX', 'IIIZZIII', 'IIZZIIII', 'IZZIIIII', 'IZIIIIIX', 'IZIIZIII', 'IIIZIIXI', 'IIIZIIIX', 'XIIIIZII'], len(i_fixed) 1585(1616)\n",
      "paulis ['XIIZIIII', 'IZIIIIXI', 'IIIIIZIX', 'IIIZZIII', 'IIZZIIII', 'IZZIIIII', 'IZIIIIIX', 'IZIIZIII', 'IIIZIIXI', 'IIIZIIIX', 'XIIIIZII', 'XZIIIIII'], len(i_fixed) 1585(1616)\n",
      "paulis ['XIIZIIII', 'IZIIIIXI', 'IIIIIZIX', 'IIIZZIII', 'IIZZIIII', 'IZZIIIII', 'IZIIIIIX', 'IZIIZIII', 'IIIZIIXI', 'IIIZIIIX', 'XIIIIZII', 'XZIIIIII', 'IIZIIZII'], len(i_fixed) 1585(1616)\n",
      "paulis ['XIIZIIII', 'IZIIIIXI', 'IIIIIZIX', 'IIIZZIII', 'IIZZIIII', 'IZZIIIII', 'IZIIIIIX', 'IZIIZIII', 'IIIZIIXI', 'IIIZIIIX', 'XIIIIZII', 'XZIIIIII', 'IIZIIZII', 'IIIIZZII'], len(i_fixed) 1585(1616)\n",
      "paulis ['XIIZIIII', 'IZIIIIXI', 'IIIIIZIX', 'IIIZZIII', 'IIZZIIII', 'IZZIIIII', 'IZIIIIIX', 'IZIIZIII', 'IIIZIIXI', 'IIIZIIIX', 'XIIIIZII', 'XZIIIIII', 'IIZIIZII', 'IIIIZZII', 'IIIIIZXI'], len(i_fixed) 1585(1616)\n",
      "\n",
      " Computing rates\n",
      "rate 0.09131075110456553, values rate 0.13402061855670103, vars rate 0.011291114383897889, vars (values) rate 0.0\n",
      "\n",
      " Looking for exact minimum\n",
      "paulis ['XIIIIIXI'], len(i_fixed) 698(1616)\n",
      "paulis ['XIIIIIXI', 'IZIIIXII'], len(i_fixed) 1127(1616)\n",
      "paulis ['XIIIIIXI', 'IZIIIXII', 'IIXZIIII'], len(i_fixed) 1333(1616)\n",
      "paulis ['XIIIIIXI', 'IZIIIXII', 'IIXZIIII', 'XIIIZIII'], len(i_fixed) 1466(1616)\n",
      "paulis ['XIIIIIXI', 'IZIIIXII', 'IIXZIIII', 'XIIIZIII', 'IXIIIZII'], len(i_fixed) 1512(1616)\n",
      "paulis ['XIIIIIXI', 'IZIIIXII', 'IIXZIIII', 'XIIIZIII', 'IXIIIZII', 'XIIIIIIX'], len(i_fixed) 1540(1616)\n",
      "paulis ['XIIIIIXI', 'IZIIIXII', 'IIXZIIII', 'XIIIZIII', 'IXIIIZII', 'XIIIIIIX', 'IIIZIIXI'], len(i_fixed) 1552(1616)\n",
      "paulis ['XIIIIIXI', 'IZIIIXII', 'IIXZIIII', 'XIIIZIII', 'IXIIIZII', 'XIIIIIIX', 'IIIZIIXI', 'IIIZIIIX'], len(i_fixed) 1552(1616)\n",
      "paulis ['XIIIIIXI', 'IZIIIXII', 'IIXZIIII', 'XIIIZIII', 'IXIIIZII', 'XIIIIIIX', 'IIIZIIXI', 'IIIZIIIX', 'XIXIIIII'], len(i_fixed) 1552(1616)\n",
      "paulis ['XIIIIIXI', 'IZIIIXII', 'IIXZIIII', 'XIIIZIII', 'IXIIIZII', 'XIIIIIIX', 'IIIZIIXI', 'IIIZIIIX', 'XIXIIIII', 'IIIZZIII'], len(i_fixed) 1552(1616)\n",
      "\n",
      " Computing rates\n",
      "rate 0.04201680672268908, values rate 0.06862745098039216, vars rate 0.008403361344537815, vars (values) rate 0.0\n",
      "\n",
      " Looking for exact minimum\n",
      "paulis ['XXIIIIII'], len(i_fixed) 773(1616)\n",
      "paulis ['XXIIIIII', 'IIIXIZII'], len(i_fixed) 1162(1616)\n",
      "paulis ['XXIIIIII', 'IIIXIZII', 'IIIXXIII'], len(i_fixed) 1351(1616)\n",
      "paulis ['XXIIIIII', 'IIIXIZII', 'IIIXXIII', 'IXZIIIII'], len(i_fixed) 1482(1616)\n",
      "paulis ['XXIIIIII', 'IIIXIZII', 'IIIXXIII', 'IXZIIIII', 'IIIIIIXZ'], len(i_fixed) 1537(1616)\n",
      "paulis ['XXIIIIII', 'IIIXIZII', 'IIIXXIII', 'IXZIIIII', 'IIIIIIXZ', 'IIZIXIII'], len(i_fixed) 1554(1616)\n",
      "paulis ['XXIIIIII', 'IIIXIZII', 'IIIXXIII', 'IXZIIIII', 'IIIIIIXZ', 'IIZIXIII', 'IXIXIIII'], len(i_fixed) 1554(1616)\n",
      "paulis ['XXIIIIII', 'IIIXIZII', 'IIIXXIII', 'IXZIIIII', 'IIIIIIXZ', 'IIZIXIII', 'IXIXIIII', 'IIZIIZII'], len(i_fixed) 1554(1616)\n",
      "paulis ['XXIIIIII', 'IIIXIZII', 'IIIXXIII', 'IXZIIIII', 'IIIIIIXZ', 'IIZIXIII', 'IXIXIIII', 'IIZIIZII', 'IIIIIIZX'], len(i_fixed) 1569(1616)\n",
      "paulis ['XXIIIIII', 'IIIXIZII', 'IIIXXIII', 'IXZIIIII', 'IIIIIIXZ', 'IIZIXIII', 'IXIXIIII', 'IIZIIZII', 'IIIIIIZX', 'XIIIXIII'], len(i_fixed) 1569(1616)\n",
      "paulis ['XXIIIIII', 'IIIXIZII', 'IIIXXIII', 'IXZIIIII', 'IIIIIIXZ', 'IIZIXIII', 'IXIXIIII', 'IIZIIZII', 'IIIIIIZX', 'XIIIXIII', 'XIIIIZII'], len(i_fixed) 1569(1616)\n",
      "\n",
      " Computing rates\n",
      "rate 0.04101838755304102, values rate 0.0594059405940594, vars rate 0.008958038661008957, vars (values) rate 0.0\n",
      "\n",
      " Looking for exact minimum\n",
      "paulis ['ZIIIIIIX'], len(i_fixed) 774(1616)\n",
      "paulis ['ZIIIIIIX', 'ZIZIIIII'], len(i_fixed) 1126(1616)\n",
      "paulis ['ZIIIIIIX', 'ZIZIIIII', 'IIIIZIXI'], len(i_fixed) 1351(1616)\n",
      "paulis ['ZIIIIIIX', 'ZIZIIIII', 'IIIIZIXI', 'IIIIIZIX'], len(i_fixed) 1435(1616)\n",
      "paulis ['ZIIIIIIX', 'ZIZIIIII', 'IIIIZIXI', 'IIIIIZIX', 'IIZIIZII'], len(i_fixed) 1435(1616)\n",
      "paulis ['ZIIIIIIX', 'ZIZIIIII', 'IIIIZIXI', 'IIIIIZIX', 'IIZIIZII', 'IIIIXIZI'], len(i_fixed) 1523(1616)\n",
      "paulis ['ZIIIIIIX', 'ZIZIIIII', 'IIIIZIXI', 'IIIIIZIX', 'IIZIIZII', 'IIIIXIZI', 'IZIIIZII'], len(i_fixed) 1559(1616)\n",
      "paulis ['ZIIIIIIX', 'ZIZIIIII', 'IIIIZIXI', 'IIIIIZIX', 'IIZIIZII', 'IIIIXIZI', 'IZIIIZII', 'IIIZIZII'], len(i_fixed) 1572(1616)\n",
      "paulis ['ZIIIIIIX', 'ZIZIIIII', 'IIIIZIXI', 'IIIIIZIX', 'IIZIIZII', 'IIIIXIZI', 'IZIIIZII', 'IIIZIZII', 'ZIIZIIII'], len(i_fixed) 1572(1616)\n",
      "paulis ['ZIIIIIIX', 'ZIZIIIII', 'IIIIZIXI', 'IIIIIZIX', 'IIZIIZII', 'IIIIXIZI', 'IZIIIZII', 'IIIZIZII', 'ZIIZIIII', 'ZZIIIIII'], len(i_fixed) 1572(1616)\n",
      "\n",
      " Computing rates\n",
      "rate 0.046218487394957986, values rate 0.06862745098039216, vars rate 0.01027077497665733, vars (values) rate 0.0\n",
      "\n",
      " Looking for exact minimum\n",
      "paulis ['IIIIIZXI'], len(i_fixed) 722(1616)\n",
      "paulis ['IIIIIZXI', 'XIXIIIII'], len(i_fixed) 1146(1616)\n",
      "paulis ['IIIIIZXI', 'XIXIIIII', 'IIXIXIII'], len(i_fixed) 1400(1616)\n",
      "paulis ['IIIIIZXI', 'XIXIIIII', 'IIXIXIII', 'IIIIIXZI'], len(i_fixed) 1496(1616)\n",
      "paulis ['IIIIIZXI', 'XIXIIIII', 'IIXIXIII', 'IIIIIXZI', 'IIIZIIIX'], len(i_fixed) 1555(1616)\n",
      "paulis ['IIIIIZXI', 'XIXIIIII', 'IIXIXIII', 'IIIIIXZI', 'IIIZIIIX', 'IIIXIIIZ'], len(i_fixed) 1580(1616)\n",
      "paulis ['IIIIIZXI', 'XIXIIIII', 'IIXIXIII', 'IIIIIXZI', 'IIIZIIIX', 'IIIXIIIZ', 'XZIIIIII'], len(i_fixed) 1598(1616)\n",
      "paulis ['IIIIIZXI', 'XIXIIIII', 'IIXIXIII', 'IIIIIXZI', 'IIIZIIIX', 'IIIXIIIZ', 'XZIIIIII', 'IZIIXIII'], len(i_fixed) 1598(1616)\n",
      "\n",
      " Computing rates\n",
      "rate 0.019688644688644688, values rate 0.019230769230769232, vars rate 0.01098901098901099, vars (values) rate 0.0\n",
      "\n",
      " Looking for exact minimum\n"
     ]
    }
   ],
   "execution_count": null
  },
  {
   "metadata": {
    "ExecuteTime": {
     "end_time": "2024-05-06T07:07:04.884345Z",
     "start_time": "2024-05-06T07:07:04.873342Z"
    }
   },
   "cell_type": "code",
   "source": "2**14",
   "id": "3e8a51c7b50d7598",
   "outputs": [
    {
     "data": {
      "text/plain": [
       "16384"
      ]
     },
     "execution_count": 1,
     "metadata": {},
     "output_type": "execute_result"
    }
   ],
   "execution_count": 1
  },
  {
   "metadata": {
    "ExecuteTime": {
     "end_time": "2024-05-05T12:06:34.443965Z",
     "start_time": "2024-05-05T12:06:34.438546Z"
    }
   },
   "cell_type": "code",
   "source": "2**-6",
   "id": "e2fe9bd0783c9729",
   "outputs": [
    {
     "data": {
      "text/plain": [
       "0.015625"
      ]
     },
     "execution_count": 4,
     "metadata": {},
     "output_type": "execute_result"
    }
   ],
   "execution_count": 4
  },
  {
   "metadata": {
    "ExecuteTime": {
     "end_time": "2024-05-03T19:33:43.170639Z",
     "start_time": "2024-05-03T19:33:40.678979Z"
    }
   },
   "cell_type": "code",
   "source": [
    "bp_experiment = BPExperiment.load('main')\n",
    "\n",
    "qubits = (8, 10)\n",
    "layers = range(10, 50+1, 10)\n",
    "num_paulis = 30\n",
    "num_samples = 30\n",
    "\n",
    "# bp_experiment.run(qubits, layers, num_paulis, num_samples)\n",
    "bp_experiment.plot_results()"
   ],
   "id": "9cb3a91988471bfe",
   "outputs": [
    {
     "data": {
      "text/plain": [
       "<Figure size 640x480 with 1 Axes>"
      ],
      "image/png": "[encoded data removed]"
     },
     "metadata": {},
     "output_type": "display_data"
    }
   ],
   "execution_count": 2
  },
  {
   "metadata": {
    "ExecuteTime": {
     "end_time": "2024-05-03T19:33:43.186427Z",
     "start_time": "2024-05-03T19:33:43.174618Z"
    }
   },
   "cell_type": "code",
   "source": "2**-10",
   "id": "20fbbda9d190ae66",
   "outputs": [
    {
     "data": {
      "text/plain": [
       "0.0009765625"
      ]
     },
     "execution_count": 3,
     "metadata": {},
     "output_type": "execute_result"
    }
   ],
   "execution_count": 3
  },
  {
   "metadata": {
    "ExecuteTime": {
     "end_time": "2024-05-03T19:33:43.232598Z",
     "start_time": "2024-05-03T19:33:43.191641Z"
    }
   },
   "cell_type": "code",
   "source": [
    "num_qubits = 10\n",
    "num_layers = 50\n",
    "\n",
    "vqa = LocalVQA(num_qubits, num_layers)"
   ],
   "id": "1da48b9bc51fb802",
   "outputs": [],
   "execution_count": 4
  },
  {
   "metadata": {
    "ExecuteTime": {
     "end_time": "2024-05-03T19:33:43.257033Z",
     "start_time": "2024-05-03T19:33:43.236218Z"
    }
   },
   "cell_type": "code",
   "source": [
    "observables = all_local_two_body_pauli(num_qubits)\n",
    "x = vqa.random_clifford_parameters(num_samples=100)\n",
    "\n",
    "obs = all_local_two_body_pauli(num_qubits) * int(2**num_qubits / len(all_local_two_body_pauli(num_qubits)))"
   ],
   "id": "488243950df5409b",
   "outputs": [],
   "execution_count": 5
  },
  {
   "metadata": {
    "ExecuteTime": {
     "end_time": "2024-05-03T19:33:44.982877Z",
     "start_time": "2024-05-03T19:33:43.260657Z"
    }
   },
   "cell_type": "code",
   "source": "jax.vmap(vqa.expval(obs[:1]))(x[:1])",
   "id": "8387ce8e65c7b2ae",
   "outputs": [
    {
     "name": "stdout",
     "output_type": "stream",
     "text": [
      "\n",
      " >>>>>>>>>>compiling<<<<<<<<<<\n"
     ]
    },
    {
     "ename": "TypeError",
     "evalue": "ModuleContext.__init__() got an unexpected keyword argument 'name_stack'",
     "output_type": "error",
     "traceback": [
      "\u001B[0;31m---------------------------------------------------------------------------\u001B[0m",
      "\u001B[0;31mTypeError\u001B[0m                                 Traceback (most recent call last)",
      "Cell \u001B[0;32mIn[6], line 1\u001B[0m\n\u001B[0;32m----> 1\u001B[0m \u001B[43mjax\u001B[49m\u001B[38;5;241;43m.\u001B[39;49m\u001B[43mvmap\u001B[49m\u001B[43m(\u001B[49m\u001B[43mvqa\u001B[49m\u001B[38;5;241;43m.\u001B[39;49m\u001B[43mexpval\u001B[49m\u001B[43m(\u001B[49m\u001B[43mobs\u001B[49m\u001B[43m[\u001B[49m\u001B[43m:\u001B[49m\u001B[38;5;241;43m1\u001B[39;49m\u001B[43m]\u001B[49m\u001B[43m)\u001B[49m\u001B[43m)\u001B[49m\u001B[43m(\u001B[49m\u001B[43mx\u001B[49m\u001B[43m[\u001B[49m\u001B[43m:\u001B[49m\u001B[38;5;241;43m1\u001B[39;49m\u001B[43m]\u001B[49m\u001B[43m)\u001B[49m\n",
      "    \u001B[0;31m[... skipping hidden 3 frame]\u001B[0m\n",
      "File \u001B[0;32m~/coding/barren_traps/traps.py:149\u001B[0m, in \u001B[0;36mLocalVQA.expval.<locals>.<lambda>\u001B[0;34m(x)\u001B[0m\n\u001B[1;32m    146\u001B[0m observables \u001B[38;5;241m=\u001B[39m [qml\u001B[38;5;241m.\u001B[39mpauli\u001B[38;5;241m.\u001B[39mstring_to_pauli_word(pauli) \u001B[38;5;28;01mfor\u001B[39;00m pauli \u001B[38;5;129;01min\u001B[39;00m paulis]\n\u001B[1;32m    147\u001B[0m matrices \u001B[38;5;241m=\u001B[39m jnp\u001B[38;5;241m.\u001B[39masarray([qml\u001B[38;5;241m.\u001B[39mmatrix(obs, wire_order\u001B[38;5;241m=\u001B[39m\u001B[38;5;28mrange\u001B[39m(\u001B[38;5;28mself\u001B[39m\u001B[38;5;241m.\u001B[39mnum_qubits)) \u001B[38;5;28;01mfor\u001B[39;00m obs \u001B[38;5;129;01min\u001B[39;00m observables])\n\u001B[0;32m--> 149\u001B[0m \u001B[38;5;28;01mreturn\u001B[39;00m \u001B[38;5;28;01mlambda\u001B[39;00m x: jnp\u001B[38;5;241m.\u001B[39mreal(\u001B[43mjax\u001B[49m\u001B[38;5;241;43m.\u001B[39;49m\u001B[43mvmap\u001B[49m\u001B[43m(\u001B[49m\u001B[38;5;28;43;01mlambda\u001B[39;49;00m\u001B[43m \u001B[49m\u001B[43mm\u001B[49m\u001B[43m:\u001B[49m\u001B[43m \u001B[49m\u001B[38;5;28;43mself\u001B[39;49m\u001B[38;5;241;43m.\u001B[39;49m\u001B[43m_expval_func\u001B[49m\u001B[43m(\u001B[49m\u001B[43mm\u001B[49m\u001B[43m,\u001B[49m\u001B[43m \u001B[49m\u001B[43mx\u001B[49m\u001B[43m)\u001B[49m\u001B[43m)\u001B[49m\u001B[43m(\u001B[49m\u001B[43mmatrices\u001B[49m\u001B[43m)\u001B[49m)\n",
      "    \u001B[0;31m[... skipping hidden 3 frame]\u001B[0m\n",
      "File \u001B[0;32m~/coding/barren_traps/traps.py:149\u001B[0m, in \u001B[0;36mLocalVQA.expval.<locals>.<lambda>\u001B[0;34m(m)\u001B[0m\n\u001B[1;32m    146\u001B[0m observables \u001B[38;5;241m=\u001B[39m [qml\u001B[38;5;241m.\u001B[39mpauli\u001B[38;5;241m.\u001B[39mstring_to_pauli_word(pauli) \u001B[38;5;28;01mfor\u001B[39;00m pauli \u001B[38;5;129;01min\u001B[39;00m paulis]\n\u001B[1;32m    147\u001B[0m matrices \u001B[38;5;241m=\u001B[39m jnp\u001B[38;5;241m.\u001B[39masarray([qml\u001B[38;5;241m.\u001B[39mmatrix(obs, wire_order\u001B[38;5;241m=\u001B[39m\u001B[38;5;28mrange\u001B[39m(\u001B[38;5;28mself\u001B[39m\u001B[38;5;241m.\u001B[39mnum_qubits)) \u001B[38;5;28;01mfor\u001B[39;00m obs \u001B[38;5;129;01min\u001B[39;00m observables])\n\u001B[0;32m--> 149\u001B[0m \u001B[38;5;28;01mreturn\u001B[39;00m \u001B[38;5;28;01mlambda\u001B[39;00m x: jnp\u001B[38;5;241m.\u001B[39mreal(jax\u001B[38;5;241m.\u001B[39mvmap(\u001B[38;5;28;01mlambda\u001B[39;00m m: \u001B[38;5;28;43mself\u001B[39;49m\u001B[38;5;241;43m.\u001B[39;49m\u001B[43m_expval_func\u001B[49m\u001B[43m(\u001B[49m\u001B[43mm\u001B[49m\u001B[43m,\u001B[49m\u001B[43m \u001B[49m\u001B[43mx\u001B[49m\u001B[43m)\u001B[49m)(matrices))\n",
      "File \u001B[0;32m~/coding/barren_traps/.venv/lib/python3.12/site-packages/catalyst/jit.py:108\u001B[0m, in \u001B[0;36mQJIT.__call__\u001B[0;34m(self, *args, **kwargs)\u001B[0m\n\u001B[1;32m    105\u001B[0m \u001B[38;5;28;01mif\u001B[39;00m EvaluationContext\u001B[38;5;241m.\u001B[39mis_tracing():\n\u001B[1;32m    106\u001B[0m     \u001B[38;5;28;01mreturn\u001B[39;00m \u001B[38;5;28mself\u001B[39m\u001B[38;5;241m.\u001B[39muser_function(\u001B[38;5;241m*\u001B[39margs, \u001B[38;5;241m*\u001B[39m\u001B[38;5;241m*\u001B[39mkwargs)\n\u001B[0;32m--> 108\u001B[0m requires_promotion \u001B[38;5;241m=\u001B[39m \u001B[38;5;28;43mself\u001B[39;49m\u001B[38;5;241;43m.\u001B[39;49m\u001B[43mjit_compile\u001B[49m\u001B[43m(\u001B[49m\u001B[43margs\u001B[49m\u001B[43m)\u001B[49m\n\u001B[1;32m    110\u001B[0m \u001B[38;5;66;03m# If we receive tracers as input, dispatch to the JAX integration.\u001B[39;00m\n\u001B[1;32m    111\u001B[0m \u001B[38;5;28;01mif\u001B[39;00m \u001B[38;5;28many\u001B[39m(\u001B[38;5;28misinstance\u001B[39m(arg, jax\u001B[38;5;241m.\u001B[39mcore\u001B[38;5;241m.\u001B[39mTracer) \u001B[38;5;28;01mfor\u001B[39;00m arg \u001B[38;5;129;01min\u001B[39;00m tree_flatten(args)[\u001B[38;5;241m0\u001B[39m]):\n",
      "File \u001B[0;32m~/coding/barren_traps/.venv/lib/python3.12/site-packages/catalyst/jit.py:168\u001B[0m, in \u001B[0;36mQJIT.jit_compile\u001B[0;34m(self, args)\u001B[0m\n\u001B[1;32m    165\u001B[0m     \u001B[38;5;28mself\u001B[39m\u001B[38;5;241m.\u001B[39mcompiled_function\u001B[38;5;241m.\u001B[39mshared_object\u001B[38;5;241m.\u001B[39mclose()\n\u001B[1;32m    167\u001B[0m \u001B[38;5;28mself\u001B[39m\u001B[38;5;241m.\u001B[39mjaxpr, \u001B[38;5;28mself\u001B[39m\u001B[38;5;241m.\u001B[39mout_treedef, \u001B[38;5;28mself\u001B[39m\u001B[38;5;241m.\u001B[39mc_sig \u001B[38;5;241m=\u001B[39m \u001B[38;5;28mself\u001B[39m\u001B[38;5;241m.\u001B[39mcapture(args)\n\u001B[0;32m--> 168\u001B[0m \u001B[38;5;28mself\u001B[39m\u001B[38;5;241m.\u001B[39mmlir_module, \u001B[38;5;28mself\u001B[39m\u001B[38;5;241m.\u001B[39mmlir \u001B[38;5;241m=\u001B[39m \u001B[38;5;28;43mself\u001B[39;49m\u001B[38;5;241;43m.\u001B[39;49m\u001B[43mgenerate_ir\u001B[49m\u001B[43m(\u001B[49m\u001B[43m)\u001B[49m\n\u001B[1;32m    169\u001B[0m \u001B[38;5;28mself\u001B[39m\u001B[38;5;241m.\u001B[39mcompiled_function, \u001B[38;5;28mself\u001B[39m\u001B[38;5;241m.\u001B[39mqir \u001B[38;5;241m=\u001B[39m \u001B[38;5;28mself\u001B[39m\u001B[38;5;241m.\u001B[39mcompile()\n\u001B[1;32m    171\u001B[0m \u001B[38;5;28mself\u001B[39m\u001B[38;5;241m.\u001B[39mfn_cache\u001B[38;5;241m.\u001B[39minsert(\u001B[38;5;28mself\u001B[39m\u001B[38;5;241m.\u001B[39mcompiled_function, args, \u001B[38;5;28mself\u001B[39m\u001B[38;5;241m.\u001B[39mout_treedef, \u001B[38;5;28mself\u001B[39m\u001B[38;5;241m.\u001B[39mworkspace)\n",
      "File \u001B[0;32m~/coding/barren_traps/.venv/lib/python3.12/site-packages/catalyst/jit.py:233\u001B[0m, in \u001B[0;36mQJIT.generate_ir\u001B[0;34m(self)\u001B[0m\n\u001B[1;32m    226\u001B[0m \u001B[38;5;28;01mdef\u001B[39;00m \u001B[38;5;21mgenerate_ir\u001B[39m(\u001B[38;5;28mself\u001B[39m):\n\u001B[1;32m    227\u001B[0m \u001B[38;5;250m    \u001B[39m\u001B[38;5;124;03m\"\"\"Generate Catalyst's intermediate representation (IR) as an MLIR module.\u001B[39;00m\n\u001B[1;32m    228\u001B[0m \n\u001B[1;32m    229\u001B[0m \u001B[38;5;124;03m    Returns:\u001B[39;00m\n\u001B[1;32m    230\u001B[0m \u001B[38;5;124;03m        Tuple[ir.Module, str]: the in-memory MLIR module and its string representation\u001B[39;00m\n\u001B[1;32m    231\u001B[0m \u001B[38;5;124;03m    \"\"\"\u001B[39;00m\n\u001B[0;32m--> 233\u001B[0m     mlir_module, ctx \u001B[38;5;241m=\u001B[39m \u001B[43mlower_jaxpr_to_mlir\u001B[49m\u001B[43m(\u001B[49m\u001B[38;5;28;43mself\u001B[39;49m\u001B[38;5;241;43m.\u001B[39;49m\u001B[43mjaxpr\u001B[49m\u001B[43m,\u001B[49m\u001B[43m \u001B[49m\u001B[38;5;28;43mself\u001B[39;49m\u001B[38;5;241;43m.\u001B[39;49m\u001B[38;5;18;43m__name__\u001B[39;49m\u001B[43m)\u001B[49m\n\u001B[1;32m    235\u001B[0m     \u001B[38;5;66;03m# Inject Runtime Library-specific functions (e.g. setup/teardown).\u001B[39;00m\n\u001B[1;32m    236\u001B[0m     inject_functions(mlir_module, ctx)\n",
      "File \u001B[0;32m~/coding/barren_traps/.venv/lib/python3.12/site-packages/catalyst/jax_tracer.py:389\u001B[0m, in \u001B[0;36mlower_jaxpr_to_mlir\u001B[0;34m(jaxpr, func_name)\u001B[0m\n\u001B[1;32m    386\u001B[0m     \u001B[38;5;28;01mif\u001B[39;00m \u001B[38;5;28misinstance\u001B[39m(jaxpr, DynshapedClosedJaxpr):\n\u001B[1;32m    387\u001B[0m         jaxpr \u001B[38;5;241m=\u001B[39m jaxpr\u001B[38;5;241m.\u001B[39mremove_implicit_results()\n\u001B[0;32m--> 389\u001B[0m     mlir_module, ctx \u001B[38;5;241m=\u001B[39m \u001B[43mjaxpr_to_mlir\u001B[49m\u001B[43m(\u001B[49m\u001B[43mfunc_name\u001B[49m\u001B[43m,\u001B[49m\u001B[43m \u001B[49m\u001B[43mjaxpr\u001B[49m\u001B[43m)\u001B[49m\n\u001B[1;32m    391\u001B[0m \u001B[38;5;28;01mreturn\u001B[39;00m mlir_module, ctx\n",
      "File \u001B[0;32m~/coding/barren_traps/.venv/lib/python3.12/site-packages/catalyst/jax_extras/lowering.py:65\u001B[0m, in \u001B[0;36mjaxpr_to_mlir\u001B[0;34m(func_name, jaxpr)\u001B[0m\n\u001B[1;32m     63\u001B[0m     axis_context \u001B[38;5;241m=\u001B[39m ReplicaAxisContext(xla\u001B[38;5;241m.\u001B[39mAxisEnv(nrep, (), ()))\n\u001B[1;32m     64\u001B[0m     name_stack \u001B[38;5;241m=\u001B[39m new_name_stack(wrap_name(\u001B[38;5;124m\"\u001B[39m\u001B[38;5;124mok\u001B[39m\u001B[38;5;124m\"\u001B[39m, \u001B[38;5;124m\"\u001B[39m\u001B[38;5;124mjit\u001B[39m\u001B[38;5;124m\"\u001B[39m))\n\u001B[0;32m---> 65\u001B[0m     module, context \u001B[38;5;241m=\u001B[39m \u001B[43mcustom_lower_jaxpr_to_module\u001B[49m\u001B[43m(\u001B[49m\n\u001B[1;32m     66\u001B[0m \u001B[43m        \u001B[49m\u001B[43mfunc_name\u001B[49m\u001B[38;5;241;43m=\u001B[39;49m\u001B[38;5;124;43m\"\u001B[39;49m\u001B[38;5;124;43mjit_\u001B[39;49m\u001B[38;5;124;43m\"\u001B[39;49m\u001B[43m \u001B[49m\u001B[38;5;241;43m+\u001B[39;49m\u001B[43m \u001B[49m\u001B[43mfunc_name\u001B[49m\u001B[43m,\u001B[49m\n\u001B[1;32m     67\u001B[0m \u001B[43m        \u001B[49m\u001B[43mmodule_name\u001B[49m\u001B[38;5;241;43m=\u001B[39;49m\u001B[43mfunc_name\u001B[49m\u001B[43m,\u001B[49m\n\u001B[1;32m     68\u001B[0m \u001B[43m        \u001B[49m\u001B[43mjaxpr\u001B[49m\u001B[38;5;241;43m=\u001B[39;49m\u001B[43mjaxpr\u001B[49m\u001B[43m,\u001B[49m\n\u001B[1;32m     69\u001B[0m \u001B[43m        \u001B[49m\u001B[43meffects\u001B[49m\u001B[38;5;241;43m=\u001B[39;49m\u001B[43meffects\u001B[49m\u001B[43m,\u001B[49m\n\u001B[1;32m     70\u001B[0m \u001B[43m        \u001B[49m\u001B[43mplatform\u001B[49m\u001B[38;5;241;43m=\u001B[39;49m\u001B[38;5;124;43m\"\u001B[39;49m\u001B[38;5;124;43mcpu\u001B[39;49m\u001B[38;5;124;43m\"\u001B[39;49m\u001B[43m,\u001B[49m\n\u001B[1;32m     71\u001B[0m \u001B[43m        \u001B[49m\u001B[43maxis_context\u001B[49m\u001B[38;5;241;43m=\u001B[39;49m\u001B[43maxis_context\u001B[49m\u001B[43m,\u001B[49m\n\u001B[1;32m     72\u001B[0m \u001B[43m        \u001B[49m\u001B[43mname_stack\u001B[49m\u001B[38;5;241;43m=\u001B[39;49m\u001B[43mname_stack\u001B[49m\u001B[43m,\u001B[49m\n\u001B[1;32m     73\u001B[0m \u001B[43m    \u001B[49m\u001B[43m)\u001B[49m\n\u001B[1;32m     75\u001B[0m \u001B[38;5;28;01mreturn\u001B[39;00m module, context\n",
      "File \u001B[0;32m~/coding/barren_traps/.venv/lib/python3.12/site-packages/catalyst/jax_extras/lowering.py:116\u001B[0m, in \u001B[0;36mcustom_lower_jaxpr_to_module\u001B[0;34m(func_name, module_name, jaxpr, effects, platform, axis_context, name_stack, replicated_args, arg_shardings, result_shardings)\u001B[0m\n\u001B[1;32m    114\u001B[0m host_callbacks \u001B[38;5;241m=\u001B[39m []\n\u001B[1;32m    115\u001B[0m lowering_params \u001B[38;5;241m=\u001B[39m LoweringParameters()\n\u001B[0;32m--> 116\u001B[0m ctx \u001B[38;5;241m=\u001B[39m \u001B[43mModuleContext\u001B[49m\u001B[43m(\u001B[49m\n\u001B[1;32m    117\u001B[0m \u001B[43m    \u001B[49m\u001B[43mbackend_or_name\u001B[49m\u001B[38;5;241;43m=\u001B[39;49m\u001B[38;5;28;43;01mNone\u001B[39;49;00m\u001B[43m,\u001B[49m\n\u001B[1;32m    118\u001B[0m \u001B[43m    \u001B[49m\u001B[43mplatforms\u001B[49m\u001B[38;5;241;43m=\u001B[39;49m\u001B[43m[\u001B[49m\u001B[43mplatform\u001B[49m\u001B[43m]\u001B[49m\u001B[43m,\u001B[49m\n\u001B[1;32m    119\u001B[0m \u001B[43m    \u001B[49m\u001B[43maxis_context\u001B[49m\u001B[38;5;241;43m=\u001B[39;49m\u001B[43maxis_context\u001B[49m\u001B[43m,\u001B[49m\n\u001B[1;32m    120\u001B[0m \u001B[43m    \u001B[49m\u001B[43mname_stack\u001B[49m\u001B[38;5;241;43m=\u001B[39;49m\u001B[43mname_stack\u001B[49m\u001B[43m,\u001B[49m\n\u001B[1;32m    121\u001B[0m \u001B[43m    \u001B[49m\u001B[43mkeepalives\u001B[49m\u001B[38;5;241;43m=\u001B[39;49m\u001B[43mkeepalives\u001B[49m\u001B[43m,\u001B[49m\n\u001B[1;32m    122\u001B[0m \u001B[43m    \u001B[49m\u001B[43mchannel_iterator\u001B[49m\u001B[38;5;241;43m=\u001B[39;49m\u001B[43mchannel_iter\u001B[49m\u001B[43m,\u001B[49m\n\u001B[1;32m    123\u001B[0m \u001B[43m    \u001B[49m\u001B[43mhost_callbacks\u001B[49m\u001B[38;5;241;43m=\u001B[39;49m\u001B[43mhost_callbacks\u001B[49m\u001B[43m,\u001B[49m\n\u001B[1;32m    124\u001B[0m \u001B[43m    \u001B[49m\u001B[43mlowering_parameters\u001B[49m\u001B[38;5;241;43m=\u001B[39;49m\u001B[43mlowering_params\u001B[49m\u001B[43m,\u001B[49m\n\u001B[1;32m    125\u001B[0m \u001B[43m\u001B[49m\u001B[43m)\u001B[49m\n\u001B[1;32m    126\u001B[0m ctx\u001B[38;5;241m.\u001B[39mcontext\u001B[38;5;241m.\u001B[39mallow_unregistered_dialects \u001B[38;5;241m=\u001B[39m \u001B[38;5;28;01mTrue\u001B[39;00m\n\u001B[1;32m    127\u001B[0m \u001B[38;5;28;01mwith\u001B[39;00m ctx\u001B[38;5;241m.\u001B[39mcontext, ir\u001B[38;5;241m.\u001B[39mLocation\u001B[38;5;241m.\u001B[39munknown(ctx\u001B[38;5;241m.\u001B[39mcontext):\n\u001B[1;32m    128\u001B[0m     \u001B[38;5;66;03m# register_dialect()\u001B[39;00m\n\u001B[1;32m    129\u001B[0m     \u001B[38;5;66;03m# Remove module name characters that XLA would alter. This ensures that\u001B[39;00m\n\u001B[1;32m    130\u001B[0m     \u001B[38;5;66;03m# XLA computation preserves the module name.\u001B[39;00m\n",
      "\u001B[0;31mTypeError\u001B[0m: ModuleContext.__init__() got an unexpected keyword argument 'name_stack'"
     ]
    }
   ],
   "execution_count": 6
  },
  {
   "metadata": {
    "ExecuteTime": {
     "start_time": "2024-05-03T18:25:54.155980Z"
    }
   },
   "cell_type": "code",
   "source": [
    "%%timeit\n",
    "jax.vmap(vqa.expval(obs))(x[:1])"
   ],
   "id": "dac9ff28d5af8c26",
   "outputs": [],
   "execution_count": null
  },
  {
   "metadata": {
    "ExecuteTime": {
     "end_time": "2024-05-03T18:48:53.448763Z",
     "start_time": "2024-05-03T18:48:53.201025Z"
    }
   },
   "cell_type": "code",
   "source": [
    "%%time\n",
    "jax.vmap(vqa.expval(obs))(x[:1])"
   ],
   "id": "9a1c9b464bdd2688",
   "outputs": [
    {
     "ename": "NameError",
     "evalue": "name 'jax' is not defined",
     "output_type": "error",
     "traceback": [
      "\u001B[0;31m---------------------------------------------------------------------------\u001B[0m",
      "\u001B[0;31mNameError\u001B[0m                                 Traceback (most recent call last)",
      "File \u001B[0;32m<timed eval>:1\u001B[0m\n",
      "\u001B[0;31mNameError\u001B[0m: name 'jax' is not defined"
     ]
    }
   ],
   "execution_count": 1
  },
  {
   "metadata": {
    "ExecuteTime": {
     "end_time": "2024-05-03T18:48:53.480584Z",
     "start_time": "2024-05-03T18:48:53.451869Z"
    }
   },
   "cell_type": "code",
   "source": [
    "%%time\n",
    "jax.vmap(vqa.expval(obs))(x[:10])"
   ],
   "id": "20a26a3ff8f6d186",
   "outputs": [
    {
     "ename": "NameError",
     "evalue": "name 'jax' is not defined",
     "output_type": "error",
     "traceback": [
      "\u001B[0;31m---------------------------------------------------------------------------\u001B[0m",
      "\u001B[0;31mNameError\u001B[0m                                 Traceback (most recent call last)",
      "File \u001B[0;32m<timed eval>:1\u001B[0m\n",
      "\u001B[0;31mNameError\u001B[0m: name 'jax' is not defined"
     ]
    }
   ],
   "execution_count": 2
  },
  {
   "metadata": {},
   "cell_type": "markdown",
   "source": "# Exact min experiments",
   "id": "d2cccd0369a68403"
  },
  {
   "metadata": {
    "ExecuteTime": {
     "end_time": "2024-04-16T04:30:03.046760Z",
     "start_time": "2024-04-16T04:30:03.032301Z"
    }
   },
   "cell_type": "code",
   "source": [
    "exp= ExactMinExperiment.load('main')\n",
    "exp.results"
   ],
   "id": "95eb08ae95784370",
   "outputs": [
    {
     "data": {
      "text/plain": [
       "defaultdict(functools.partial(<class 'collections.defaultdict'>, functools.partial(<class 'collections.defaultdict'>, <class 'list'>)),\n",
       "            {2: defaultdict(functools.partial(<class 'collections.defaultdict'>, <class 'list'>),\n",
       "                         {100: defaultdict(list,\n",
       "                                      {'paulis': [['YY', 'ZZ', 'XX'],\n",
       "                                        ['ZX', 'YY'],\n",
       "                                        ['XY', 'ZZ'],\n",
       "                                        ['YY', 'XZ'],\n",
       "                                        ['XZ', 'YY'],\n",
       "                                        ['XY', 'ZX', 'YZ'],\n",
       "                                        ['ZY', 'XZ', 'YX'],\n",
       "                                        ['YY', 'XX', 'ZZ'],\n",
       "                                        ['ZZ', 'XY'],\n",
       "                                        ['ZY', 'XX']],\n",
       "                                       'rates': [0.3225806451612903,\n",
       "                                        0.3271889400921659,\n",
       "                                        0.34101382488479265,\n",
       "                                        0.31797235023041476,\n",
       "                                        0.31797235023041476,\n",
       "                                        0.3225806451612903,\n",
       "                                        0.3118279569892473,\n",
       "                                        0.3225806451612903,\n",
       "                                        0.3225806451612903,\n",
       "                                        0.3225806451612903]})}),\n",
       "             4: defaultdict(functools.partial(<class 'collections.defaultdict'>, <class 'list'>),\n",
       "                         {100: defaultdict(list,\n",
       "                                      {'paulis': [['IIZZ',\n",
       "                                         'IIXX',\n",
       "                                         'XYII',\n",
       "                                         'YXII',\n",
       "                                         'IIYY'],\n",
       "                                        ['YIIY', 'IXIY', 'IXYI', 'YIYI'],\n",
       "                                        ['YYII', 'YIXI', 'IIXY', 'IYIY'],\n",
       "                                        ['IXIX', 'IIYX', 'YXII', 'YIYI'],\n",
       "                                        ['IZIZ',\n",
       "                                         'XIYI',\n",
       "                                         'IXIY',\n",
       "                                         'ZIXI',\n",
       "                                         'YIZI'],\n",
       "                                        ['XIIY', 'XIXI', 'IYIY', 'IYXI'],\n",
       "                                        ['IZYI', 'ZIIX', 'XIIZ', 'IYZI'],\n",
       "                                        ['IXXI', 'IIXZ', 'YXII', 'YIIZ'],\n",
       "                                        ['YIIY', 'IYYI', 'IXZI', 'ZIIX'],\n",
       "                                        ['XYII', 'IYIY', 'IYXI']],\n",
       "                                       'rates': [0.07849462365591398,\n",
       "                                        0.15376344086021507,\n",
       "                                        0.14731182795698924,\n",
       "                                        0.14946236559139786,\n",
       "                                        0.07419354838709677,\n",
       "                                        0.14838709677419354,\n",
       "                                        0.09032258064516129,\n",
       "                                        0.14086021505376345,\n",
       "                                        0.0978494623655914,\n",
       "                                        0.15913978494623657]})}),\n",
       "             6: defaultdict(functools.partial(<class 'collections.defaultdict'>, <class 'list'>),\n",
       "                         {100: defaultdict(list,\n",
       "                                      {'paulis': [['IIIYZI',\n",
       "                                         'IIIIZY',\n",
       "                                         'IIXIIY',\n",
       "                                         'YYIIII',\n",
       "                                         'YIIYII',\n",
       "                                         'YIIIIY',\n",
       "                                         'IYIIZI',\n",
       "                                         'IIXYII',\n",
       "                                         'IYXIII'],\n",
       "                                        ['IIIIZX',\n",
       "                                         'YIIZII',\n",
       "                                         'IIYZII',\n",
       "                                         'YXIIII',\n",
       "                                         'IIYIIX',\n",
       "                                         'IXYIII',\n",
       "                                         'YIIIIX',\n",
       "                                         'IXIIZI',\n",
       "                                         'IIIZZI'],\n",
       "                                        ['IIIXIZ',\n",
       "                                         'ZIZIII',\n",
       "                                         'IZIIZI',\n",
       "                                         'XIXIII',\n",
       "                                         'YIYIII',\n",
       "                                         'IYIIYI',\n",
       "                                         'IIIZIX',\n",
       "                                         'IXIIXI'],\n",
       "                                        ['IIIXYI',\n",
       "                                         'IZIIIZ',\n",
       "                                         'IIIYZI',\n",
       "                                         'IZYIII',\n",
       "                                         'IIIZXI',\n",
       "                                         'YZIIII'],\n",
       "                                        ['ZIIIXI',\n",
       "                                         'IIIXIY',\n",
       "                                         'ZIIXII',\n",
       "                                         'IYYIII',\n",
       "                                         'IZZIII',\n",
       "                                         'IXXIII',\n",
       "                                         'IIIIXY'],\n",
       "                                        ['IIZIIY',\n",
       "                                         'IIIYZI',\n",
       "                                         'IIYIIZ',\n",
       "                                         'IYIIZI',\n",
       "                                         'ZIIYII',\n",
       "                                         'ZYIIII'],\n",
       "                                        ['IIZIXI',\n",
       "                                         'YXIIII',\n",
       "                                         'IIZIIY',\n",
       "                                         'IIIYXI',\n",
       "                                         'IIIYIY',\n",
       "                                         'YIIIXI',\n",
       "                                         'IXZIII',\n",
       "                                         'IXIYII',\n",
       "                                         'YIIIIY'],\n",
       "                                        ['IIZZII',\n",
       "                                         'ZYIIII',\n",
       "                                         'ZIZIII',\n",
       "                                         'IIZIIZ',\n",
       "                                         'ZIIIXI',\n",
       "                                         'IYIZII',\n",
       "                                         'IYIIIZ',\n",
       "                                         'IIIIXZ',\n",
       "                                         'IIIZXI'],\n",
       "                                        ['YIIIIY',\n",
       "                                         'IIIIYY',\n",
       "                                         'IXIXII',\n",
       "                                         'YIXIII',\n",
       "                                         'IIXXII',\n",
       "                                         'IIXIYI',\n",
       "                                         'IXIIYI',\n",
       "                                         'IIIXIY',\n",
       "                                         'YXIIII'],\n",
       "                                        ['IIIIZX',\n",
       "                                         'IXIIZI',\n",
       "                                         'ZXIIII',\n",
       "                                         'IIZZII',\n",
       "                                         'IXZIII',\n",
       "                                         'IIIZZI',\n",
       "                                         'ZIIZII',\n",
       "                                         'IIZIIX',\n",
       "                                         'ZIIIIX']],\n",
       "                                       'rates': [0.035483870967741936,\n",
       "                                        0.034408602150537634,\n",
       "                                        0.008602150537634409,\n",
       "                                        0.035483870967741936,\n",
       "                                        0.03870967741935484,\n",
       "                                        0.03333333333333333,\n",
       "                                        0.04516129032258064,\n",
       "                                        0.07634408602150537,\n",
       "                                        0.02043010752688172,\n",
       "                                        0.08494623655913978]})}),\n",
       "             8: defaultdict(functools.partial(<class 'collections.defaultdict'>, <class 'list'>),\n",
       "                         {100: defaultdict(list,\n",
       "                                      {'paulis': [['IIIIIYIZ',\n",
       "                                         'IIIIYIZI',\n",
       "                                         'IIZIIIZI',\n",
       "                                         'IYIIIIIZ',\n",
       "                                         'XIIIIIIZ',\n",
       "                                         'IIIZYIII',\n",
       "                                         'IYIIIIZI',\n",
       "                                         'IIIIIYZI',\n",
       "                                         'IIIIYIIZ',\n",
       "                                         'IIZIIIIZ',\n",
       "                                         'IIZZIIII',\n",
       "                                         'IIIZIYII',\n",
       "                                         'IYIZIIII',\n",
       "                                         'XIIIIIZI',\n",
       "                                         'XIIZIIII'],\n",
       "                                        ['IIIIYIIY',\n",
       "                                         'YIIIYIII',\n",
       "                                         'IIZIIIYI',\n",
       "                                         'IXIIIIYI',\n",
       "                                         'IIIIIXYI',\n",
       "                                         'IIZIYIII',\n",
       "                                         'IIIIIIYY',\n",
       "                                         'YIIIIIYI',\n",
       "                                         'IIIZIIYI',\n",
       "                                         'IXIIYIII',\n",
       "                                         'IIIIYXII',\n",
       "                                         'IIIZYIII'],\n",
       "                                        ['IIXIIIZI',\n",
       "                                         'IIIZZIII',\n",
       "                                         'YIIIIIIY',\n",
       "                                         'IZIIIIZI',\n",
       "                                         'IIIIZIZI',\n",
       "                                         'YIIIIXII',\n",
       "                                         'IIXIIIIY',\n",
       "                                         'IZIZIIII',\n",
       "                                         'IIXZIIII',\n",
       "                                         'IIXIIXII',\n",
       "                                         'YIIIIIZI',\n",
       "                                         'IZIIIXII',\n",
       "                                         'YIIZIIII',\n",
       "                                         'IZIIIIIY',\n",
       "                                         'IIIIZIIY',\n",
       "                                         'IIIIZXII'],\n",
       "                                        ['XIYIIIII',\n",
       "                                         'IIIIXIIY',\n",
       "                                         'IIIZXIII',\n",
       "                                         'XXIIIIII',\n",
       "                                         'IIYIIXII',\n",
       "                                         'IIIZIIZI',\n",
       "                                         'IIYIIIZI',\n",
       "                                         'IIIZIXII',\n",
       "                                         'IXIIIIZI',\n",
       "                                         'XIIZIIII',\n",
       "                                         'IIIIIXIY',\n",
       "                                         'IIYIXIII',\n",
       "                                         'IXIIXIII',\n",
       "                                         'IIIIIIZY',\n",
       "                                         'IXIIIXII',\n",
       "                                         'XIIIIIIY'],\n",
       "                                        ['XYIIIIII',\n",
       "                                         'XIIIXIII',\n",
       "                                         'IIIIIYZI',\n",
       "                                         'IYIZIIII',\n",
       "                                         'IIYZIIII',\n",
       "                                         'IIIIXIIZ',\n",
       "                                         'IIYIIYII',\n",
       "                                         'IIIZXIII',\n",
       "                                         'IIYIIIIZ',\n",
       "                                         'IIIZIIZI',\n",
       "                                         'IYIIIYII',\n",
       "                                         'IIIIXYII',\n",
       "                                         'XIYIIIII',\n",
       "                                         'XIIIIIZI',\n",
       "                                         'IIIIIIZZ',\n",
       "                                         'IYIIIIIZ'],\n",
       "                                        ['IIIIIIXX',\n",
       "                                         'IXIIZIII',\n",
       "                                         'XIIIIIXI',\n",
       "                                         'XIIZIIII',\n",
       "                                         'IIIZIIIX',\n",
       "                                         'IXYIIIII',\n",
       "                                         'IIYIIZII',\n",
       "                                         'XIIIZIII',\n",
       "                                         'IIIZIZII',\n",
       "                                         'IIIIZIIX',\n",
       "                                         'XIYIIIII',\n",
       "                                         'IXIIIIXI',\n",
       "                                         'IIIIZZII',\n",
       "                                         'IIYIIIIX',\n",
       "                                         'IXIZIIII',\n",
       "                                         'IIIIIZXI']],\n",
       "                                       'rates': [0.04838709677419355,\n",
       "                                        0.04838709677419355,\n",
       "                                        0.024731182795698924,\n",
       "                                        0.024731182795698924,\n",
       "                                        0.021505376344086023,\n",
       "                                        0.025806451612903226]})})})"
      ]
     },
     "execution_count": 2,
     "metadata": {},
     "output_type": "execute_result"
    }
   ],
   "execution_count": 2
  },
  {
   "metadata": {
    "ExecuteTime": {
     "end_time": "2024-04-15T14:10:08.192587Z",
     "start_time": "2024-04-15T14:10:07.972860Z"
    }
   },
   "cell_type": "code",
   "source": [
    "exp_exact = ExactMinExperiment.load('new_test')\n",
    "exp_exact.results[8][400]"
   ],
   "id": "252254e42c0aac13",
   "outputs": [
    {
     "data": {
      "text/plain": [
       "defaultdict(list,\n",
       "            {'paulis': [['IXIIIIIY',\n",
       "               'IIIIIZIY',\n",
       "               'IXIXIIII',\n",
       "               'XIZIIIII',\n",
       "               'IIZIIZII',\n",
       "               'IIIXIZII',\n",
       "               'IIIIIZXI',\n",
       "               'IXZIIIII',\n",
       "               'XIIIIIIY',\n",
       "               'XIIIZIII',\n",
       "               'IXIIZIII',\n",
       "               'IXIIIIXI',\n",
       "               'XIIXIIII',\n",
       "               'XIIIIIXI',\n",
       "               'IIIIZZII'],\n",
       "              ['XIIIIYII',\n",
       "               'IIIIIIYX',\n",
       "               'XIIXIIII',\n",
       "               'IIIIIIXZ',\n",
       "               'IZIIXIII',\n",
       "               'IIXIXIII',\n",
       "               'IIIIIIZY',\n",
       "               'IZIXIIII',\n",
       "               'IIXXIIII',\n",
       "               'IZIIIYII',\n",
       "               'IIXIIYII',\n",
       "               'XIIIXIII'],\n",
       "              [],\n",
       "              ['XXIIIIII',\n",
       "               'IIIIXXII',\n",
       "               'IIIIXIYI',\n",
       "               'IIIYIIYI',\n",
       "               'IIIIXIIY',\n",
       "               'IIIYIIIY',\n",
       "               'ZYIIIIII',\n",
       "               'IIIYIXII',\n",
       "               'IIZIIIIY',\n",
       "               'IIZIIIYI',\n",
       "               'IIZIIXII']],\n",
       "             'rates': [0.03225806451612903,\n",
       "              0.0064516129032258064,\n",
       "              1.0,\n",
       "              0.043010752688172046]})"
      ]
     },
     "execution_count": 22,
     "metadata": {},
     "output_type": "execute_result"
    }
   ],
   "execution_count": 22
  },
  {
   "metadata": {
    "ExecuteTime": {
     "start_time": "2024-04-13T17:27:55.876623Z"
    }
   },
   "cell_type": "code",
   "source": [
    "qubits = (10,)\n",
    "layers = (60, )\n",
    "\n",
    "num_samples_per_circuit = 10\n",
    "num_test_clifford_points = 10\n",
    "num_test_uniform_points = 10\n",
    "max_grads = 20\n",
    "max_obs = 20\n",
    "\n",
    "exp_exact.run(\n",
    "    qubits, \n",
    "    layers, \n",
    "    num_samples_per_circuit, \n",
    "    num_test_clifford_points, \n",
    "    num_test_uniform_points,\n",
    "    max_grads,\n",
    "    max_obs,\n",
    "    seed=42)"
   ],
   "id": "a8e345a2012fd7af",
   "outputs": [
    {
     "name": "stdout",
     "output_type": "stream",
     "text": [
      "\n",
      " Starting, muhaha!\n"
     ]
    },
    {
     "data": {
      "text/plain": [
       "  0%|          | 0/1 [00:00<?, ?it/s]"
      ],
      "application/vnd.jupyter.widget-view+json": {
       "version_major": 2,
       "version_minor": 0,
       "model_id": "f391b76df5714facbe5534136e56304e"
      }
     },
     "metadata": {},
     "output_type": "display_data"
    },
    {
     "data": {
      "text/plain": [
       "  0%|          | 0/1 [00:00<?, ?it/s]"
      ],
      "application/vnd.jupyter.widget-view+json": {
       "version_major": 2,
       "version_minor": 0,
       "model_id": "f740215c924f4a2ea63531c3d7d7fee2"
      }
     },
     "metadata": {},
     "output_type": "display_data"
    },
    {
     "data": {
      "text/plain": [
       "  0%|          | 0/10 [00:00<?, ?it/s]"
      ],
      "application/vnd.jupyter.widget-view+json": {
       "version_major": 2,
       "version_minor": 0,
       "model_id": "cd0b3b0c098e4e87a16fb0f025158428"
      }
     },
     "metadata": {},
     "output_type": "display_data"
    },
    {
     "name": "stdout",
     "output_type": "stream",
     "text": [
      "\n",
      " I\"m gonna _RUN this!\n",
      "\n",
      " Looking for exact minimum\n"
     ]
    }
   ],
   "execution_count": null
  },
  {
   "metadata": {
    "ExecuteTime": {
     "end_time": "2024-04-13T17:24:56.738333Z",
     "start_time": "2024-04-13T17:24:56.717945Z"
    }
   },
   "cell_type": "code",
   "source": "exp_exact.results",
   "id": "a4a51cf7590e3777",
   "outputs": [
    {
     "data": {
      "text/plain": [
       "defaultdict(functools.partial(<class 'collections.defaultdict'>, functools.partial(<class 'collections.defaultdict'>, <class 'list'>)),\n",
       "            {4: defaultdict(functools.partial(<class 'collections.defaultdict'>, <class 'list'>),\n",
       "                         {10: defaultdict(list,\n",
       "                                      {'paulis': [['IZZI',\n",
       "                                         'YIZI',\n",
       "                                         'IZIY',\n",
       "                                         'YIIY'],\n",
       "                                        ['IYZI',\n",
       "                                         'XIIZ',\n",
       "                                         'YIIY',\n",
       "                                         'IXYI',\n",
       "                                         'IZXI'],\n",
       "                                        ['IYIY', 'ZIXI', 'ZIIY', 'IYXI'],\n",
       "                                        ['XIIX', 'XIZI', 'IZIX', 'IZZI'],\n",
       "                                        ['IIYZ', 'ZXII', 'IXYI', 'ZIIZ'],\n",
       "                                        ['XXII', 'XIZI', 'XIIZ'],\n",
       "                                        ['IIZX', 'IXZI', 'XIZI'],\n",
       "                                        ['IIZY', 'ZIZI', 'IZIY', 'ZZII']],\n",
       "                                       'rates': [0.1295774647887324,\n",
       "                                        0.06917572223694672,\n",
       "                                        0.14144927536231883,\n",
       "                                        0.14363636363636365,\n",
       "                                        0.1376271186440678,\n",
       "                                        0.14660633484162897,\n",
       "                                        0.14978213507625274,\n",
       "                                        0.1490625]}),\n",
       "                          20: defaultdict(list,\n",
       "                                      {'paulis': [['XIZI', 'IIZY', 'IYZI'],\n",
       "                                        ['IIYX', 'ZIIX', 'ZYII', 'IYYI'],\n",
       "                                        ['ZYII', 'IIZY', 'YZII', 'IIXX'],\n",
       "                                        ['IYZI',\n",
       "                                         'YIIY',\n",
       "                                         'IXXI',\n",
       "                                         'ZIIZ',\n",
       "                                         'XIIX']],\n",
       "                                       'rates': [0.1541448262473306,\n",
       "                                        0.14495049504950494,\n",
       "                                        0.05485148514851485,\n",
       "                                        0.07233784602950091]}),\n",
       "                          30: defaultdict(list,\n",
       "                                      {'paulis': [['IIYZ',\n",
       "                                         'ZZII',\n",
       "                                         'IZYI',\n",
       "                                         'ZIIZ'],\n",
       "                                        ['ZXII',\n",
       "                                         'XYII',\n",
       "                                         'YZII',\n",
       "                                         'IIYZ',\n",
       "                                         'IIXY',\n",
       "                                         'IIZX'],\n",
       "                                        ['ZIXI', 'IZXI', 'ZIIY', 'IZIY'],\n",
       "                                        ['XIYI', 'XXII', 'XIIX']],\n",
       "                                       'rates': [0.14613861386138613,\n",
       "                                        0.052805280528052806,\n",
       "                                        0.14693069306930692,\n",
       "                                        0.14929139972820812]}),\n",
       "                          40: defaultdict(list,\n",
       "                                      {'paulis': [['IYZI',\n",
       "                                         'ZIIX',\n",
       "                                         'IIZX',\n",
       "                                         'ZYII'],\n",
       "                                        ['IIYZ',\n",
       "                                         'ZXII',\n",
       "                                         'YZII',\n",
       "                                         'XYII',\n",
       "                                         'IIXY',\n",
       "                                         'IIZX'],\n",
       "                                        ['ZXII', 'YYII', 'IIXZ', 'IIYY'],\n",
       "                                        ['IYIZ', 'YIYI', 'IIYZ', 'YYII']],\n",
       "                                       'rates': [0.1483168316831683,\n",
       "                                        0.05734323432343234,\n",
       "                                        0.06772277227722773,\n",
       "                                        0.14316831683168316]})}),\n",
       "             6: defaultdict(functools.partial(<class 'collections.defaultdict'>, <class 'list'>),\n",
       "                         {10: defaultdict(list,\n",
       "                                      {'paulis': [['ZIIZII',\n",
       "                                         'IXZIII',\n",
       "                                         'ZIIIIX',\n",
       "                                         'IIIIZX',\n",
       "                                         'IIIZZI',\n",
       "                                         'IYXIII',\n",
       "                                         'IZYIII'],\n",
       "                                        ['IIYZII',\n",
       "                                         'IZIIIX',\n",
       "                                         'IIIIXX',\n",
       "                                         'IIIZXI',\n",
       "                                         'XIIZII',\n",
       "                                         'IZIZII',\n",
       "                                         'XIIIIX',\n",
       "                                         'IIYIIX'],\n",
       "                                        ['IIXIZI',\n",
       "                                         'XIXIII',\n",
       "                                         'IIXXII',\n",
       "                                         'IXIIIY',\n",
       "                                         'XIIIIY',\n",
       "                                         'IXXIII',\n",
       "                                         'IIIXIY',\n",
       "                                         'IIIIZY'],\n",
       "                                        ['IIIYZI',\n",
       "                                         'ZIIIIX',\n",
       "                                         'ZYIIII',\n",
       "                                         'IIXYII']],\n",
       "                                       'rates': [0.03058823529411765,\n",
       "                                        0.05803921568627451,\n",
       "                                        0.06196078431372549,\n",
       "                                        0.054901960784313725]}),\n",
       "                          50: defaultdict(list,\n",
       "                                      {'paulis': [['ZIIIIY',\n",
       "                                         'IIIYYI',\n",
       "                                         'IIIZXI',\n",
       "                                         'ZYIIII',\n",
       "                                         'ZIYIII'],\n",
       "                                        ['ZIIIIX',\n",
       "                                         'IZIIIX',\n",
       "                                         'ZIIYII',\n",
       "                                         'IIXIZI',\n",
       "                                         'IIYIXI',\n",
       "                                         'IZIYII',\n",
       "                                         'IIZIYI'],\n",
       "                                        ['IIIYYI',\n",
       "                                         'YIYIII',\n",
       "                                         'YIIIIX',\n",
       "                                         'IYIIYI',\n",
       "                                         'IIYIYI',\n",
       "                                         'YYIIII',\n",
       "                                         'YIIYII',\n",
       "                                         'IIIIYX'],\n",
       "                                        ['XIXIII',\n",
       "                                         'IYIIXI',\n",
       "                                         'IIXIIX',\n",
       "                                         'XIIIXI',\n",
       "                                         'IIXXII',\n",
       "                                         'IYXIII',\n",
       "                                         'IIIIXX',\n",
       "                                         'IIIXXI']],\n",
       "                                       'rates': [0.04588235294117647,\n",
       "                                        0.04196078431372549,\n",
       "                                        0.06196078431372549,\n",
       "                                        0.06588235294117648]}),\n",
       "                          60: defaultdict(list,\n",
       "                                      {'paulis': [['IIXXII',\n",
       "                                         'IXIIIX',\n",
       "                                         'IIIIXX',\n",
       "                                         'YIXIII',\n",
       "                                         'YIIIXI',\n",
       "                                         'IXIXII',\n",
       "                                         'IIIXXI',\n",
       "                                         'IIXIIX',\n",
       "                                         'YXIIII'],\n",
       "                                        ['IIYIYI',\n",
       "                                         'IIZIXI',\n",
       "                                         'IIIYIZ',\n",
       "                                         'IZIYII',\n",
       "                                         'XZIIII',\n",
       "                                         'XIIIIZ'],\n",
       "                                        ['IXZIII',\n",
       "                                         'IZXIII',\n",
       "                                         'IIIIYZ',\n",
       "                                         'YIIIYI',\n",
       "                                         'IIIYIZ',\n",
       "                                         'YIIYII'],\n",
       "                                        ['XIZIII',\n",
       "                                         'IXIXII',\n",
       "                                         'XIIIIX',\n",
       "                                         'IIIIZX',\n",
       "                                         'IIZIZI',\n",
       "                                         'IZIYII'],\n",
       "                                        ['IIXIYI',\n",
       "                                         'IIZIZI',\n",
       "                                         'ZIIIIZ',\n",
       "                                         'IZIYII',\n",
       "                                         'ZIIYII',\n",
       "                                         'IZIIIZ'],\n",
       "                                        ['XIIIIZ',\n",
       "                                         'IIXIXI',\n",
       "                                         'ZIIIIX',\n",
       "                                         'IIIZXI',\n",
       "                                         'IZIZII',\n",
       "                                         'IZXIII'],\n",
       "                                        ['IZZIII',\n",
       "                                         'IIIIXZ',\n",
       "                                         'IZIXII',\n",
       "                                         'IIIXXI',\n",
       "                                         'IZIIIZ',\n",
       "                                         'IIZIXI',\n",
       "                                         'YIIIIZ',\n",
       "                                         'YIIXII',\n",
       "                                         'YIZIII'],\n",
       "                                        ['XIIXII',\n",
       "                                         'IIIIZY',\n",
       "                                         'XIXIII',\n",
       "                                         'IXIIIY',\n",
       "                                         'XIIIIY',\n",
       "                                         'IXIXII',\n",
       "                                         'IIIXZI',\n",
       "                                         'IIXIZI',\n",
       "                                         'IXXIII'],\n",
       "                                        ['IIZIIX',\n",
       "                                         'IIZXII',\n",
       "                                         'IXZIII',\n",
       "                                         'IXIIXI',\n",
       "                                         'IIIXXI',\n",
       "                                         'IIIIXX',\n",
       "                                         'YIIIXI',\n",
       "                                         'YIZIII'],\n",
       "                                        ['IIIYXI',\n",
       "                                         'XIIYII',\n",
       "                                         'IIXIXI',\n",
       "                                         'IZIIIZ',\n",
       "                                         'XIXIII',\n",
       "                                         'IZIYII',\n",
       "                                         'IIIIXZ',\n",
       "                                         'XIIIIZ',\n",
       "                                         'IZXIII']],\n",
       "                                       'rates': [0.0761904761904762,\n",
       "                                        0.0380952380952381,\n",
       "                                        0.02142857142857143,\n",
       "                                        0.04285714285714286,\n",
       "                                        0.04523809523809524,\n",
       "                                        0.04047619047619048,\n",
       "                                        0.0880952380952381,\n",
       "                                        0.05714285714285714,\n",
       "                                        0.03571428571428571,\n",
       "                                        0.03571428571428571]})}),\n",
       "             8: defaultdict(functools.partial(<class 'collections.defaultdict'>, <class 'list'>),\n",
       "                         {50: defaultdict(list,\n",
       "                                      {'paulis': [['IYIXIIII',\n",
       "                                         'IIIXIIXI',\n",
       "                                         'IIIIXIXI',\n",
       "                                         'IYIIXIII',\n",
       "                                         'IYIIIYII',\n",
       "                                         'IIYXIIII',\n",
       "                                         'IIIXIIIZ',\n",
       "                                         'IIIIXIIZ',\n",
       "                                         'YIYIIIII',\n",
       "                                         'IIYIXIII',\n",
       "                                         'IIIIIYXI',\n",
       "                                         'IIYIIYII',\n",
       "                                         'YIIIIIIZ',\n",
       "                                         'IIIIIYIZ',\n",
       "                                         'YIIIIIXI',\n",
       "                                         'YYIIIIII'],\n",
       "                                        ['IYXIIIII',\n",
       "                                         'IIIXIXII',\n",
       "                                         'IIIIYIIZ',\n",
       "                                         'IIIZIZII',\n",
       "                                         'IIIIYIYI',\n",
       "                                         'IYIIYIII',\n",
       "                                         'IIXIIIIZ',\n",
       "                                         'YIXIIIII',\n",
       "                                         'IIIYIYII',\n",
       "                                         'YIIIYIII',\n",
       "                                         'IIXIIIYI'],\n",
       "                                        ['IIIXXIII',\n",
       "                                         'IZIIIIZI',\n",
       "                                         'ZIXIIIII',\n",
       "                                         'IIIZYIII',\n",
       "                                         'IIIIIZIX',\n",
       "                                         'IIIIIXIY',\n",
       "                                         'IIIIIYIZ',\n",
       "                                         'YIYIIIII',\n",
       "                                         'IYIIIIYI',\n",
       "                                         'IXIIIIXI'],\n",
       "                                        ['IIIIXIIY',\n",
       "                                         'IXIIIIYI',\n",
       "                                         'IXIIIYII',\n",
       "                                         'IIZZIIII',\n",
       "                                         'IXIIXIII',\n",
       "                                         'IIXXIIII',\n",
       "                                         'XIIIIIYI',\n",
       "                                         'IIYYIIII',\n",
       "                                         'IIIIIYIY',\n",
       "                                         'XIIIXIII',\n",
       "                                         'XIIIIYII',\n",
       "                                         'IIIIIIYY']],\n",
       "                                       'rates': [0.002380952380952381,\n",
       "                                        0.02857142857142857,\n",
       "                                        0.004761904761904762,\n",
       "                                        0.007142857142857143]})})})"
      ]
     },
     "execution_count": 8,
     "metadata": {},
     "output_type": "execute_result"
    }
   ],
   "execution_count": 8
  },
  {
   "metadata": {},
   "cell_type": "markdown",
   "source": "# BP experiments",
   "id": "b875f19e16f5ddfa"
  },
  {
   "metadata": {
    "ExecuteTime": {
     "end_time": "2024-04-09T12:40:18.287155Z",
     "start_time": "2024-04-09T12:40:17.607509Z"
    }
   },
   "cell_type": "code",
   "source": [
    "exp1 = BPExperiment.load('test1')\n",
    "\n",
    "# qubits = range(2, 8+1, 2)\n",
    "# layers = range(10, 50+1, 10)\n",
    "# num_samples = 100\n",
    "\n",
    "exp1.plot_results()\n"
   ],
   "id": "f391e2fe4255f973",
   "outputs": [
    {
     "data": {
      "text/plain": [
       "<Figure size 640x480 with 1 Axes>"
      ],
      "image/png": "[encoded data removed]"
     },
     "metadata": {},
     "output_type": "display_data"
    }
   ],
   "execution_count": 6
  },
  {
   "cell_type": "markdown",
   "source": [
    "# Exact minimums"
   ],
   "metadata": {
    "collapsed": false
   },
   "id": "37f6a941bd2e1447"
  },
  {
   "metadata": {
    "ExecuteTime": {
     "end_time": "2024-04-09T19:57:09.156526Z",
     "start_time": "2024-04-09T19:57:08.385820Z"
    }
   },
   "cell_type": "code",
   "source": "'10'",
   "id": "603e483e77f2c81a",
   "outputs": [
    {
     "ename": "TypeError",
     "evalue": "sequence item 0: expected str instance, int found",
     "output_type": "error",
     "traceback": [
      "\u001B[0;31m---------------------------------------------------------------------------\u001B[0m",
      "\u001B[0;31mTypeError\u001B[0m                                 Traceback (most recent call last)",
      "Cell \u001B[0;32mIn[13], line 1\u001B[0m\n\u001B[0;32m----> 1\u001B[0m \u001B[38;5;124m'\u001B[39m\u001B[38;5;124m10\u001B[39m\u001B[38;5;124m'\u001B[39m \u001B[38;5;241m+\u001B[39m \u001B[38;5;124;43m'\u001B[39;49m\u001B[38;5;124;43m'\u001B[39;49m\u001B[38;5;241;43m.\u001B[39;49m\u001B[43mjoin\u001B[49m\u001B[43m(\u001B[49m\u001B[43m[\u001B[49m\u001B[38;5;241;43m1\u001B[39;49m\u001B[43m,\u001B[49m\u001B[43m \u001B[49m\u001B[38;5;241;43m0\u001B[39;49m\u001B[43m,\u001B[49m\u001B[43m \u001B[49m\u001B[38;5;241;43m1\u001B[39;49m\u001B[43m]\u001B[49m\u001B[43m)\u001B[49m\n",
      "\u001B[0;31mTypeError\u001B[0m: sequence item 0: expected str instance, int found"
     ]
    }
   ],
   "execution_count": 13
  },
  {
   "metadata": {
    "ExecuteTime": {
     "end_time": "2024-04-09T13:56:35.202396Z",
     "start_time": "2024-04-09T13:56:35.195611Z"
    }
   },
   "cell_type": "code",
   "source": [
    "a1 = list(range(10))\n",
    "a2 = a1\n",
    "\n",
    "a1, a2"
   ],
   "id": "37d1150a5f81938a",
   "outputs": [
    {
     "data": {
      "text/plain": [
       "([0, 1, 2, 3, 4, 5, 6, 7, 8, 9], [0, 1, 2, 3, 4, 5, 6, 7, 8, 9])"
      ]
     },
     "execution_count": 7,
     "metadata": {},
     "output_type": "execute_result"
    }
   ],
   "execution_count": 7
  },
  {
   "metadata": {
    "ExecuteTime": {
     "end_time": "2024-04-09T19:44:55.531526Z",
     "start_time": "2024-04-09T19:44:55.525284Z"
    }
   },
   "cell_type": "code",
   "source": [
    "def print_k(k):\n",
    "    for k in range(10):\n",
    "        k\n",
    "    \n",
    "    return k"
   ],
   "id": "8e52f9697e91e108",
   "outputs": [],
   "execution_count": 9
  },
  {
   "metadata": {
    "ExecuteTime": {
     "end_time": "2024-04-09T13:57:12.560455Z",
     "start_time": "2024-04-09T13:57:12.530739Z"
    }
   },
   "cell_type": "code",
   "source": [
    "a2 = list(set(a2) - {1, 2, 3, 15})\n",
    "a1, a2"
   ],
   "id": "67b956354892353e",
   "outputs": [
    {
     "data": {
      "text/plain": [
       "([0, 1, 2, 3, 4, 5, 6, 7, 8, 9], [0, 4, 5, 6, 7, 8, 9])"
      ]
     },
     "execution_count": 8,
     "metadata": {},
     "output_type": "execute_result"
    }
   ],
   "execution_count": 8
  },
  {
   "cell_type": "code",
   "source": [
    "num_qubits = 10\n",
    "num_layers = 10\n",
    "vqa = LocalVQA(num_qubits, num_layers)\n",
    "rng = np.random.default_rng(42)\n",
    "\n",
    "x = np.zeros(vqa.num_parameters)\n",
    "i_fixed = np.array([], dtype=int)\n",
    "paulis = all_two_body_pauli(num_qubits)\n",
    "\n",
    "nonzero_paulis = []\n",
    "while True:\n",
    "    iteration_successful, pauli, x = find_nonzero_pauli(vqa, paulis, x, i_fixed, rng, num_samples=100)\n",
    "    \n",
    "    if not iteration_successful:\n",
    "        break\n",
    "\n",
    "    new_fixed = find_indices_of_fixed_angles(vqa, pauli, x)\n",
    "    i_fixed = np.unique(np.concatenate([i_fixed, new_fixed]))\n",
    "\n",
    "    paulis.remove(pauli)\n",
    "    nonzero_paulis.append(pauli)\n",
    "    \n",
    "    print(nonzero_paulis, len(i_fixed), vqa.num_parameters)"
   ],
   "metadata": {
    "collapsed": false,
    "is_executing": true,
    "ExecuteTime": {
     "end_time": "2024-04-08T11:01:34.335782Z",
     "start_time": "2024-04-08T11:01:34.273925Z"
    }
   },
   "id": "61625e538f6e5106",
   "outputs": [
    {
     "ename": "NameError",
     "evalue": "name 'LocalVQA' is not defined",
     "output_type": "error",
     "traceback": [
      "\u001B[0;31m---------------------------------------------------------------------------\u001B[0m",
      "\u001B[0;31mNameError\u001B[0m                                 Traceback (most recent call last)",
      "Cell \u001B[0;32mIn[2], line 3\u001B[0m\n\u001B[1;32m      1\u001B[0m num_qubits \u001B[38;5;241m=\u001B[39m \u001B[38;5;241m10\u001B[39m\n\u001B[1;32m      2\u001B[0m num_layers \u001B[38;5;241m=\u001B[39m \u001B[38;5;241m10\u001B[39m\n\u001B[0;32m----> 3\u001B[0m vqa \u001B[38;5;241m=\u001B[39m \u001B[43mLocalVQA\u001B[49m(num_qubits, num_layers)\n\u001B[1;32m      4\u001B[0m rng \u001B[38;5;241m=\u001B[39m np\u001B[38;5;241m.\u001B[39mrandom\u001B[38;5;241m.\u001B[39mdefault_rng(\u001B[38;5;241m42\u001B[39m)\n\u001B[1;32m      6\u001B[0m x \u001B[38;5;241m=\u001B[39m np\u001B[38;5;241m.\u001B[39mzeros(vqa\u001B[38;5;241m.\u001B[39mnum_parameters)\n",
      "\u001B[0;31mNameError\u001B[0m: name 'LocalVQA' is not defined"
     ]
    }
   ],
   "execution_count": 2
  },
  {
   "metadata": {
    "ExecuteTime": {
     "end_time": "2024-04-11T11:50:12.763848Z",
     "start_time": "2024-04-11T11:50:12.718046Z"
    }
   },
   "cell_type": "code",
   "source": [
    "vqa= LocalVQA(2, 0)\n",
    "paulis = ['II', 'ZZ']\n",
    "\n",
    "print(vqa.qiskit_circuit.draw())\n",
    "print(vqa._flat_params)"
   ],
   "id": "d6e677441b28eda2",
   "outputs": [
    {
     "name": "stdout",
     "output_type": "stream",
     "text": [
      "     ┌────────┐┌────────┐\n",
      "q_0: ┤ Rx(x0) ├┤ Rz(z0) ├\n",
      "     ├────────┤├────────┤\n",
      "q_1: ┤ Rx(x1) ├┤ Rz(z1) ├\n",
      "     └────────┘└────────┘\n",
      "[Parameter(x0), Parameter(x1), Parameter(z0), Parameter(z1)]\n"
     ]
    }
   ],
   "execution_count": 30
  },
  {
   "metadata": {
    "ExecuteTime": {
     "end_time": "2024-04-11T11:42:44.177021Z",
     "start_time": "2024-04-11T11:42:44.164812Z"
    }
   },
   "cell_type": "code",
   "source": "np.vstack([vec, m])",
   "id": "3cd41fda02fc22dd",
   "outputs": [
    {
     "data": {
      "text/plain": [
       "array([[0.        , 1.        , 2.        , 4.        ],\n",
       "       [0.15184883, 0.54025631, 0.85841882, 0.71945407],\n",
       "       [0.54526043, 0.18605528, 0.28902469, 0.05481335],\n",
       "       [0.54907367, 0.59640534, 0.95748073, 0.11858887]])"
      ]
     },
     "execution_count": 25,
     "metadata": {},
     "output_type": "execute_result"
    }
   ],
   "execution_count": 25
  },
  {
   "cell_type": "code",
   "source": [
    "y = vqa.random_parameters(num_samples=131, rng=131)\n",
    "y[:, i_fixed] = x[i_fixed]\n",
    "values = vqa.expval_vmap(paulis, y)"
   ],
   "metadata": {
    "collapsed": false
   },
   "id": "bea0feb214998ddd",
   "outputs": [],
   "execution_count": null
  },
  {
   "cell_type": "code",
   "source": [
    "paulis_fixed = []\n",
    "for i in range(len(paulis)):\n",
    "    if not np.allclose(values[:, i], 0) and np.allclose(values[:, i], 1):\n",
    "        paulis_fixed.append(paulis[i])"
   ],
   "metadata": {
    "collapsed": false,
    "ExecuteTime": {
     "end_time": "2024-04-08T11:01:34.505092Z",
     "start_time": "2024-04-08T11:01:34.451114Z"
    }
   },
   "id": "6223979165d9bb33",
   "outputs": [
    {
     "ename": "NameError",
     "evalue": "name 'paulis' is not defined",
     "output_type": "error",
     "traceback": [
      "\u001B[0;31m---------------------------------------------------------------------------\u001B[0m",
      "\u001B[0;31mNameError\u001B[0m                                 Traceback (most recent call last)",
      "Cell \u001B[0;32mIn[3], line 2\u001B[0m\n\u001B[1;32m      1\u001B[0m paulis_fixed \u001B[38;5;241m=\u001B[39m []\n\u001B[0;32m----> 2\u001B[0m \u001B[38;5;28;01mfor\u001B[39;00m i \u001B[38;5;129;01min\u001B[39;00m \u001B[38;5;28mrange\u001B[39m(\u001B[38;5;28mlen\u001B[39m(\u001B[43mpaulis\u001B[49m)):\n\u001B[1;32m      3\u001B[0m     \u001B[38;5;28;01mif\u001B[39;00m \u001B[38;5;129;01mnot\u001B[39;00m np\u001B[38;5;241m.\u001B[39mallclose(values[:, i], \u001B[38;5;241m0\u001B[39m) \u001B[38;5;129;01mand\u001B[39;00m np\u001B[38;5;241m.\u001B[39mallclose(values[:, i], \u001B[38;5;241m1\u001B[39m):\n\u001B[1;32m      4\u001B[0m         paulis_fixed\u001B[38;5;241m.\u001B[39mappend(paulis[i])\n",
      "\u001B[0;31mNameError\u001B[0m: name 'paulis' is not defined"
     ]
    }
   ],
   "execution_count": 3
  },
  {
   "cell_type": "code",
   "source": [
    "len(paulis_fixed) / len(paulis), 2**-num_qubits"
   ],
   "metadata": {
    "collapsed": false,
    "ExecuteTime": {
     "end_time": "2024-04-08T11:01:34.517410Z",
     "start_time": "2024-04-08T11:01:34.509180Z"
    }
   },
   "id": "2c9300564d2e3c27",
   "outputs": [],
   "execution_count": null
  },
  {
   "cell_type": "code",
   "source": [
    "np.abs(values).mean(axis=0)"
   ],
   "metadata": {
    "collapsed": false,
    "ExecuteTime": {
     "end_time": "2024-04-08T11:01:34.743449Z",
     "start_time": "2024-04-08T11:01:34.703105Z"
    }
   },
   "id": "ed51d179e9931810",
   "outputs": [
    {
     "ename": "NameError",
     "evalue": "name 'np' is not defined",
     "output_type": "error",
     "traceback": [
      "\u001B[0;31m---------------------------------------------------------------------------\u001B[0m",
      "\u001B[0;31mNameError\u001B[0m                                 Traceback (most recent call last)",
      "Cell \u001B[0;32mIn[4], line 1\u001B[0m\n\u001B[0;32m----> 1\u001B[0m \u001B[43mnp\u001B[49m\u001B[38;5;241m.\u001B[39mabs(values)\u001B[38;5;241m.\u001B[39mmean(axis\u001B[38;5;241m=\u001B[39m\u001B[38;5;241m0\u001B[39m)\n",
      "\u001B[0;31mNameError\u001B[0m: name 'np' is not defined"
     ]
    }
   ],
   "execution_count": 4
  },
  {
   "cell_type": "markdown",
   "source": [
    "observables = all_local_two_body_pauli(num_qubits)\n",
    "\n",
    "num_samples = 300\n",
    "seed = 41\n",
    "\n",
    "uniform_variances = vqa.uniform_variance(observables, num_samples=num_samples, rng=seed)\n",
    "clifford_variances = vqa.clifford_variance(observables, num_samples=num_samples, rng=seed)\n",
    "print('expected', 2**-num_qubits)\n",
    "print(f'uniform var: {uniform_variances.mean()} std: {uniform_variances.std()}')\n",
    "print(f'clifford var: {clifford_variances.mean()} std: {clifford_variances.std()}')"
   ],
   "metadata": {
    "collapsed": false
   },
   "id": "4bcfb42a77eee02a"
  },
  {
   "cell_type": "markdown",
   "source": [
    "# Shallowing"
   ],
   "metadata": {
    "collapsed": false
   },
   "id": "a6a34725e264041b"
  },
  {
   "cell_type": "code",
   "source": [
    "exp = ShallowingExperiment('95')\n",
    "schedule = [0.95, 0.96, 0.97, 0.98, 0.99]\n",
    "num_qubits = 4\n",
    "num_layers = 50\n",
    "num_clifford = 5\n",
    "num_samples = 50\n",
    "exp.run(num_qubits, num_layers, num_clifford, num_samples, schedule)"
   ],
   "metadata": {
    "collapsed": false,
    "ExecuteTime": {
     "end_time": "2024-04-08T11:01:34.981082Z",
     "start_time": "2024-04-08T11:01:34.936933Z"
    }
   },
   "id": "8e0c92b7cc4876d8",
   "outputs": [
    {
     "ename": "NameError",
     "evalue": "name 'ShallowingExperiment' is not defined",
     "output_type": "error",
     "traceback": [
      "\u001B[0;31m---------------------------------------------------------------------------\u001B[0m",
      "\u001B[0;31mNameError\u001B[0m                                 Traceback (most recent call last)",
      "Cell \u001B[0;32mIn[5], line 1\u001B[0m\n\u001B[0;32m----> 1\u001B[0m exp \u001B[38;5;241m=\u001B[39m \u001B[43mShallowingExperiment\u001B[49m(\u001B[38;5;124m'\u001B[39m\u001B[38;5;124m95\u001B[39m\u001B[38;5;124m'\u001B[39m)\n\u001B[1;32m      2\u001B[0m schedule \u001B[38;5;241m=\u001B[39m [\u001B[38;5;241m0.95\u001B[39m, \u001B[38;5;241m0.96\u001B[39m, \u001B[38;5;241m0.97\u001B[39m, \u001B[38;5;241m0.98\u001B[39m, \u001B[38;5;241m0.99\u001B[39m]\n\u001B[1;32m      3\u001B[0m num_qubits \u001B[38;5;241m=\u001B[39m \u001B[38;5;241m4\u001B[39m\n",
      "\u001B[0;31mNameError\u001B[0m: name 'ShallowingExperiment' is not defined"
     ]
    }
   ],
   "execution_count": 5
  },
  {
   "cell_type": "code",
   "source": [
    "exp.plot_results()\n",
    "plt.yscale('log')"
   ],
   "metadata": {
    "collapsed": false,
    "ExecuteTime": {
     "end_time": "2024-04-08T11:01:35.074299Z",
     "start_time": "2024-04-08T11:01:35.003720Z"
    }
   },
   "id": "c00dce005a28c648",
   "outputs": [
    {
     "ename": "NameError",
     "evalue": "name 'exp' is not defined",
     "output_type": "error",
     "traceback": [
      "\u001B[0;31m---------------------------------------------------------------------------\u001B[0m",
      "\u001B[0;31mNameError\u001B[0m                                 Traceback (most recent call last)",
      "Cell \u001B[0;32mIn[6], line 1\u001B[0m\n\u001B[0;32m----> 1\u001B[0m \u001B[43mexp\u001B[49m\u001B[38;5;241m.\u001B[39mplot_results()\n\u001B[1;32m      2\u001B[0m plt\u001B[38;5;241m.\u001B[39myscale(\u001B[38;5;124m'\u001B[39m\u001B[38;5;124mlog\u001B[39m\u001B[38;5;124m'\u001B[39m)\n",
      "\u001B[0;31mNameError\u001B[0m: name 'exp' is not defined"
     ]
    }
   ],
   "execution_count": 6
  },
  {
   "cell_type": "code",
   "source": [
    "shexperiment = ShallowingExperiment.load('shtest')"
   ],
   "metadata": {
    "collapsed": false,
    "ExecuteTime": {
     "end_time": "2024-04-08T11:01:35.272174Z",
     "start_time": "2024-04-08T11:01:35.230905Z"
    }
   },
   "id": "ac1081f6f8d7d4ed",
   "outputs": [
    {
     "ename": "NameError",
     "evalue": "name 'ShallowingExperiment' is not defined",
     "output_type": "error",
     "traceback": [
      "\u001B[0;31m---------------------------------------------------------------------------\u001B[0m",
      "\u001B[0;31mNameError\u001B[0m                                 Traceback (most recent call last)",
      "Cell \u001B[0;32mIn[7], line 1\u001B[0m\n\u001B[0;32m----> 1\u001B[0m shexperiment \u001B[38;5;241m=\u001B[39m \u001B[43mShallowingExperiment\u001B[49m\u001B[38;5;241m.\u001B[39mload(\u001B[38;5;124m'\u001B[39m\u001B[38;5;124mshtest\u001B[39m\u001B[38;5;124m'\u001B[39m)\n",
      "\u001B[0;31mNameError\u001B[0m: name 'ShallowingExperiment' is not defined"
     ]
    }
   ],
   "execution_count": 7
  },
  {
   "cell_type": "code",
   "source": [
    "num_qubits = 6\n",
    "num_layers = 100\n",
    "shexperiment.run(num_qubits, num_layers, 5, 50)"
   ],
   "metadata": {
    "collapsed": false,
    "ExecuteTime": {
     "end_time": "2024-04-08T11:01:35.529835Z",
     "start_time": "2024-04-08T11:01:35.485644Z"
    }
   },
   "id": "baa6d0167605747f",
   "outputs": [
    {
     "ename": "NameError",
     "evalue": "name 'shexperiment' is not defined",
     "output_type": "error",
     "traceback": [
      "\u001B[0;31m---------------------------------------------------------------------------\u001B[0m",
      "\u001B[0;31mNameError\u001B[0m                                 Traceback (most recent call last)",
      "Cell \u001B[0;32mIn[8], line 3\u001B[0m\n\u001B[1;32m      1\u001B[0m num_qubits \u001B[38;5;241m=\u001B[39m \u001B[38;5;241m6\u001B[39m\n\u001B[1;32m      2\u001B[0m num_layers \u001B[38;5;241m=\u001B[39m \u001B[38;5;241m100\u001B[39m\n\u001B[0;32m----> 3\u001B[0m \u001B[43mshexperiment\u001B[49m\u001B[38;5;241m.\u001B[39mrun(num_qubits, num_layers, \u001B[38;5;241m5\u001B[39m, \u001B[38;5;241m50\u001B[39m)\n",
      "\u001B[0;31mNameError\u001B[0m: name 'shexperiment' is not defined"
     ]
    }
   ],
   "execution_count": 8
  },
  {
   "cell_type": "code",
   "source": [
    "shexperiment.plot_results()\n",
    "plt.yscale('log')"
   ],
   "metadata": {
    "collapsed": false,
    "ExecuteTime": {
     "end_time": "2024-04-08T11:01:35.620717Z",
     "start_time": "2024-04-08T11:01:35.581255Z"
    }
   },
   "id": "49c393b584ec44ec",
   "outputs": [
    {
     "ename": "NameError",
     "evalue": "name 'shexperiment' is not defined",
     "output_type": "error",
     "traceback": [
      "\u001B[0;31m---------------------------------------------------------------------------\u001B[0m",
      "\u001B[0;31mNameError\u001B[0m                                 Traceback (most recent call last)",
      "Cell \u001B[0;32mIn[9], line 1\u001B[0m\n\u001B[0;32m----> 1\u001B[0m \u001B[43mshexperiment\u001B[49m\u001B[38;5;241m.\u001B[39mplot_results()\n\u001B[1;32m      2\u001B[0m plt\u001B[38;5;241m.\u001B[39myscale(\u001B[38;5;124m'\u001B[39m\u001B[38;5;124mlog\u001B[39m\u001B[38;5;124m'\u001B[39m)\n",
      "\u001B[0;31mNameError\u001B[0m: name 'shexperiment' is not defined"
     ]
    }
   ],
   "execution_count": 9
  },
  {
   "cell_type": "code",
   "source": [
    "uniform_bp_exp = UniformBPExperiement.load('uniform_test')\n"
   ],
   "metadata": {
    "collapsed": false,
    "ExecuteTime": {
     "end_time": "2024-04-08T11:01:35.798392Z",
     "start_time": "2024-04-08T11:01:35.764155Z"
    }
   },
   "id": "7beafbf1687afe7e",
   "outputs": [
    {
     "ename": "NameError",
     "evalue": "name 'UniformBPExperiement' is not defined",
     "output_type": "error",
     "traceback": [
      "\u001B[0;31m---------------------------------------------------------------------------\u001B[0m",
      "\u001B[0;31mNameError\u001B[0m                                 Traceback (most recent call last)",
      "Cell \u001B[0;32mIn[10], line 1\u001B[0m\n\u001B[0;32m----> 1\u001B[0m uniform_bp_exp \u001B[38;5;241m=\u001B[39m \u001B[43mUniformBPExperiement\u001B[49m\u001B[38;5;241m.\u001B[39mload(\u001B[38;5;124m'\u001B[39m\u001B[38;5;124muniform_test\u001B[39m\u001B[38;5;124m'\u001B[39m)\n",
      "\u001B[0;31mNameError\u001B[0m: name 'UniformBPExperiement' is not defined"
     ]
    }
   ],
   "execution_count": 10
  },
  {
   "cell_type": "code",
   "source": [
    "uniform_bp_exp = UniformBPExperiement.load('uniform_test')\n",
    "uniform_bp_exp.run([8], range(10, 50+1, 10), 10)"
   ],
   "metadata": {
    "collapsed": false,
    "ExecuteTime": {
     "end_time": "2024-04-08T11:01:35.931194Z",
     "start_time": "2024-04-08T11:01:35.892969Z"
    }
   },
   "id": "4c2b733751e62172",
   "outputs": [
    {
     "ename": "NameError",
     "evalue": "name 'UniformBPExperiement' is not defined",
     "output_type": "error",
     "traceback": [
      "\u001B[0;31m---------------------------------------------------------------------------\u001B[0m",
      "\u001B[0;31mNameError\u001B[0m                                 Traceback (most recent call last)",
      "Cell \u001B[0;32mIn[11], line 1\u001B[0m\n\u001B[0;32m----> 1\u001B[0m uniform_bp_exp \u001B[38;5;241m=\u001B[39m \u001B[43mUniformBPExperiement\u001B[49m\u001B[38;5;241m.\u001B[39mload(\u001B[38;5;124m'\u001B[39m\u001B[38;5;124muniform_test\u001B[39m\u001B[38;5;124m'\u001B[39m)\n\u001B[1;32m      2\u001B[0m uniform_bp_exp\u001B[38;5;241m.\u001B[39mrun([\u001B[38;5;241m8\u001B[39m], \u001B[38;5;28mrange\u001B[39m(\u001B[38;5;241m10\u001B[39m, \u001B[38;5;241m50\u001B[39m\u001B[38;5;241m+\u001B[39m\u001B[38;5;241m1\u001B[39m, \u001B[38;5;241m10\u001B[39m), \u001B[38;5;241m10\u001B[39m)\n",
      "\u001B[0;31mNameError\u001B[0m: name 'UniformBPExperiement' is not defined"
     ]
    }
   ],
   "execution_count": 11
  },
  {
   "cell_type": "markdown",
   "source": [
    "# Uniform BP"
   ],
   "metadata": {
    "collapsed": false
   },
   "id": "6aaa9e03407d599e"
  },
  {
   "cell_type": "code",
   "source": [
    "uniform_bp_exp.plot_results()"
   ],
   "metadata": {
    "collapsed": false,
    "ExecuteTime": {
     "end_time": "2024-04-08T11:01:35.996374Z",
     "start_time": "2024-04-08T11:01:35.946424Z"
    }
   },
   "id": "cbd2381b68abef10",
   "outputs": [
    {
     "ename": "NameError",
     "evalue": "name 'uniform_bp_exp' is not defined",
     "output_type": "error",
     "traceback": [
      "\u001B[0;31m---------------------------------------------------------------------------\u001B[0m",
      "\u001B[0;31mNameError\u001B[0m                                 Traceback (most recent call last)",
      "Cell \u001B[0;32mIn[12], line 1\u001B[0m\n\u001B[0;32m----> 1\u001B[0m \u001B[43muniform_bp_exp\u001B[49m\u001B[38;5;241m.\u001B[39mplot_results()\n",
      "\u001B[0;31mNameError\u001B[0m: name 'uniform_bp_exp' is not defined"
     ]
    }
   ],
   "execution_count": 12
  },
  {
   "cell_type": "code",
   "source": [
    "uniform_bp_exp.results[2][10].mean()"
   ],
   "metadata": {
    "collapsed": false,
    "ExecuteTime": {
     "end_time": "2024-04-08T11:01:36.112764Z",
     "start_time": "2024-04-08T11:01:36.076311Z"
    }
   },
   "id": "2330198ff9c87188",
   "outputs": [
    {
     "ename": "NameError",
     "evalue": "name 'uniform_bp_exp' is not defined",
     "output_type": "error",
     "traceback": [
      "\u001B[0;31m---------------------------------------------------------------------------\u001B[0m",
      "\u001B[0;31mNameError\u001B[0m                                 Traceback (most recent call last)",
      "Cell \u001B[0;32mIn[13], line 1\u001B[0m\n\u001B[0;32m----> 1\u001B[0m \u001B[43muniform_bp_exp\u001B[49m\u001B[38;5;241m.\u001B[39mresults[\u001B[38;5;241m2\u001B[39m][\u001B[38;5;241m10\u001B[39m]\u001B[38;5;241m.\u001B[39mmean()\n",
      "\u001B[0;31mNameError\u001B[0m: name 'uniform_bp_exp' is not defined"
     ]
    }
   ],
   "execution_count": 13
  },
  {
   "cell_type": "code",
   "source": [
    "uniform_bp_exp.save()"
   ],
   "metadata": {
    "collapsed": false,
    "ExecuteTime": {
     "end_time": "2024-04-08T11:01:36.215600Z",
     "start_time": "2024-04-08T11:01:36.177954Z"
    }
   },
   "id": "59ed7fecdf031792",
   "outputs": [
    {
     "ename": "NameError",
     "evalue": "name 'uniform_bp_exp' is not defined",
     "output_type": "error",
     "traceback": [
      "\u001B[0;31m---------------------------------------------------------------------------\u001B[0m",
      "\u001B[0;31mNameError\u001B[0m                                 Traceback (most recent call last)",
      "Cell \u001B[0;32mIn[14], line 1\u001B[0m\n\u001B[0;32m----> 1\u001B[0m \u001B[43muniform_bp_exp\u001B[49m\u001B[38;5;241m.\u001B[39msave()\n",
      "\u001B[0;31mNameError\u001B[0m: name 'uniform_bp_exp' is not defined"
     ]
    }
   ],
   "execution_count": 14
  },
  {
   "cell_type": "code",
   "source": [
    "UniformBPExperiement.load(uniform_bp_exp.name)"
   ],
   "metadata": {
    "collapsed": false,
    "ExecuteTime": {
     "end_time": "2024-04-08T11:01:36.365488Z",
     "start_time": "2024-04-08T11:01:36.317303Z"
    }
   },
   "id": "d7c3248ec0393226",
   "outputs": [
    {
     "ename": "NameError",
     "evalue": "name 'UniformBPExperiement' is not defined",
     "output_type": "error",
     "traceback": [
      "\u001B[0;31m---------------------------------------------------------------------------\u001B[0m",
      "\u001B[0;31mNameError\u001B[0m                                 Traceback (most recent call last)",
      "Cell \u001B[0;32mIn[15], line 1\u001B[0m\n\u001B[0;32m----> 1\u001B[0m \u001B[43mUniformBPExperiement\u001B[49m\u001B[38;5;241m.\u001B[39mload(uniform_bp_exp\u001B[38;5;241m.\u001B[39mname)\n",
      "\u001B[0;31mNameError\u001B[0m: name 'UniformBPExperiement' is not defined"
     ]
    }
   ],
   "execution_count": 15
  }
 ],
 "metadata": {
  "kernelspec": {
   "display_name": "Python 3",
   "language": "python",
   "name": "python3"
  },
  "language_info": {
   "codemirror_mode": {
    "name": "ipython",
    "version": 2
   },
   "file_extension": ".py",
   "mimetype": "text/x-python",
   "name": "python",
   "nbconvert_exporter": "python",
   "pygments_lexer": "ipython2",
   "version": "2.7.6"
  }
 },
 "nbformat": 4,
 "nbformat_minor": 5
}
